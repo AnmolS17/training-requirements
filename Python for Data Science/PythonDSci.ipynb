{
 "cells": [
  {
   "cell_type": "markdown",
   "id": "027f5c1b",
   "metadata": {},
   "source": [
    "# Python For Data Science: Studying Gapminder Data"
   ]
  },
  {
   "cell_type": "markdown",
   "id": "1377f35a",
   "metadata": {},
   "source": [
    "Packages used in this study:"
   ]
  },
  {
   "cell_type": "code",
   "execution_count": 14,
   "id": "97ce5fdc",
   "metadata": {},
   "outputs": [],
   "source": [
    "import pandas as pd\n",
    "import numpy as np\n",
    "import plotly.express as px\n",
    "from scipy import stats\n",
    "from statsmodels.stats.multicomp import pairwise_tukeyhsd"
   ]
  },
  {
   "cell_type": "markdown",
   "id": "d07a0825",
   "metadata": {},
   "source": [
    "We will be using these packages when they are needed while answering the questions."
   ]
  },
  {
   "cell_type": "markdown",
   "id": "6f959b3d",
   "metadata": {},
   "source": [
    "**Q1: Read in the `gapminder_clean.csv` data as a `pandas` `DataFrame`.**   \n",
    "Here we will read the data in `gapminder_clean.csv`. We can also try to understand the data we have briefly by using `.head()` and `.info()`. "
   ]
  },
  {
   "cell_type": "code",
   "execution_count": 15,
   "id": "a9d8ba02",
   "metadata": {},
   "outputs": [
    {
     "data": {
      "text/html": [
       "<div>\n",
       "<style scoped>\n",
       "    .dataframe tbody tr th:only-of-type {\n",
       "        vertical-align: middle;\n",
       "    }\n",
       "\n",
       "    .dataframe tbody tr th {\n",
       "        vertical-align: top;\n",
       "    }\n",
       "\n",
       "    .dataframe thead th {\n",
       "        text-align: right;\n",
       "    }\n",
       "</style>\n",
       "<table border=\"1\" class=\"dataframe\">\n",
       "  <thead>\n",
       "    <tr style=\"text-align: right;\">\n",
       "      <th></th>\n",
       "      <th>Country Name</th>\n",
       "      <th>Year</th>\n",
       "      <th>Agriculture, value added (% of GDP)</th>\n",
       "      <th>CO2 emissions (metric tons per capita)</th>\n",
       "      <th>Domestic credit provided by financial sector (% of GDP)</th>\n",
       "      <th>Electric power consumption (kWh per capita)</th>\n",
       "      <th>Energy use (kg of oil equivalent per capita)</th>\n",
       "      <th>Exports of goods and services (% of GDP)</th>\n",
       "      <th>Fertility rate, total (births per woman)</th>\n",
       "      <th>GDP growth (annual %)</th>\n",
       "      <th>Imports of goods and services (% of GDP)</th>\n",
       "      <th>Industry, value added (% of GDP)</th>\n",
       "      <th>Inflation, GDP deflator (annual %)</th>\n",
       "      <th>Life expectancy at birth, total (years)</th>\n",
       "      <th>Population density (people per sq. km of land area)</th>\n",
       "      <th>Services, etc., value added (% of GDP)</th>\n",
       "      <th>pop</th>\n",
       "      <th>continent</th>\n",
       "      <th>gdpPercap</th>\n",
       "    </tr>\n",
       "  </thead>\n",
       "  <tbody>\n",
       "    <tr>\n",
       "      <th>0</th>\n",
       "      <td>Afghanistan</td>\n",
       "      <td>1962</td>\n",
       "      <td>NaN</td>\n",
       "      <td>0.073781</td>\n",
       "      <td>21.276422</td>\n",
       "      <td>NaN</td>\n",
       "      <td>NaN</td>\n",
       "      <td>4.878051</td>\n",
       "      <td>7.450</td>\n",
       "      <td>NaN</td>\n",
       "      <td>9.349593</td>\n",
       "      <td>NaN</td>\n",
       "      <td>NaN</td>\n",
       "      <td>33.219902</td>\n",
       "      <td>14.312061</td>\n",
       "      <td>NaN</td>\n",
       "      <td>10267083.0</td>\n",
       "      <td>Asia</td>\n",
       "      <td>853.100710</td>\n",
       "    </tr>\n",
       "    <tr>\n",
       "      <th>1</th>\n",
       "      <td>Afghanistan</td>\n",
       "      <td>1967</td>\n",
       "      <td>NaN</td>\n",
       "      <td>0.123782</td>\n",
       "      <td>9.917662</td>\n",
       "      <td>NaN</td>\n",
       "      <td>NaN</td>\n",
       "      <td>6.772908</td>\n",
       "      <td>7.450</td>\n",
       "      <td>NaN</td>\n",
       "      <td>14.209827</td>\n",
       "      <td>NaN</td>\n",
       "      <td>NaN</td>\n",
       "      <td>35.389415</td>\n",
       "      <td>15.881812</td>\n",
       "      <td>NaN</td>\n",
       "      <td>11537966.0</td>\n",
       "      <td>Asia</td>\n",
       "      <td>836.197138</td>\n",
       "    </tr>\n",
       "    <tr>\n",
       "      <th>2</th>\n",
       "      <td>Afghanistan</td>\n",
       "      <td>1972</td>\n",
       "      <td>NaN</td>\n",
       "      <td>0.130820</td>\n",
       "      <td>18.880833</td>\n",
       "      <td>NaN</td>\n",
       "      <td>NaN</td>\n",
       "      <td>14.763231</td>\n",
       "      <td>7.450</td>\n",
       "      <td>NaN</td>\n",
       "      <td>18.105850</td>\n",
       "      <td>NaN</td>\n",
       "      <td>NaN</td>\n",
       "      <td>37.610146</td>\n",
       "      <td>17.947027</td>\n",
       "      <td>NaN</td>\n",
       "      <td>13079460.0</td>\n",
       "      <td>Asia</td>\n",
       "      <td>739.981106</td>\n",
       "    </tr>\n",
       "    <tr>\n",
       "      <th>3</th>\n",
       "      <td>Afghanistan</td>\n",
       "      <td>1977</td>\n",
       "      <td>NaN</td>\n",
       "      <td>0.183118</td>\n",
       "      <td>13.836822</td>\n",
       "      <td>NaN</td>\n",
       "      <td>NaN</td>\n",
       "      <td>11.662904</td>\n",
       "      <td>7.449</td>\n",
       "      <td>NaN</td>\n",
       "      <td>14.823175</td>\n",
       "      <td>NaN</td>\n",
       "      <td>NaN</td>\n",
       "      <td>40.110146</td>\n",
       "      <td>19.998926</td>\n",
       "      <td>NaN</td>\n",
       "      <td>14880372.0</td>\n",
       "      <td>Asia</td>\n",
       "      <td>786.113360</td>\n",
       "    </tr>\n",
       "    <tr>\n",
       "      <th>4</th>\n",
       "      <td>Afghanistan</td>\n",
       "      <td>1982</td>\n",
       "      <td>NaN</td>\n",
       "      <td>0.165879</td>\n",
       "      <td>NaN</td>\n",
       "      <td>NaN</td>\n",
       "      <td>NaN</td>\n",
       "      <td>NaN</td>\n",
       "      <td>7.450</td>\n",
       "      <td>NaN</td>\n",
       "      <td>NaN</td>\n",
       "      <td>NaN</td>\n",
       "      <td>NaN</td>\n",
       "      <td>43.230732</td>\n",
       "      <td>19.402324</td>\n",
       "      <td>NaN</td>\n",
       "      <td>12881816.0</td>\n",
       "      <td>Asia</td>\n",
       "      <td>978.011439</td>\n",
       "    </tr>\n",
       "  </tbody>\n",
       "</table>\n",
       "</div>"
      ],
      "text/plain": [
       "  Country Name  Year  Agriculture, value added (% of GDP)  \\\n",
       "0  Afghanistan  1962                                  NaN   \n",
       "1  Afghanistan  1967                                  NaN   \n",
       "2  Afghanistan  1972                                  NaN   \n",
       "3  Afghanistan  1977                                  NaN   \n",
       "4  Afghanistan  1982                                  NaN   \n",
       "\n",
       "   CO2 emissions (metric tons per capita)  \\\n",
       "0                                0.073781   \n",
       "1                                0.123782   \n",
       "2                                0.130820   \n",
       "3                                0.183118   \n",
       "4                                0.165879   \n",
       "\n",
       "   Domestic credit provided by financial sector (% of GDP)  \\\n",
       "0                                          21.276422         \n",
       "1                                           9.917662         \n",
       "2                                          18.880833         \n",
       "3                                          13.836822         \n",
       "4                                                NaN         \n",
       "\n",
       "   Electric power consumption (kWh per capita)  \\\n",
       "0                                          NaN   \n",
       "1                                          NaN   \n",
       "2                                          NaN   \n",
       "3                                          NaN   \n",
       "4                                          NaN   \n",
       "\n",
       "   Energy use (kg of oil equivalent per capita)  \\\n",
       "0                                           NaN   \n",
       "1                                           NaN   \n",
       "2                                           NaN   \n",
       "3                                           NaN   \n",
       "4                                           NaN   \n",
       "\n",
       "   Exports of goods and services (% of GDP)  \\\n",
       "0                                  4.878051   \n",
       "1                                  6.772908   \n",
       "2                                 14.763231   \n",
       "3                                 11.662904   \n",
       "4                                       NaN   \n",
       "\n",
       "   Fertility rate, total (births per woman)  GDP growth (annual %)  \\\n",
       "0                                     7.450                    NaN   \n",
       "1                                     7.450                    NaN   \n",
       "2                                     7.450                    NaN   \n",
       "3                                     7.449                    NaN   \n",
       "4                                     7.450                    NaN   \n",
       "\n",
       "   Imports of goods and services (% of GDP)  Industry, value added (% of GDP)  \\\n",
       "0                                  9.349593                               NaN   \n",
       "1                                 14.209827                               NaN   \n",
       "2                                 18.105850                               NaN   \n",
       "3                                 14.823175                               NaN   \n",
       "4                                       NaN                               NaN   \n",
       "\n",
       "   Inflation, GDP deflator (annual %)  \\\n",
       "0                                 NaN   \n",
       "1                                 NaN   \n",
       "2                                 NaN   \n",
       "3                                 NaN   \n",
       "4                                 NaN   \n",
       "\n",
       "   Life expectancy at birth, total (years)  \\\n",
       "0                                33.219902   \n",
       "1                                35.389415   \n",
       "2                                37.610146   \n",
       "3                                40.110146   \n",
       "4                                43.230732   \n",
       "\n",
       "   Population density (people per sq. km of land area)  \\\n",
       "0                                          14.312061     \n",
       "1                                          15.881812     \n",
       "2                                          17.947027     \n",
       "3                                          19.998926     \n",
       "4                                          19.402324     \n",
       "\n",
       "   Services, etc., value added (% of GDP)         pop continent   gdpPercap  \n",
       "0                                     NaN  10267083.0      Asia  853.100710  \n",
       "1                                     NaN  11537966.0      Asia  836.197138  \n",
       "2                                     NaN  13079460.0      Asia  739.981106  \n",
       "3                                     NaN  14880372.0      Asia  786.113360  \n",
       "4                                     NaN  12881816.0      Asia  978.011439  "
      ]
     },
     "metadata": {},
     "output_type": "display_data"
    },
    {
     "name": "stdout",
     "output_type": "stream",
     "text": [
      "<class 'pandas.core.frame.DataFrame'>\n",
      "Int64Index: 2607 entries, 0 to 2606\n",
      "Data columns (total 19 columns):\n",
      " #   Column                                                   Non-Null Count  Dtype  \n",
      "---  ------                                                   --------------  -----  \n",
      " 0   Country Name                                             2607 non-null   object \n",
      " 1   Year                                                     2607 non-null   int64  \n",
      " 2   Agriculture, value added (% of GDP)                      1428 non-null   float64\n",
      " 3   CO2 emissions (metric tons per capita)                   2193 non-null   float64\n",
      " 4   Domestic credit provided by financial sector (% of GDP)  1743 non-null   float64\n",
      " 5   Electric power consumption (kWh per capita)              1369 non-null   float64\n",
      " 6   Energy use (kg of oil equivalent per capita)             1410 non-null   float64\n",
      " 7   Exports of goods and services (% of GDP)                 1809 non-null   float64\n",
      " 8   Fertility rate, total (births per woman)                 2423 non-null   float64\n",
      " 9   GDP growth (annual %)                                    1916 non-null   float64\n",
      " 10  Imports of goods and services (% of GDP)                 1809 non-null   float64\n",
      " 11  Industry, value added (% of GDP)                         1418 non-null   float64\n",
      " 12  Inflation, GDP deflator (annual %)                       1901 non-null   float64\n",
      " 13  Life expectancy at birth, total (years)                  2418 non-null   float64\n",
      " 14  Population density (people per sq. km of land area)      2558 non-null   float64\n",
      " 15  Services, etc., value added (% of GDP)                   1421 non-null   float64\n",
      " 16  pop                                                      1284 non-null   float64\n",
      " 17  continent                                                1284 non-null   object \n",
      " 18  gdpPercap                                                1284 non-null   float64\n",
      "dtypes: float64(16), int64(1), object(2)\n",
      "memory usage: 407.3+ KB\n"
     ]
    },
    {
     "data": {
      "text/plain": [
       "None"
      ]
     },
     "metadata": {},
     "output_type": "display_data"
    }
   ],
   "source": [
    "gapminder_df = pd.read_csv(\"gapminder_clean.csv\", index_col=0)\n",
    "display(gapminder_df.head())\n",
    "display(gapminder_df.info())"
   ]
  },
  {
   "cell_type": "markdown",
   "id": "2ae60170",
   "metadata": {},
   "source": [
    "We can see from the data that it contains various demographics to study and compare the growth of many countries from `1962` to `2007`."
   ]
  },
  {
   "cell_type": "markdown",
   "id": "57764c5b",
   "metadata": {},
   "source": [
    "**Q2: Filter the data to include only rows where `Year` is `1962` and then make a scatter plot comparing `'CO2 emissions (metric tons per capita)'` and `gdpPercap` for the filtered data.**   \n",
    "\n",
    "Here we filter the data for the year `1962` and then plot the `CO2 emissions (metric tons per capita)` vs `GDP per capita`. There was an outliner on the top right side thus I decided to go with log scale for both x and y axis. You can omit the same and observe the difference it makes on the plot."
   ]
  },
  {
   "cell_type": "code",
   "execution_count": 16,
   "id": "69d98689",
   "metadata": {},
   "outputs": [
    {
     "data": {
      "image/png": "[encoded data removed]",
      "text/plain": [
       "<Figure size 864x432 with 1 Axes>"
      ]
     },
     "metadata": {
      "needs_background": "light"
     },
     "output_type": "display_data"
    }
   ],
   "source": [
    "year_1962 = gapminder_df[gapminder_df[\"Year\"]==1962]\n",
    "year_1962.plot(kind=\"scatter\", x='CO2 emissions (metric tons per capita)', \n",
    "                  y=\"gdpPercap\", logx=True, logy=True, ylabel=\"GDP per capita\",\n",
    "                 xlabel=\"Carbon dioxide emissions(metric tons per capita)\",\n",
    "                 title= \"GDP per capita vs CO2 emissions (metric tons per capita)\",\n",
    "                 figsize=(12,6));"
   ]
  },
  {
   "cell_type": "markdown",
   "id": "389da6e9",
   "metadata": {},
   "source": [
    "We can observe from the plot that there is a linear correlation between the `GDP per capita` and `CO2 emissions`. This maybe caused because developed countries (those with high GDP per capita) would produce much more CO2, this depends on the commodities used by the average person (carbon footprint) in daily life as well as the industrial development of the country."
   ]
  },
  {
   "cell_type": "markdown",
   "id": "17d0d5d8",
   "metadata": {},
   "source": [
    "**Q3: On the filtered data, calculate the Pearson correlation of `'CO2 emissions (metric tons per capita)'` and `gdpPercap`. What is the Pearson R value and associated p value?**  \n",
    "To calculate the Pearson correlation, it is important that the input doesn't consist of null values as that will end up in errors. Thus, we will have to either remove the rows with null values or replace the values, here we are going with removing the rows with null values for the required columns, as replacing them could end up effecting our Pearson correlation.\n"
   ]
  },
  {
   "cell_type": "code",
   "execution_count": 17,
   "id": "5c1c5744",
   "metadata": {},
   "outputs": [
    {
     "name": "stdout",
     "output_type": "stream",
     "text": [
      "Pearson R value: 0.9261. Associated p value: 1.129e-46.\n"
     ]
    }
   ],
   "source": [
    "year_1962 = year_1962.dropna(subset=(['CO2 emissions (metric tons per capita)',\n",
    "                                      \"gdpPercap\"]))\n",
    "r_value, p_value = stats.pearsonr(year_1962['CO2 emissions (metric tons per capita)'], \n",
    "                                 year_1962['gdpPercap'])\n",
    "print(f\"Pearson R value: {r_value:.4g}. Associated p value: {p_value:.4g}.\") "
   ]
  },
  {
   "cell_type": "markdown",
   "id": "2e170ada",
   "metadata": {},
   "source": [
    "First, we assume that in our null hypothesis that there is no correlation between our data sets. But when we do our test for Pearson correlation, we get a Pearson `r_value` `0.9261>0`, thus showing us that the data sets used are positively (direct variation) correlated.    \n",
    "But then comes the question is our test significant?      \n",
    "We have an associated `p_value` of `1.129e-46` which is good as lower the p-value, the greater the statistical significance of the observed difference. That means we can reject our null hypothesis and our data is positively correlated and is statistically significant.     "
   ]
  },
  {
   "cell_type": "markdown",
   "id": "894eab27",
   "metadata": {},
   "source": [
    "**Q4: On the unfiltered data, answer \"In what year is the correlation between `'CO2 emissions (metric tons per capita)'` and `'gdpPercap'` the strongest?\" Filter the dataset to that year for the next step.**  \n",
    "To find the year where the correlation is strongest, we just need to perform the Pearson correlation test for every year in the dataset and then sort the Pearson R value for all the years in descending order. \n",
    " "
   ]
  },
  {
   "cell_type": "code",
   "execution_count": 18,
   "id": "fdc06300",
   "metadata": {},
   "outputs": [
    {
     "data": {
      "text/html": [
       "<div>\n",
       "<style scoped>\n",
       "    .dataframe tbody tr th:only-of-type {\n",
       "        vertical-align: middle;\n",
       "    }\n",
       "\n",
       "    .dataframe tbody tr th {\n",
       "        vertical-align: top;\n",
       "    }\n",
       "\n",
       "    .dataframe thead th {\n",
       "        text-align: right;\n",
       "    }\n",
       "</style>\n",
       "<table border=\"1\" class=\"dataframe\">\n",
       "  <thead>\n",
       "    <tr style=\"text-align: right;\">\n",
       "      <th></th>\n",
       "      <th>Year</th>\n",
       "      <th>R value</th>\n",
       "      <th>p-value</th>\n",
       "    </tr>\n",
       "  </thead>\n",
       "  <tbody>\n",
       "    <tr>\n",
       "      <th>1</th>\n",
       "      <td>1967</td>\n",
       "      <td>0.9388</td>\n",
       "      <td>3.397e-53</td>\n",
       "    </tr>\n",
       "    <tr>\n",
       "      <th>0</th>\n",
       "      <td>1962</td>\n",
       "      <td>0.9261</td>\n",
       "      <td>1.129e-46</td>\n",
       "    </tr>\n",
       "    <tr>\n",
       "      <th>2</th>\n",
       "      <td>1972</td>\n",
       "      <td>0.8429</td>\n",
       "      <td>1.824e-32</td>\n",
       "    </tr>\n",
       "    <tr>\n",
       "      <th>4</th>\n",
       "      <td>1982</td>\n",
       "      <td>0.8166</td>\n",
       "      <td>5.566e-29</td>\n",
       "    </tr>\n",
       "    <tr>\n",
       "      <th>5</th>\n",
       "      <td>1987</td>\n",
       "      <td>0.8096</td>\n",
       "      <td>3.9e-28</td>\n",
       "    </tr>\n",
       "  </tbody>\n",
       "</table>\n",
       "</div>"
      ],
      "text/plain": [
       "   Year R value    p-value\n",
       "1  1967  0.9388  3.397e-53\n",
       "0  1962  0.9261  1.129e-46\n",
       "2  1972  0.8429  1.824e-32\n",
       "4  1982  0.8166  5.566e-29\n",
       "5  1987  0.8096    3.9e-28"
      ]
     },
     "metadata": {},
     "output_type": "display_data"
    },
    {
     "data": {
      "text/html": [
       "<div>\n",
       "<style scoped>\n",
       "    .dataframe tbody tr th:only-of-type {\n",
       "        vertical-align: middle;\n",
       "    }\n",
       "\n",
       "    .dataframe tbody tr th {\n",
       "        vertical-align: top;\n",
       "    }\n",
       "\n",
       "    .dataframe thead th {\n",
       "        text-align: right;\n",
       "    }\n",
       "</style>\n",
       "<table border=\"1\" class=\"dataframe\">\n",
       "  <thead>\n",
       "    <tr style=\"text-align: right;\">\n",
       "      <th></th>\n",
       "      <th>Country Name</th>\n",
       "      <th>Year</th>\n",
       "      <th>Agriculture, value added (% of GDP)</th>\n",
       "      <th>CO2 emissions (metric tons per capita)</th>\n",
       "      <th>Domestic credit provided by financial sector (% of GDP)</th>\n",
       "      <th>Electric power consumption (kWh per capita)</th>\n",
       "      <th>Energy use (kg of oil equivalent per capita)</th>\n",
       "      <th>Exports of goods and services (% of GDP)</th>\n",
       "      <th>Fertility rate, total (births per woman)</th>\n",
       "      <th>GDP growth (annual %)</th>\n",
       "      <th>Imports of goods and services (% of GDP)</th>\n",
       "      <th>Industry, value added (% of GDP)</th>\n",
       "      <th>Inflation, GDP deflator (annual %)</th>\n",
       "      <th>Life expectancy at birth, total (years)</th>\n",
       "      <th>Population density (people per sq. km of land area)</th>\n",
       "      <th>Services, etc., value added (% of GDP)</th>\n",
       "      <th>pop</th>\n",
       "      <th>continent</th>\n",
       "      <th>gdpPercap</th>\n",
       "    </tr>\n",
       "  </thead>\n",
       "  <tbody>\n",
       "    <tr>\n",
       "      <th>1</th>\n",
       "      <td>Afghanistan</td>\n",
       "      <td>1967</td>\n",
       "      <td>NaN</td>\n",
       "      <td>0.123782</td>\n",
       "      <td>9.917662</td>\n",
       "      <td>NaN</td>\n",
       "      <td>NaN</td>\n",
       "      <td>6.772908</td>\n",
       "      <td>7.450</td>\n",
       "      <td>NaN</td>\n",
       "      <td>14.209827</td>\n",
       "      <td>NaN</td>\n",
       "      <td>NaN</td>\n",
       "      <td>35.389415</td>\n",
       "      <td>15.881812</td>\n",
       "      <td>NaN</td>\n",
       "      <td>11537966.0</td>\n",
       "      <td>Asia</td>\n",
       "      <td>836.197138</td>\n",
       "    </tr>\n",
       "    <tr>\n",
       "      <th>11</th>\n",
       "      <td>Albania</td>\n",
       "      <td>1967</td>\n",
       "      <td>NaN</td>\n",
       "      <td>1.363746</td>\n",
       "      <td>NaN</td>\n",
       "      <td>NaN</td>\n",
       "      <td>NaN</td>\n",
       "      <td>NaN</td>\n",
       "      <td>5.394</td>\n",
       "      <td>NaN</td>\n",
       "      <td>NaN</td>\n",
       "      <td>NaN</td>\n",
       "      <td>NaN</td>\n",
       "      <td>66.287220</td>\n",
       "      <td>71.737153</td>\n",
       "      <td>NaN</td>\n",
       "      <td>1984060.0</td>\n",
       "      <td>Europe</td>\n",
       "      <td>2760.196931</td>\n",
       "    </tr>\n",
       "    <tr>\n",
       "      <th>21</th>\n",
       "      <td>Algeria</td>\n",
       "      <td>1967</td>\n",
       "      <td>10.330666</td>\n",
       "      <td>0.632118</td>\n",
       "      <td>27.977088</td>\n",
       "      <td>NaN</td>\n",
       "      <td>NaN</td>\n",
       "      <td>23.434417</td>\n",
       "      <td>7.672</td>\n",
       "      <td>9.452963</td>\n",
       "      <td>21.631769</td>\n",
       "      <td>42.385889</td>\n",
       "      <td>1.312041</td>\n",
       "      <td>49.187512</td>\n",
       "      <td>5.606908</td>\n",
       "      <td>47.28345</td>\n",
       "      <td>12760499.0</td>\n",
       "      <td>Africa</td>\n",
       "      <td>3246.991771</td>\n",
       "    </tr>\n",
       "    <tr>\n",
       "      <th>31</th>\n",
       "      <td>American Samoa</td>\n",
       "      <td>1967</td>\n",
       "      <td>NaN</td>\n",
       "      <td>NaN</td>\n",
       "      <td>NaN</td>\n",
       "      <td>NaN</td>\n",
       "      <td>NaN</td>\n",
       "      <td>NaN</td>\n",
       "      <td>NaN</td>\n",
       "      <td>NaN</td>\n",
       "      <td>NaN</td>\n",
       "      <td>NaN</td>\n",
       "      <td>NaN</td>\n",
       "      <td>NaN</td>\n",
       "      <td>125.580000</td>\n",
       "      <td>NaN</td>\n",
       "      <td>NaN</td>\n",
       "      <td>NaN</td>\n",
       "      <td>NaN</td>\n",
       "    </tr>\n",
       "    <tr>\n",
       "      <th>41</th>\n",
       "      <td>Andorra</td>\n",
       "      <td>1967</td>\n",
       "      <td>NaN</td>\n",
       "      <td>NaN</td>\n",
       "      <td>NaN</td>\n",
       "      <td>NaN</td>\n",
       "      <td>NaN</td>\n",
       "      <td>NaN</td>\n",
       "      <td>NaN</td>\n",
       "      <td>NaN</td>\n",
       "      <td>NaN</td>\n",
       "      <td>NaN</td>\n",
       "      <td>NaN</td>\n",
       "      <td>NaN</td>\n",
       "      <td>44.159574</td>\n",
       "      <td>NaN</td>\n",
       "      <td>NaN</td>\n",
       "      <td>NaN</td>\n",
       "      <td>NaN</td>\n",
       "    </tr>\n",
       "  </tbody>\n",
       "</table>\n",
       "</div>"
      ],
      "text/plain": [
       "      Country Name  Year  Agriculture, value added (% of GDP)  \\\n",
       "1      Afghanistan  1967                                  NaN   \n",
       "11         Albania  1967                                  NaN   \n",
       "21         Algeria  1967                            10.330666   \n",
       "31  American Samoa  1967                                  NaN   \n",
       "41         Andorra  1967                                  NaN   \n",
       "\n",
       "    CO2 emissions (metric tons per capita)  \\\n",
       "1                                 0.123782   \n",
       "11                                1.363746   \n",
       "21                                0.632118   \n",
       "31                                     NaN   \n",
       "41                                     NaN   \n",
       "\n",
       "    Domestic credit provided by financial sector (% of GDP)  \\\n",
       "1                                            9.917662         \n",
       "11                                                NaN         \n",
       "21                                          27.977088         \n",
       "31                                                NaN         \n",
       "41                                                NaN         \n",
       "\n",
       "    Electric power consumption (kWh per capita)  \\\n",
       "1                                           NaN   \n",
       "11                                          NaN   \n",
       "21                                          NaN   \n",
       "31                                          NaN   \n",
       "41                                          NaN   \n",
       "\n",
       "    Energy use (kg of oil equivalent per capita)  \\\n",
       "1                                            NaN   \n",
       "11                                           NaN   \n",
       "21                                           NaN   \n",
       "31                                           NaN   \n",
       "41                                           NaN   \n",
       "\n",
       "    Exports of goods and services (% of GDP)  \\\n",
       "1                                   6.772908   \n",
       "11                                       NaN   \n",
       "21                                 23.434417   \n",
       "31                                       NaN   \n",
       "41                                       NaN   \n",
       "\n",
       "    Fertility rate, total (births per woman)  GDP growth (annual %)  \\\n",
       "1                                      7.450                    NaN   \n",
       "11                                     5.394                    NaN   \n",
       "21                                     7.672               9.452963   \n",
       "31                                       NaN                    NaN   \n",
       "41                                       NaN                    NaN   \n",
       "\n",
       "    Imports of goods and services (% of GDP)  \\\n",
       "1                                  14.209827   \n",
       "11                                       NaN   \n",
       "21                                 21.631769   \n",
       "31                                       NaN   \n",
       "41                                       NaN   \n",
       "\n",
       "    Industry, value added (% of GDP)  Inflation, GDP deflator (annual %)  \\\n",
       "1                                NaN                                 NaN   \n",
       "11                               NaN                                 NaN   \n",
       "21                         42.385889                            1.312041   \n",
       "31                               NaN                                 NaN   \n",
       "41                               NaN                                 NaN   \n",
       "\n",
       "    Life expectancy at birth, total (years)  \\\n",
       "1                                 35.389415   \n",
       "11                                66.287220   \n",
       "21                                49.187512   \n",
       "31                                      NaN   \n",
       "41                                      NaN   \n",
       "\n",
       "    Population density (people per sq. km of land area)  \\\n",
       "1                                           15.881812     \n",
       "11                                          71.737153     \n",
       "21                                           5.606908     \n",
       "31                                         125.580000     \n",
       "41                                          44.159574     \n",
       "\n",
       "    Services, etc., value added (% of GDP)         pop continent    gdpPercap  \n",
       "1                                      NaN  11537966.0      Asia   836.197138  \n",
       "11                                     NaN   1984060.0    Europe  2760.196931  \n",
       "21                                47.28345  12760499.0    Africa  3246.991771  \n",
       "31                                     NaN         NaN       NaN          NaN  \n",
       "41                                     NaN         NaN       NaN          NaN  "
      ]
     },
     "metadata": {},
     "output_type": "display_data"
    }
   ],
   "source": [
    "years = list(gapminder_df[\"Year\"].unique())\n",
    "pearson_corr = pd.DataFrame(columns=['Year', 'R value', 'p-value'])\n",
    "\n",
    "def pearson_corr_year(year):\n",
    "    year_x = gapminder_df[gapminder_df[\"Year\"]==year]\n",
    "    year_x = year_x.dropna(subset=(['CO2 emissions (metric tons per capita)', \"gdpPercap\"]))\n",
    "    r_val, p_val = stats.pearsonr(year_x['CO2 emissions (metric tons per capita)'],\n",
    "                                 year_x['gdpPercap'])\n",
    "    return ({'Year':year, 'R value':f'{r_val:.4g}', 'p-value':f'{p_val:.4g}'})\n",
    "\n",
    "pearson_corr = pearson_corr.append(list(map(pearson_corr_year, years)))  \n",
    "pearson_corr.sort_values(by='R value', ascending=False, inplace=True)\n",
    "display(pearson_corr.head())   # The year with max correlation was 1967\n",
    "year_highest_corr = gapminder_df.loc[gapminder_df[\"Year\"]==pearson_corr.iloc[0,0]]\n",
    "display(year_highest_corr.head())"
   ]
  },
  {
   "cell_type": "markdown",
   "id": "24015227",
   "metadata": {},
   "source": [
    "From the above we find out that in `1967` the correlation between `'CO2 emissions (metric tons per capita)'` and `'gdpPercap'` was the strongest."
   ]
  },
  {
   "cell_type": "markdown",
   "id": "45bee747",
   "metadata": {},
   "source": [
    "**Q5: Using plotly or bokeh, create an interactive scatter plot comparing `'CO2 emissions (metric tons per capita)'` and `gdpPercap`, where the point size is determined by `pop` (population) and the color is determined by the `continent`.**   \n",
    "As mentioned in the previous question, we will be using the dataset for the year where the correlation is the highest, i.e. `1967`."
   ]
  },
  {
   "cell_type": "code",
   "execution_count": 19,
   "id": "ed3f002b",
   "metadata": {},
   "outputs": [
    {
     "data": {
      "application/vnd.plotly.v1+json": {
       "config": {
        "plotlyServerURL": "https://plot.ly"
       },
       "data": [
        {
         "hovertemplate": "<b>%{hovertext}</b><br><br>continent=Asia<br>GDP per capita=%{x}<br>CO2 emissions (metric tons per capita)=%{y}<br>pop=%{marker.size}<extra></extra>",
         "hovertext": [
          "Afghanistan",
          "Bahrain",
          "Cambodia",
          "China",
          "India",
          "Indonesia",
          "Iraq",
          "Israel",
          "Japan",
          "Jordan",
          "Kuwait",
          "Lebanon",
          "Mongolia",
          "Myanmar",
          "Nepal",
          "Oman",
          "Pakistan",
          "Philippines",
          "Saudi Arabia",
          "Singapore",
          "Sri Lanka",
          "Thailand",
          "Vietnam"
         ],
         "legendgroup": "Asia",
         "marker": {
          "color": "#636efa",
          "size": [
           11537966,
           202182,
           6960067,
           754550000,
           506000000,
           109343000,
           8519282,
           2693585,
           100825279,
           1255058,
           575003,
           2186894,
           1149500,
           25870271,
           11261690,
           714775,
           60641899,
           35356600,
           5618198,
           1977600,
           11737396,
           34024249,
           39463910
          ],
          "sizemode": "area",
          "sizeref": 75455,
          "symbol": "circle"
         },
         "mode": "markers",
         "name": "Asia",
         "orientation": "v",
         "showlegend": true,
         "type": "scatter",
         "x": [
          836.1971382,
          14804.6727,
          523.4323142,
          612.7056934,
          700.7706107000001,
          762.4317721,
          8931.459811,
          8393.741404,
          9847.788607,
          2741.796252,
          80894.88326,
          6006.983042,
          1226.04113,
          349,
          676.4422254,
          4720.942687,
          942.4082588,
          1814.12743,
          16903.04886,
          4977.41854,
          1135.514326,
          1295.46066,
          637.1232887
         ],
         "xaxis": "x",
         "y": [
          0.123782381421,
          5.12101242081,
          0.0624360387486,
          0.574162146975,
          0.331763432432,
          0.23191547809,
          2.05575631533,
          4.93341748634,
          4.86355784562,
          1.0719834839700002,
          43.4283027016,
          1.64225486815,
          1.83477215037,
          0.143519517019,
          0.0188098863912,
          0.205537806177,
          0.402522332305,
          0.555413076261,
          4.90876421118,
          1.54645934466,
          0.25192412202,
          0.360202673298,
          0.574906353177
         ],
         "yaxis": "y"
        },
        {
         "hovertemplate": "<b>%{hovertext}</b><br><br>continent=Europe<br>GDP per capita=%{x}<br>CO2 emissions (metric tons per capita)=%{y}<br>pop=%{marker.size}<extra></extra>",
         "hovertext": [
          "Albania",
          "Austria",
          "Belgium",
          "Bulgaria",
          "Denmark",
          "Finland",
          "France",
          "Greece",
          "Hungary",
          "Iceland",
          "Ireland",
          "Italy",
          "Netherlands",
          "Norway",
          "Poland",
          "Portugal",
          "Romania",
          "Spain",
          "Sweden",
          "Switzerland",
          "Turkey",
          "United Kingdom"
         ],
         "legendgroup": "Europe",
         "marker": {
          "color": "#EF553B",
          "size": [
           1984060,
           7376998,
           9556500,
           8310226,
           4838800,
           4605744,
           49569000,
           8716441,
           10223422,
           198676,
           2900100,
           52667100,
           12596822,
           3786019,
           31785378,
           9103000,
           19284814,
           32850275,
           7867931,
           6063000,
           33411317,
           54959000
          ],
          "sizemode": "area",
          "sizeref": 75455,
          "symbol": "circle"
         },
         "mode": "markers",
         "name": "Europe",
         "orientation": "v",
         "showlegend": true,
         "type": "scatter",
         "x": [
          2760.196931,
          12834.6024,
          13149.04119,
          5577.0028,
          15937.21123,
          10921.63626,
          12999.91766,
          8513.097016,
          9326.64467,
          13319.89568,
          7655.568963,
          10022.40131,
          15363.25136,
          16361.87647,
          6557.152776,
          6361.517993,
          6470.866545,
          7993.512294,
          15258.29697,
          22966.14432,
          2826.3563870000003,
          14142.85089
         ],
         "xaxis": "x",
         "y": [
          1.36374630011,
          5.41773672705,
          11.2172567535,
          6.63836916108,
          10.1493005476,
          6.21338658857,
          7.3064221599,
          2.24941398567,
          5.758242269149999,
          7.269387323839999,
          5.65504728764,
          4.43148255688,
          8.47605463669,
          5.1072949704,
          8.105834013680001,
          1.39828723131,
          4.71631855487,
          2.64722755876,
          8.770023402589999,
          5.43460087436,
          1.03313907211,
          10.7841045545
         ],
         "yaxis": "y"
        },
        {
         "hovertemplate": "<b>%{hovertext}</b><br><br>continent=Africa<br>GDP per capita=%{x}<br>CO2 emissions (metric tons per capita)=%{y}<br>pop=%{marker.size}<extra></extra>",
         "hovertext": [
          "Algeria",
          "Angola",
          "Benin",
          "Burkina Faso",
          "Burundi",
          "Cameroon",
          "Central African Republic",
          "Chad",
          "Comoros",
          "Cote d'Ivoire",
          "Djibouti",
          "Equatorial Guinea",
          "Ethiopia",
          "Gabon",
          "Ghana",
          "Guinea",
          "Guinea-Bissau",
          "Kenya",
          "Liberia",
          "Libya",
          "Madagascar",
          "Malawi",
          "Mali",
          "Mauritania",
          "Mauritius",
          "Morocco",
          "Mozambique",
          "Niger",
          "Nigeria",
          "Rwanda",
          "Sao Tome and Principe",
          "Senegal",
          "Sierra Leone",
          "Somalia",
          "South Africa",
          "Sudan",
          "Swaziland",
          "Tanzania",
          "Togo",
          "Tunisia",
          "Uganda",
          "Zambia",
          "Zimbabwe"
         ],
         "legendgroup": "Africa",
         "marker": {
          "color": "#00cc96",
          "size": [
           12760499,
           5247469,
           2427334,
           5127935,
           3330989,
           6335506,
           1733638,
           3495967,
           217378,
           4744870,
           127617,
           259864,
           27860297,
           489004,
           8490213,
           3451418,
           601287,
           10191512,
           1279406,
           1759224,
           6334556,
           4147252,
           5212416,
           1230542,
           789309,
           14770296,
           8680909,
           4534062,
           47287752,
           3451079,
           70787,
           3965841,
           2662190,
           3428839,
           20997321,
           12716129,
           420690,
           12607312,
           1735550,
           4786986,
           8900294,
           3900000,
           4995432
          ],
          "sizemode": "area",
          "sizeref": 75455,
          "symbol": "circle"
         },
         "mode": "markers",
         "name": "Africa",
         "orientation": "v",
         "showlegend": true,
         "type": "scatter",
         "x": [
          3246.991771,
          5522.776375,
          1035.831411,
          794.8265597,
          412.97751360000007,
          1508.453148,
          1136.056615,
          1196.810565,
          1876.029643,
          2052.050473,
          3020.050513,
          915.5960025,
          516.1186438,
          8358.761987,
          1125.69716,
          708.7595409,
          715.5806402000001,
          1056.736457,
          713.6036482999999,
          18772.75169,
          1634.047282,
          495.5147806,
          545.0098873,
          1421.145193,
          2475.387562,
          1711.04477,
          566.6691539,
          1054.384891,
          1014.514104,
          510.9637142,
          1384.840593,
          1612.404632,
          1206.043465,
          1284.7331800000002,
          7114.477970999999,
          1687.997641,
          2613.101665,
          848.2186575,
          1477.59676,
          1932.3601670000005,
          908.9185217,
          1777.077318,
          569.7950712
         ],
         "xaxis": "x",
         "y": [
          0.632118426889,
          0.166658588848,
          0.0523195961148,
          0.0192168474009,
          0.0147354429891,
          0.0729810151442,
          0.0533441408437,
          0.0341490827003,
          0.0856623590204,
          0.324270273072,
          0.669756398256,
          0.0908814105401,
          0.0408827807982,
          1.82744493336,
          0.185683744295,
          0.180529006335,
          0.0707397168393,
          0.266146233454,
          0.465652918101,
          9.94130993774,
          0.138895338975,
          0.086039155676,
          0.0392007077217,
          0.188179057955,
          0.6361795955439999,
          0.3615857767970001,
          0.216165510896,
          0.0318543481335,
          0.244682890582,
          0.0118002652184999,
          0.1620797359809999,
          0.181319271624,
          0.105440879922,
          0.0704483235701,
          6.46564779364,
          0.250771072594,
          0.55253014742,
          0.141879278158,
          0.10672264605,
          0.638870927594,
          0.0944460734361,
          1.2636279603,
          1.12296052314
         ],
         "yaxis": "y"
        },
        {
         "hovertemplate": "<b>%{hovertext}</b><br><br>continent=Americas<br>GDP per capita=%{x}<br>CO2 emissions (metric tons per capita)=%{y}<br>pop=%{marker.size}<extra></extra>",
         "hovertext": [
          "Argentina",
          "Bolivia",
          "Brazil",
          "Canada",
          "Chile",
          "Colombia",
          "Costa Rica",
          "Cuba",
          "Dominican Republic",
          "Ecuador",
          "El Salvador",
          "Guatemala",
          "Haiti",
          "Honduras",
          "Jamaica",
          "Mexico",
          "Nicaragua",
          "Panama",
          "Paraguay",
          "Peru",
          "Trinidad and Tobago",
          "United States",
          "Uruguay"
         ],
         "legendgroup": "Americas",
         "marker": {
          "color": "#ab63fa",
          "size": [
           22934225,
           4040665,
           88049823,
           20819767,
           8858908,
           19764027,
           1588717,
           8139332,
           4049146,
           5432424,
           3232927,
           4690773,
           4318137,
           2500689,
           1861096,
           47995559,
           1865490,
           1405486,
           2287985,
           12132200,
           960155,
           198712000,
           2748579
          ],
          "sizemode": "area",
          "sizeref": 75455,
          "symbol": "circle"
         },
         "mode": "markers",
         "name": "Americas",
         "orientation": "v",
         "showlegend": true,
         "type": "scatter",
         "x": [
          8052.953020999999,
          2586.886053,
          3429.864357,
          16076.58803,
          5106.654313,
          2678.729839,
          4161.727834,
          5690.268015,
          1653.7230029999998,
          4579.074215,
          4358.595393,
          3242.531147,
          1452.057666,
          2538.269358,
          6124.703450999999,
          5754.733883,
          4643.393534000001,
          4421.009084,
          2299.376311,
          5788.09333,
          5621.368472,
          19530.36557,
          5444.61962
         ],
         "xaxis": "x",
         "y": [
          2.85816254619,
          0.446569679542,
          0.744966530874,
          13.8103545953,
          2.1409901271900003,
          1.21683476874,
          0.517145991263,
          1.90593276713,
          0.380469161164,
          0.465781970972,
          0.342459705043,
          0.397317380131,
          0.0585660070754,
          0.352498584235,
          2.14463346178,
          1.8996986330400003,
          0.493983688604,
          1.21812383412,
          0.213013396786,
          1.1118562074299998,
          5.00989828473,
          18.5983178822,
          1.77610139003
         ],
         "yaxis": "y"
        },
        {
         "hovertemplate": "<b>%{hovertext}</b><br><br>continent=Oceania<br>GDP per capita=%{x}<br>CO2 emissions (metric tons per capita)=%{y}<br>pop=%{marker.size}<extra></extra>",
         "hovertext": [
          "Australia",
          "New Zealand"
         ],
         "legendgroup": "Oceania",
         "marker": {
          "color": "#FFA15A",
          "size": [
           11872264,
           2728150
          ],
          "sizemode": "area",
          "sizeref": 75455,
          "symbol": "circle"
         },
         "mode": "markers",
         "name": "Oceania",
         "orientation": "v",
         "showlegend": true,
         "type": "scatter",
         "x": [
          14526.12465,
          14463.918930000002
         ],
         "xaxis": "x",
         "y": [
          10.9556247987,
          5.00761352373
         ],
         "yaxis": "y"
        }
       ],
       "layout": {
        "height": 600,
        "legend": {
         "itemsizing": "constant",
         "title": {
          "text": "continent"
         },
         "tracegroupgap": 0
        },
        "template": {
         "data": {
          "bar": [
           {
            "error_x": {
             "color": "#2a3f5f"
            },
            "error_y": {
             "color": "#2a3f5f"
            },
            "marker": {
             "line": {
              "color": "#E5ECF6",
              "width": 0.5
             },
             "pattern": {
              "fillmode": "overlay",
              "size": 10,
              "solidity": 0.2
             }
            },
            "type": "bar"
           }
          ],
          "barpolar": [
           {
            "marker": {
             "line": {
              "color": "#E5ECF6",
              "width": 0.5
             },
             "pattern": {
              "fillmode": "overlay",
              "size": 10,
              "solidity": 0.2
             }
            },
            "type": "barpolar"
           }
          ],
          "carpet": [
           {
            "aaxis": {
             "endlinecolor": "#2a3f5f",
             "gridcolor": "white",
             "linecolor": "white",
             "minorgridcolor": "white",
             "startlinecolor": "#2a3f5f"
            },
            "baxis": {
             "endlinecolor": "#2a3f5f",
             "gridcolor": "white",
             "linecolor": "white",
             "minorgridcolor": "white",
             "startlinecolor": "#2a3f5f"
            },
            "type": "carpet"
           }
          ],
          "choropleth": [
           {
            "colorbar": {
             "outlinewidth": 0,
             "ticks": ""
            },
            "type": "choropleth"
           }
          ],
          "contour": [
           {
            "colorbar": {
             "outlinewidth": 0,
             "ticks": ""
            },
            "colorscale": [
             [
              0,
              "#0d0887"
             ],
             [
              0.1111111111111111,
              "#46039f"
             ],
             [
              0.2222222222222222,
              "#7201a8"
             ],
             [
              0.3333333333333333,
              "#9c179e"
             ],
             [
              0.4444444444444444,
              "#bd3786"
             ],
             [
              0.5555555555555556,
              "#d8576b"
             ],
             [
              0.6666666666666666,
              "#ed7953"
             ],
             [
              0.7777777777777778,
              "#fb9f3a"
             ],
             [
              0.8888888888888888,
              "#fdca26"
             ],
             [
              1,
              "#f0f921"
             ]
            ],
            "type": "contour"
           }
          ],
          "contourcarpet": [
           {
            "colorbar": {
             "outlinewidth": 0,
             "ticks": ""
            },
            "type": "contourcarpet"
           }
          ],
          "heatmap": [
           {
            "colorbar": {
             "outlinewidth": 0,
             "ticks": ""
            },
            "colorscale": [
             [
              0,
              "#0d0887"
             ],
             [
              0.1111111111111111,
              "#46039f"
             ],
             [
              0.2222222222222222,
              "#7201a8"
             ],
             [
              0.3333333333333333,
              "#9c179e"
             ],
             [
              0.4444444444444444,
              "#bd3786"
             ],
             [
              0.5555555555555556,
              "#d8576b"
             ],
             [
              0.6666666666666666,
              "#ed7953"
             ],
             [
              0.7777777777777778,
              "#fb9f3a"
             ],
             [
              0.8888888888888888,
              "#fdca26"
             ],
             [
              1,
              "#f0f921"
             ]
            ],
            "type": "heatmap"
           }
          ],
          "heatmapgl": [
           {
            "colorbar": {
             "outlinewidth": 0,
             "ticks": ""
            },
            "colorscale": [
             [
              0,
              "#0d0887"
             ],
             [
              0.1111111111111111,
              "#46039f"
             ],
             [
              0.2222222222222222,
              "#7201a8"
             ],
             [
              0.3333333333333333,
              "#9c179e"
             ],
             [
              0.4444444444444444,
              "#bd3786"
             ],
             [
              0.5555555555555556,
              "#d8576b"
             ],
             [
              0.6666666666666666,
              "#ed7953"
             ],
             [
              0.7777777777777778,
              "#fb9f3a"
             ],
             [
              0.8888888888888888,
              "#fdca26"
             ],
             [
              1,
              "#f0f921"
             ]
            ],
            "type": "heatmapgl"
           }
          ],
          "histogram": [
           {
            "marker": {
             "pattern": {
              "fillmode": "overlay",
              "size": 10,
              "solidity": 0.2
             }
            },
            "type": "histogram"
           }
          ],
          "histogram2d": [
           {
            "colorbar": {
             "outlinewidth": 0,
             "ticks": ""
            },
            "colorscale": [
             [
              0,
              "#0d0887"
             ],
             [
              0.1111111111111111,
              "#46039f"
             ],
             [
              0.2222222222222222,
              "#7201a8"
             ],
             [
              0.3333333333333333,
              "#9c179e"
             ],
             [
              0.4444444444444444,
              "#bd3786"
             ],
             [
              0.5555555555555556,
              "#d8576b"
             ],
             [
              0.6666666666666666,
              "#ed7953"
             ],
             [
              0.7777777777777778,
              "#fb9f3a"
             ],
             [
              0.8888888888888888,
              "#fdca26"
             ],
             [
              1,
              "#f0f921"
             ]
            ],
            "type": "histogram2d"
           }
          ],
          "histogram2dcontour": [
           {
            "colorbar": {
             "outlinewidth": 0,
             "ticks": ""
            },
            "colorscale": [
             [
              0,
              "#0d0887"
             ],
             [
              0.1111111111111111,
              "#46039f"
             ],
             [
              0.2222222222222222,
              "#7201a8"
             ],
             [
              0.3333333333333333,
              "#9c179e"
             ],
             [
              0.4444444444444444,
              "#bd3786"
             ],
             [
              0.5555555555555556,
              "#d8576b"
             ],
             [
              0.6666666666666666,
              "#ed7953"
             ],
             [
              0.7777777777777778,
              "#fb9f3a"
             ],
             [
              0.8888888888888888,
              "#fdca26"
             ],
             [
              1,
              "#f0f921"
             ]
            ],
            "type": "histogram2dcontour"
           }
          ],
          "mesh3d": [
           {
            "colorbar": {
             "outlinewidth": 0,
             "ticks": ""
            },
            "type": "mesh3d"
           }
          ],
          "parcoords": [
           {
            "line": {
             "colorbar": {
              "outlinewidth": 0,
              "ticks": ""
             }
            },
            "type": "parcoords"
           }
          ],
          "pie": [
           {
            "automargin": true,
            "type": "pie"
           }
          ],
          "scatter": [
           {
            "marker": {
             "colorbar": {
              "outlinewidth": 0,
              "ticks": ""
             }
            },
            "type": "scatter"
           }
          ],
          "scatter3d": [
           {
            "line": {
             "colorbar": {
              "outlinewidth": 0,
              "ticks": ""
             }
            },
            "marker": {
             "colorbar": {
              "outlinewidth": 0,
              "ticks": ""
             }
            },
            "type": "scatter3d"
           }
          ],
          "scattercarpet": [
           {
            "marker": {
             "colorbar": {
              "outlinewidth": 0,
              "ticks": ""
             }
            },
            "type": "scattercarpet"
           }
          ],
          "scattergeo": [
           {
            "marker": {
             "colorbar": {
              "outlinewidth": 0,
              "ticks": ""
             }
            },
            "type": "scattergeo"
           }
          ],
          "scattergl": [
           {
            "marker": {
             "colorbar": {
              "outlinewidth": 0,
              "ticks": ""
             }
            },
            "type": "scattergl"
           }
          ],
          "scattermapbox": [
           {
            "marker": {
             "colorbar": {
              "outlinewidth": 0,
              "ticks": ""
             }
            },
            "type": "scattermapbox"
           }
          ],
          "scatterpolar": [
           {
            "marker": {
             "colorbar": {
              "outlinewidth": 0,
              "ticks": ""
             }
            },
            "type": "scatterpolar"
           }
          ],
          "scatterpolargl": [
           {
            "marker": {
             "colorbar": {
              "outlinewidth": 0,
              "ticks": ""
             }
            },
            "type": "scatterpolargl"
           }
          ],
          "scatterternary": [
           {
            "marker": {
             "colorbar": {
              "outlinewidth": 0,
              "ticks": ""
             }
            },
            "type": "scatterternary"
           }
          ],
          "surface": [
           {
            "colorbar": {
             "outlinewidth": 0,
             "ticks": ""
            },
            "colorscale": [
             [
              0,
              "#0d0887"
             ],
             [
              0.1111111111111111,
              "#46039f"
             ],
             [
              0.2222222222222222,
              "#7201a8"
             ],
             [
              0.3333333333333333,
              "#9c179e"
             ],
             [
              0.4444444444444444,
              "#bd3786"
             ],
             [
              0.5555555555555556,
              "#d8576b"
             ],
             [
              0.6666666666666666,
              "#ed7953"
             ],
             [
              0.7777777777777778,
              "#fb9f3a"
             ],
             [
              0.8888888888888888,
              "#fdca26"
             ],
             [
              1,
              "#f0f921"
             ]
            ],
            "type": "surface"
           }
          ],
          "table": [
           {
            "cells": {
             "fill": {
              "color": "#EBF0F8"
             },
             "line": {
              "color": "white"
             }
            },
            "header": {
             "fill": {
              "color": "#C8D4E3"
             },
             "line": {
              "color": "white"
             }
            },
            "type": "table"
           }
          ]
         },
         "layout": {
          "annotationdefaults": {
           "arrowcolor": "#2a3f5f",
           "arrowhead": 0,
           "arrowwidth": 1
          },
          "autotypenumbers": "strict",
          "coloraxis": {
           "colorbar": {
            "outlinewidth": 0,
            "ticks": ""
           }
          },
          "colorscale": {
           "diverging": [
            [
             0,
             "#8e0152"
            ],
            [
             0.1,
             "#c51b7d"
            ],
            [
             0.2,
             "#de77ae"
            ],
            [
             0.3,
             "#f1b6da"
            ],
            [
             0.4,
             "#fde0ef"
            ],
            [
             0.5,
             "#f7f7f7"
            ],
            [
             0.6,
             "#e6f5d0"
            ],
            [
             0.7,
             "#b8e186"
            ],
            [
             0.8,
             "#7fbc41"
            ],
            [
             0.9,
             "#4d9221"
            ],
            [
             1,
             "#276419"
            ]
           ],
           "sequential": [
            [
             0,
             "#0d0887"
            ],
            [
             0.1111111111111111,
             "#46039f"
            ],
            [
             0.2222222222222222,
             "#7201a8"
            ],
            [
             0.3333333333333333,
             "#9c179e"
            ],
            [
             0.4444444444444444,
             "#bd3786"
            ],
            [
             0.5555555555555556,
             "#d8576b"
            ],
            [
             0.6666666666666666,
             "#ed7953"
            ],
            [
             0.7777777777777778,
             "#fb9f3a"
            ],
            [
             0.8888888888888888,
             "#fdca26"
            ],
            [
             1,
             "#f0f921"
            ]
           ],
           "sequentialminus": [
            [
             0,
             "#0d0887"
            ],
            [
             0.1111111111111111,
             "#46039f"
            ],
            [
             0.2222222222222222,
             "#7201a8"
            ],
            [
             0.3333333333333333,
             "#9c179e"
            ],
            [
             0.4444444444444444,
             "#bd3786"
            ],
            [
             0.5555555555555556,
             "#d8576b"
            ],
            [
             0.6666666666666666,
             "#ed7953"
            ],
            [
             0.7777777777777778,
             "#fb9f3a"
            ],
            [
             0.8888888888888888,
             "#fdca26"
            ],
            [
             1,
             "#f0f921"
            ]
           ]
          },
          "colorway": [
           "#636efa",
           "#EF553B",
           "#00cc96",
           "#ab63fa",
           "#FFA15A",
           "#19d3f3",
           "#FF6692",
           "#B6E880",
           "#FF97FF",
           "#FECB52"
          ],
          "font": {
           "color": "#2a3f5f"
          },
          "geo": {
           "bgcolor": "white",
           "lakecolor": "white",
           "landcolor": "#E5ECF6",
           "showlakes": true,
           "showland": true,
           "subunitcolor": "white"
          },
          "hoverlabel": {
           "align": "left"
          },
          "hovermode": "closest",
          "mapbox": {
           "style": "light"
          },
          "paper_bgcolor": "white",
          "plot_bgcolor": "#E5ECF6",
          "polar": {
           "angularaxis": {
            "gridcolor": "white",
            "linecolor": "white",
            "ticks": ""
           },
           "bgcolor": "#E5ECF6",
           "radialaxis": {
            "gridcolor": "white",
            "linecolor": "white",
            "ticks": ""
           }
          },
          "scene": {
           "xaxis": {
            "backgroundcolor": "#E5ECF6",
            "gridcolor": "white",
            "gridwidth": 2,
            "linecolor": "white",
            "showbackground": true,
            "ticks": "",
            "zerolinecolor": "white"
           },
           "yaxis": {
            "backgroundcolor": "#E5ECF6",
            "gridcolor": "white",
            "gridwidth": 2,
            "linecolor": "white",
            "showbackground": true,
            "ticks": "",
            "zerolinecolor": "white"
           },
           "zaxis": {
            "backgroundcolor": "#E5ECF6",
            "gridcolor": "white",
            "gridwidth": 2,
            "linecolor": "white",
            "showbackground": true,
            "ticks": "",
            "zerolinecolor": "white"
           }
          },
          "shapedefaults": {
           "line": {
            "color": "#2a3f5f"
           }
          },
          "ternary": {
           "aaxis": {
            "gridcolor": "white",
            "linecolor": "white",
            "ticks": ""
           },
           "baxis": {
            "gridcolor": "white",
            "linecolor": "white",
            "ticks": ""
           },
           "bgcolor": "#E5ECF6",
           "caxis": {
            "gridcolor": "white",
            "linecolor": "white",
            "ticks": ""
           }
          },
          "title": {
           "x": 0.05
          },
          "xaxis": {
           "automargin": true,
           "gridcolor": "white",
           "linecolor": "white",
           "ticks": "",
           "title": {
            "standoff": 15
           },
           "zerolinecolor": "white",
           "zerolinewidth": 2
          },
          "yaxis": {
           "automargin": true,
           "gridcolor": "white",
           "linecolor": "white",
           "ticks": "",
           "title": {
            "standoff": 15
           },
           "zerolinecolor": "white",
           "zerolinewidth": 2
          }
         }
        },
        "title": {
         "text": "CO2 emissions(metric tons per capita) vs GDP per Capita"
        },
        "xaxis": {
         "anchor": "y",
         "domain": [
          0,
          1
         ],
         "title": {
          "text": "GDP per capita"
         },
         "type": "log"
        },
        "yaxis": {
         "anchor": "x",
         "domain": [
          0,
          1
         ],
         "title": {
          "text": "CO2 emissions (metric tons per capita)"
         },
         "type": "log"
        }
       }
      },
      "text/html": [
       "<div>                            <div id=\"6fc1ca40-3c90-48b1-b54f-a0ea29884438\" class=\"plotly-graph-div\" style=\"height:600px; width:100%;\"></div>            <script type=\"text/javascript\">                require([\"plotly\"], function(Plotly) {                    window.PLOTLYENV=window.PLOTLYENV || {};                                    if (document.getElementById(\"6fc1ca40-3c90-48b1-b54f-a0ea29884438\")) {                    Plotly.newPlot(                        \"6fc1ca40-3c90-48b1-b54f-a0ea29884438\",                        [{\"hovertemplate\":\"<b>%{hovertext}</b><br><br>continent=Asia<br>GDP per capita=%{x}<br>CO2 emissions (metric tons per capita)=%{y}<br>pop=%{marker.size}<extra></extra>\",\"hovertext\":[\"Afghanistan\",\"Bahrain\",\"Cambodia\",\"China\",\"India\",\"Indonesia\",\"Iraq\",\"Israel\",\"Japan\",\"Jordan\",\"Kuwait\",\"Lebanon\",\"Mongolia\",\"Myanmar\",\"Nepal\",\"Oman\",\"Pakistan\",\"Philippines\",\"Saudi Arabia\",\"Singapore\",\"Sri Lanka\",\"Thailand\",\"Vietnam\"],\"legendgroup\":\"Asia\",\"marker\":{\"color\":\"#636efa\",\"size\":[11537966.0,202182.0,6960067.0,754550000.0,506000000.0,109343000.0,8519282.0,2693585.0,100825279.0,1255058.0,575003.0,2186894.0,1149500.0,25870271.0,11261690.0,714775.0,60641899.0,35356600.0,5618198.0,1977600.0,11737396.0,34024249.0,39463910.0],\"sizemode\":\"area\",\"sizeref\":75455.0,\"symbol\":\"circle\"},\"mode\":\"markers\",\"name\":\"Asia\",\"orientation\":\"v\",\"showlegend\":true,\"type\":\"scatter\",\"x\":[836.1971382,14804.6727,523.4323142,612.7056934,700.7706107000001,762.4317721,8931.459811,8393.741404,9847.788607,2741.796252,80894.88326,6006.983042,1226.04113,349.0,676.4422254,4720.942687,942.4082588,1814.12743,16903.04886,4977.41854,1135.514326,1295.46066,637.1232887],\"xaxis\":\"x\",\"y\":[0.123782381421,5.12101242081,0.0624360387486,0.574162146975,0.331763432432,0.23191547809,2.05575631533,4.93341748634,4.86355784562,1.0719834839700002,43.4283027016,1.64225486815,1.83477215037,0.143519517019,0.0188098863912,0.205537806177,0.402522332305,0.555413076261,4.90876421118,1.54645934466,0.25192412202,0.360202673298,0.574906353177],\"yaxis\":\"y\"},{\"hovertemplate\":\"<b>%{hovertext}</b><br><br>continent=Europe<br>GDP per capita=%{x}<br>CO2 emissions (metric tons per capita)=%{y}<br>pop=%{marker.size}<extra></extra>\",\"hovertext\":[\"Albania\",\"Austria\",\"Belgium\",\"Bulgaria\",\"Denmark\",\"Finland\",\"France\",\"Greece\",\"Hungary\",\"Iceland\",\"Ireland\",\"Italy\",\"Netherlands\",\"Norway\",\"Poland\",\"Portugal\",\"Romania\",\"Spain\",\"Sweden\",\"Switzerland\",\"Turkey\",\"United Kingdom\"],\"legendgroup\":\"Europe\",\"marker\":{\"color\":\"#EF553B\",\"size\":[1984060.0,7376998.0,9556500.0,8310226.0,4838800.0,4605744.0,49569000.0,8716441.0,10223422.0,198676.0,2900100.0,52667100.0,12596822.0,3786019.0,31785378.0,9103000.0,19284814.0,32850275.0,7867931.0,6063000.0,33411317.0,54959000.0],\"sizemode\":\"area\",\"sizeref\":75455.0,\"symbol\":\"circle\"},\"mode\":\"markers\",\"name\":\"Europe\",\"orientation\":\"v\",\"showlegend\":true,\"type\":\"scatter\",\"x\":[2760.196931,12834.6024,13149.04119,5577.0028,15937.21123,10921.63626,12999.91766,8513.097016,9326.64467,13319.89568,7655.568963,10022.40131,15363.25136,16361.87647,6557.152776,6361.517993,6470.866545,7993.512294,15258.29697,22966.14432,2826.3563870000003,14142.85089],\"xaxis\":\"x\",\"y\":[1.36374630011,5.41773672705,11.2172567535,6.63836916108,10.1493005476,6.21338658857,7.3064221599,2.24941398567,5.758242269149999,7.269387323839999,5.65504728764,4.43148255688,8.47605463669,5.1072949704,8.105834013680001,1.39828723131,4.71631855487,2.64722755876,8.770023402589999,5.43460087436,1.03313907211,10.7841045545],\"yaxis\":\"y\"},{\"hovertemplate\":\"<b>%{hovertext}</b><br><br>continent=Africa<br>GDP per capita=%{x}<br>CO2 emissions (metric tons per capita)=%{y}<br>pop=%{marker.size}<extra></extra>\",\"hovertext\":[\"Algeria\",\"Angola\",\"Benin\",\"Burkina Faso\",\"Burundi\",\"Cameroon\",\"Central African Republic\",\"Chad\",\"Comoros\",\"Cote d'Ivoire\",\"Djibouti\",\"Equatorial Guinea\",\"Ethiopia\",\"Gabon\",\"Ghana\",\"Guinea\",\"Guinea-Bissau\",\"Kenya\",\"Liberia\",\"Libya\",\"Madagascar\",\"Malawi\",\"Mali\",\"Mauritania\",\"Mauritius\",\"Morocco\",\"Mozambique\",\"Niger\",\"Nigeria\",\"Rwanda\",\"Sao Tome and Principe\",\"Senegal\",\"Sierra Leone\",\"Somalia\",\"South Africa\",\"Sudan\",\"Swaziland\",\"Tanzania\",\"Togo\",\"Tunisia\",\"Uganda\",\"Zambia\",\"Zimbabwe\"],\"legendgroup\":\"Africa\",\"marker\":{\"color\":\"#00cc96\",\"size\":[12760499.0,5247469.0,2427334.0,5127935.0,3330989.0,6335506.0,1733638.0,3495967.0,217378.0,4744870.0,127617.0,259864.0,27860297.0,489004.0,8490213.0,3451418.0,601287.0,10191512.0,1279406.0,1759224.0,6334556.0,4147252.0,5212416.0,1230542.0,789309.0,14770296.0,8680909.0,4534062.0,47287752.0,3451079.0,70787.0,3965841.0,2662190.0,3428839.0,20997321.0,12716129.0,420690.0,12607312.0,1735550.0,4786986.0,8900294.0,3900000.0,4995432.0],\"sizemode\":\"area\",\"sizeref\":75455.0,\"symbol\":\"circle\"},\"mode\":\"markers\",\"name\":\"Africa\",\"orientation\":\"v\",\"showlegend\":true,\"type\":\"scatter\",\"x\":[3246.991771,5522.776375,1035.831411,794.8265597,412.97751360000007,1508.453148,1136.056615,1196.810565,1876.029643,2052.050473,3020.050513,915.5960025,516.1186438,8358.761987,1125.69716,708.7595409,715.5806402000001,1056.736457,713.6036482999999,18772.75169,1634.047282,495.5147806,545.0098873,1421.145193,2475.387562,1711.04477,566.6691539,1054.384891,1014.514104,510.9637142,1384.840593,1612.404632,1206.043465,1284.7331800000002,7114.477970999999,1687.997641,2613.101665,848.2186575,1477.59676,1932.3601670000005,908.9185217,1777.077318,569.7950712],\"xaxis\":\"x\",\"y\":[0.632118426889,0.166658588848,0.0523195961148,0.0192168474009,0.0147354429891,0.0729810151442,0.0533441408437,0.0341490827003,0.0856623590204,0.324270273072,0.669756398256,0.0908814105401,0.0408827807982,1.82744493336,0.185683744295,0.180529006335,0.0707397168393,0.266146233454,0.465652918101,9.94130993774,0.138895338975,0.086039155676,0.0392007077217,0.188179057955,0.6361795955439999,0.3615857767970001,0.216165510896,0.0318543481335,0.244682890582,0.0118002652184999,0.1620797359809999,0.181319271624,0.105440879922,0.0704483235701,6.46564779364,0.250771072594,0.55253014742,0.141879278158,0.10672264605,0.638870927594,0.0944460734361,1.2636279603,1.12296052314],\"yaxis\":\"y\"},{\"hovertemplate\":\"<b>%{hovertext}</b><br><br>continent=Americas<br>GDP per capita=%{x}<br>CO2 emissions (metric tons per capita)=%{y}<br>pop=%{marker.size}<extra></extra>\",\"hovertext\":[\"Argentina\",\"Bolivia\",\"Brazil\",\"Canada\",\"Chile\",\"Colombia\",\"Costa Rica\",\"Cuba\",\"Dominican Republic\",\"Ecuador\",\"El Salvador\",\"Guatemala\",\"Haiti\",\"Honduras\",\"Jamaica\",\"Mexico\",\"Nicaragua\",\"Panama\",\"Paraguay\",\"Peru\",\"Trinidad and Tobago\",\"United States\",\"Uruguay\"],\"legendgroup\":\"Americas\",\"marker\":{\"color\":\"#ab63fa\",\"size\":[22934225.0,4040665.0,88049823.0,20819767.0,8858908.0,19764027.0,1588717.0,8139332.0,4049146.0,5432424.0,3232927.0,4690773.0,4318137.0,2500689.0,1861096.0,47995559.0,1865490.0,1405486.0,2287985.0,12132200.0,960155.0,198712000.0,2748579.0],\"sizemode\":\"area\",\"sizeref\":75455.0,\"symbol\":\"circle\"},\"mode\":\"markers\",\"name\":\"Americas\",\"orientation\":\"v\",\"showlegend\":true,\"type\":\"scatter\",\"x\":[8052.953020999999,2586.886053,3429.864357,16076.58803,5106.654313,2678.729839,4161.727834,5690.268015,1653.7230029999998,4579.074215,4358.595393,3242.531147,1452.057666,2538.269358,6124.703450999999,5754.733883,4643.393534000001,4421.009084,2299.376311,5788.09333,5621.368472,19530.36557,5444.61962],\"xaxis\":\"x\",\"y\":[2.85816254619,0.446569679542,0.744966530874,13.8103545953,2.1409901271900003,1.21683476874,0.517145991263,1.90593276713,0.380469161164,0.465781970972,0.342459705043,0.397317380131,0.0585660070754,0.352498584235,2.14463346178,1.8996986330400003,0.493983688604,1.21812383412,0.213013396786,1.1118562074299998,5.00989828473,18.5983178822,1.77610139003],\"yaxis\":\"y\"},{\"hovertemplate\":\"<b>%{hovertext}</b><br><br>continent=Oceania<br>GDP per capita=%{x}<br>CO2 emissions (metric tons per capita)=%{y}<br>pop=%{marker.size}<extra></extra>\",\"hovertext\":[\"Australia\",\"New Zealand\"],\"legendgroup\":\"Oceania\",\"marker\":{\"color\":\"#FFA15A\",\"size\":[11872264.0,2728150.0],\"sizemode\":\"area\",\"sizeref\":75455.0,\"symbol\":\"circle\"},\"mode\":\"markers\",\"name\":\"Oceania\",\"orientation\":\"v\",\"showlegend\":true,\"type\":\"scatter\",\"x\":[14526.12465,14463.918930000002],\"xaxis\":\"x\",\"y\":[10.9556247987,5.00761352373],\"yaxis\":\"y\"}],                        {\"height\":600,\"legend\":{\"itemsizing\":\"constant\",\"title\":{\"text\":\"continent\"},\"tracegroupgap\":0},\"template\":{\"data\":{\"bar\":[{\"error_x\":{\"color\":\"#2a3f5f\"},\"error_y\":{\"color\":\"#2a3f5f\"},\"marker\":{\"line\":{\"color\":\"#E5ECF6\",\"width\":0.5},\"pattern\":{\"fillmode\":\"overlay\",\"size\":10,\"solidity\":0.2}},\"type\":\"bar\"}],\"barpolar\":[{\"marker\":{\"line\":{\"color\":\"#E5ECF6\",\"width\":0.5},\"pattern\":{\"fillmode\":\"overlay\",\"size\":10,\"solidity\":0.2}},\"type\":\"barpolar\"}],\"carpet\":[{\"aaxis\":{\"endlinecolor\":\"#2a3f5f\",\"gridcolor\":\"white\",\"linecolor\":\"white\",\"minorgridcolor\":\"white\",\"startlinecolor\":\"#2a3f5f\"},\"baxis\":{\"endlinecolor\":\"#2a3f5f\",\"gridcolor\":\"white\",\"linecolor\":\"white\",\"minorgridcolor\":\"white\",\"startlinecolor\":\"#2a3f5f\"},\"type\":\"carpet\"}],\"choropleth\":[{\"colorbar\":{\"outlinewidth\":0,\"ticks\":\"\"},\"type\":\"choropleth\"}],\"contour\":[{\"colorbar\":{\"outlinewidth\":0,\"ticks\":\"\"},\"colorscale\":[[0.0,\"#0d0887\"],[0.1111111111111111,\"#46039f\"],[0.2222222222222222,\"#7201a8\"],[0.3333333333333333,\"#9c179e\"],[0.4444444444444444,\"#bd3786\"],[0.5555555555555556,\"#d8576b\"],[0.6666666666666666,\"#ed7953\"],[0.7777777777777778,\"#fb9f3a\"],[0.8888888888888888,\"#fdca26\"],[1.0,\"#f0f921\"]],\"type\":\"contour\"}],\"contourcarpet\":[{\"colorbar\":{\"outlinewidth\":0,\"ticks\":\"\"},\"type\":\"contourcarpet\"}],\"heatmap\":[{\"colorbar\":{\"outlinewidth\":0,\"ticks\":\"\"},\"colorscale\":[[0.0,\"#0d0887\"],[0.1111111111111111,\"#46039f\"],[0.2222222222222222,\"#7201a8\"],[0.3333333333333333,\"#9c179e\"],[0.4444444444444444,\"#bd3786\"],[0.5555555555555556,\"#d8576b\"],[0.6666666666666666,\"#ed7953\"],[0.7777777777777778,\"#fb9f3a\"],[0.8888888888888888,\"#fdca26\"],[1.0,\"#f0f921\"]],\"type\":\"heatmap\"}],\"heatmapgl\":[{\"colorbar\":{\"outlinewidth\":0,\"ticks\":\"\"},\"colorscale\":[[0.0,\"#0d0887\"],[0.1111111111111111,\"#46039f\"],[0.2222222222222222,\"#7201a8\"],[0.3333333333333333,\"#9c179e\"],[0.4444444444444444,\"#bd3786\"],[0.5555555555555556,\"#d8576b\"],[0.6666666666666666,\"#ed7953\"],[0.7777777777777778,\"#fb9f3a\"],[0.8888888888888888,\"#fdca26\"],[1.0,\"#f0f921\"]],\"type\":\"heatmapgl\"}],\"histogram\":[{\"marker\":{\"pattern\":{\"fillmode\":\"overlay\",\"size\":10,\"solidity\":0.2}},\"type\":\"histogram\"}],\"histogram2d\":[{\"colorbar\":{\"outlinewidth\":0,\"ticks\":\"\"},\"colorscale\":[[0.0,\"#0d0887\"],[0.1111111111111111,\"#46039f\"],[0.2222222222222222,\"#7201a8\"],[0.3333333333333333,\"#9c179e\"],[0.4444444444444444,\"#bd3786\"],[0.5555555555555556,\"#d8576b\"],[0.6666666666666666,\"#ed7953\"],[0.7777777777777778,\"#fb9f3a\"],[0.8888888888888888,\"#fdca26\"],[1.0,\"#f0f921\"]],\"type\":\"histogram2d\"}],\"histogram2dcontour\":[{\"colorbar\":{\"outlinewidth\":0,\"ticks\":\"\"},\"colorscale\":[[0.0,\"#0d0887\"],[0.1111111111111111,\"#46039f\"],[0.2222222222222222,\"#7201a8\"],[0.3333333333333333,\"#9c179e\"],[0.4444444444444444,\"#bd3786\"],[0.5555555555555556,\"#d8576b\"],[0.6666666666666666,\"#ed7953\"],[0.7777777777777778,\"#fb9f3a\"],[0.8888888888888888,\"#fdca26\"],[1.0,\"#f0f921\"]],\"type\":\"histogram2dcontour\"}],\"mesh3d\":[{\"colorbar\":{\"outlinewidth\":0,\"ticks\":\"\"},\"type\":\"mesh3d\"}],\"parcoords\":[{\"line\":{\"colorbar\":{\"outlinewidth\":0,\"ticks\":\"\"}},\"type\":\"parcoords\"}],\"pie\":[{\"automargin\":true,\"type\":\"pie\"}],\"scatter\":[{\"marker\":{\"colorbar\":{\"outlinewidth\":0,\"ticks\":\"\"}},\"type\":\"scatter\"}],\"scatter3d\":[{\"line\":{\"colorbar\":{\"outlinewidth\":0,\"ticks\":\"\"}},\"marker\":{\"colorbar\":{\"outlinewidth\":0,\"ticks\":\"\"}},\"type\":\"scatter3d\"}],\"scattercarpet\":[{\"marker\":{\"colorbar\":{\"outlinewidth\":0,\"ticks\":\"\"}},\"type\":\"scattercarpet\"}],\"scattergeo\":[{\"marker\":{\"colorbar\":{\"outlinewidth\":0,\"ticks\":\"\"}},\"type\":\"scattergeo\"}],\"scattergl\":[{\"marker\":{\"colorbar\":{\"outlinewidth\":0,\"ticks\":\"\"}},\"type\":\"scattergl\"}],\"scattermapbox\":[{\"marker\":{\"colorbar\":{\"outlinewidth\":0,\"ticks\":\"\"}},\"type\":\"scattermapbox\"}],\"scatterpolar\":[{\"marker\":{\"colorbar\":{\"outlinewidth\":0,\"ticks\":\"\"}},\"type\":\"scatterpolar\"}],\"scatterpolargl\":[{\"marker\":{\"colorbar\":{\"outlinewidth\":0,\"ticks\":\"\"}},\"type\":\"scatterpolargl\"}],\"scatterternary\":[{\"marker\":{\"colorbar\":{\"outlinewidth\":0,\"ticks\":\"\"}},\"type\":\"scatterternary\"}],\"surface\":[{\"colorbar\":{\"outlinewidth\":0,\"ticks\":\"\"},\"colorscale\":[[0.0,\"#0d0887\"],[0.1111111111111111,\"#46039f\"],[0.2222222222222222,\"#7201a8\"],[0.3333333333333333,\"#9c179e\"],[0.4444444444444444,\"#bd3786\"],[0.5555555555555556,\"#d8576b\"],[0.6666666666666666,\"#ed7953\"],[0.7777777777777778,\"#fb9f3a\"],[0.8888888888888888,\"#fdca26\"],[1.0,\"#f0f921\"]],\"type\":\"surface\"}],\"table\":[{\"cells\":{\"fill\":{\"color\":\"#EBF0F8\"},\"line\":{\"color\":\"white\"}},\"header\":{\"fill\":{\"color\":\"#C8D4E3\"},\"line\":{\"color\":\"white\"}},\"type\":\"table\"}]},\"layout\":{\"annotationdefaults\":{\"arrowcolor\":\"#2a3f5f\",\"arrowhead\":0,\"arrowwidth\":1},\"autotypenumbers\":\"strict\",\"coloraxis\":{\"colorbar\":{\"outlinewidth\":0,\"ticks\":\"\"}},\"colorscale\":{\"diverging\":[[0,\"#8e0152\"],[0.1,\"#c51b7d\"],[0.2,\"#de77ae\"],[0.3,\"#f1b6da\"],[0.4,\"#fde0ef\"],[0.5,\"#f7f7f7\"],[0.6,\"#e6f5d0\"],[0.7,\"#b8e186\"],[0.8,\"#7fbc41\"],[0.9,\"#4d9221\"],[1,\"#276419\"]],\"sequential\":[[0.0,\"#0d0887\"],[0.1111111111111111,\"#46039f\"],[0.2222222222222222,\"#7201a8\"],[0.3333333333333333,\"#9c179e\"],[0.4444444444444444,\"#bd3786\"],[0.5555555555555556,\"#d8576b\"],[0.6666666666666666,\"#ed7953\"],[0.7777777777777778,\"#fb9f3a\"],[0.8888888888888888,\"#fdca26\"],[1.0,\"#f0f921\"]],\"sequentialminus\":[[0.0,\"#0d0887\"],[0.1111111111111111,\"#46039f\"],[0.2222222222222222,\"#7201a8\"],[0.3333333333333333,\"#9c179e\"],[0.4444444444444444,\"#bd3786\"],[0.5555555555555556,\"#d8576b\"],[0.6666666666666666,\"#ed7953\"],[0.7777777777777778,\"#fb9f3a\"],[0.8888888888888888,\"#fdca26\"],[1.0,\"#f0f921\"]]},\"colorway\":[\"#636efa\",\"#EF553B\",\"#00cc96\",\"#ab63fa\",\"#FFA15A\",\"#19d3f3\",\"#FF6692\",\"#B6E880\",\"#FF97FF\",\"#FECB52\"],\"font\":{\"color\":\"#2a3f5f\"},\"geo\":{\"bgcolor\":\"white\",\"lakecolor\":\"white\",\"landcolor\":\"#E5ECF6\",\"showlakes\":true,\"showland\":true,\"subunitcolor\":\"white\"},\"hoverlabel\":{\"align\":\"left\"},\"hovermode\":\"closest\",\"mapbox\":{\"style\":\"light\"},\"paper_bgcolor\":\"white\",\"plot_bgcolor\":\"#E5ECF6\",\"polar\":{\"angularaxis\":{\"gridcolor\":\"white\",\"linecolor\":\"white\",\"ticks\":\"\"},\"bgcolor\":\"#E5ECF6\",\"radialaxis\":{\"gridcolor\":\"white\",\"linecolor\":\"white\",\"ticks\":\"\"}},\"scene\":{\"xaxis\":{\"backgroundcolor\":\"#E5ECF6\",\"gridcolor\":\"white\",\"gridwidth\":2,\"linecolor\":\"white\",\"showbackground\":true,\"ticks\":\"\",\"zerolinecolor\":\"white\"},\"yaxis\":{\"backgroundcolor\":\"#E5ECF6\",\"gridcolor\":\"white\",\"gridwidth\":2,\"linecolor\":\"white\",\"showbackground\":true,\"ticks\":\"\",\"zerolinecolor\":\"white\"},\"zaxis\":{\"backgroundcolor\":\"#E5ECF6\",\"gridcolor\":\"white\",\"gridwidth\":2,\"linecolor\":\"white\",\"showbackground\":true,\"ticks\":\"\",\"zerolinecolor\":\"white\"}},\"shapedefaults\":{\"line\":{\"color\":\"#2a3f5f\"}},\"ternary\":{\"aaxis\":{\"gridcolor\":\"white\",\"linecolor\":\"white\",\"ticks\":\"\"},\"baxis\":{\"gridcolor\":\"white\",\"linecolor\":\"white\",\"ticks\":\"\"},\"bgcolor\":\"#E5ECF6\",\"caxis\":{\"gridcolor\":\"white\",\"linecolor\":\"white\",\"ticks\":\"\"}},\"title\":{\"x\":0.05},\"xaxis\":{\"automargin\":true,\"gridcolor\":\"white\",\"linecolor\":\"white\",\"ticks\":\"\",\"title\":{\"standoff\":15},\"zerolinecolor\":\"white\",\"zerolinewidth\":2},\"yaxis\":{\"automargin\":true,\"gridcolor\":\"white\",\"linecolor\":\"white\",\"ticks\":\"\",\"title\":{\"standoff\":15},\"zerolinecolor\":\"white\",\"zerolinewidth\":2}}},\"title\":{\"text\":\"CO2 emissions(metric tons per capita) vs GDP per Capita\"},\"xaxis\":{\"anchor\":\"y\",\"domain\":[0.0,1.0],\"title\":{\"text\":\"GDP per capita\"},\"type\":\"log\"},\"yaxis\":{\"anchor\":\"x\",\"domain\":[0.0,1.0],\"title\":{\"text\":\"CO2 emissions (metric tons per capita)\"},\"type\":\"log\"}},                        {\"responsive\": true}                    ).then(function(){\n",
       "                            \n",
       "var gd = document.getElementById('6fc1ca40-3c90-48b1-b54f-a0ea29884438');\n",
       "var x = new MutationObserver(function (mutations, observer) {{\n",
       "        var display = window.getComputedStyle(gd).display;\n",
       "        if (!display || display === 'none') {{\n",
       "            console.log([gd, 'removed!']);\n",
       "            Plotly.purge(gd);\n",
       "            observer.disconnect();\n",
       "        }}\n",
       "}});\n",
       "\n",
       "// Listen for the removal of the full notebook cells\n",
       "var notebookContainer = gd.closest('#notebook-container');\n",
       "if (notebookContainer) {{\n",
       "    x.observe(notebookContainer, {childList: true});\n",
       "}}\n",
       "\n",
       "// Listen for the clearing of the current output cell\n",
       "var outputEl = gd.closest('.output');\n",
       "if (outputEl) {{\n",
       "    x.observe(outputEl, {childList: true});\n",
       "}}\n",
       "\n",
       "                        })                };                });            </script>        </div>"
      ]
     },
     "metadata": {},
     "output_type": "display_data"
    }
   ],
   "source": [
    "year_highest_corr = year_highest_corr.dropna(subset=(['CO2 emissions (metric tons per capita)',\n",
    "                          \"gdpPercap\",'pop','Country Name','continent']))\n",
    "\n",
    "px.scatter(data_frame=year_highest_corr,\n",
    "           x='gdpPercap', y='CO2 emissions (metric tons per capita)',\n",
    "           size='pop', color='continent',\n",
    "           title=\"CO2 emissions(metric tons per capita) vs GDP per Capita\",\n",
    "           labels={'gdpPercap':'GDP per capita'},\n",
    "           log_x=True, log_y=True, hover_name='Country Name',\n",
    "           height=600, size_max=100)"
   ]
  },
  {
   "cell_type": "markdown",
   "id": "97c542a3",
   "metadata": {},
   "source": [
    "**Q6: What is the relationship between `continent` and `'Energy use (kg of oil equivalent per capita)'`? (Stats test needed)**    \n",
    "Let us first see graphically what is the relationship between continents and energy use. Then we will conduct the stat test. "
   ]
  },
  {
   "cell_type": "code",
   "execution_count": 20,
   "id": "97c87a02",
   "metadata": {},
   "outputs": [
    {
     "data": {
      "application/vnd.plotly.v1+json": {
       "config": {
        "plotlyServerURL": "https://plot.ly"
       },
       "data": [
        {
         "alignmentgroup": "True",
         "boxpoints": "all",
         "hovertemplate": "<b>%{hovertext}</b><br><br>Continents=%{x}<br>Year=1962<br>Energy use (kg of oil equivalent per capita)=%{y}<extra></extra>",
         "hovertext": [
          "Afghanistan",
          "Bahrain",
          "Bangladesh",
          "Cambodia",
          "China",
          "India",
          "Indonesia",
          "Iraq",
          "Israel",
          "Japan",
          "Jordan",
          "Kuwait",
          "Lebanon",
          "Malaysia",
          "Mongolia",
          "Myanmar",
          "Nepal",
          "Oman",
          "Pakistan",
          "Philippines",
          "Saudi Arabia",
          "Singapore",
          "Sri Lanka",
          "Thailand",
          "Vietnam"
         ],
         "legendgroup": "Asia",
         "marker": {
          "color": "#636efa"
         },
         "name": "Asia",
         "notched": false,
         "offsetgroup": "Asia",
         "orientation": "v",
         "showlegend": true,
         "type": "box",
         "x": [
          "Asia",
          "Asia",
          "Asia",
          "Asia",
          "Asia",
          "Asia",
          "Asia",
          "Asia",
          "Asia",
          "Asia",
          "Asia",
          "Asia",
          "Asia",
          "Asia",
          "Asia",
          "Asia",
          "Asia",
          "Asia",
          "Asia",
          "Asia",
          "Asia",
          "Asia",
          "Asia",
          "Asia",
          "Asia"
         ],
         "x0": " ",
         "xaxis": "x",
         "y": [
          null,
          null,
          null,
          null,
          null,
          null,
          null,
          null,
          null,
          1003.75225394,
          null,
          null,
          null,
          null,
          null,
          null,
          null,
          null,
          null,
          null,
          null,
          null,
          null,
          null,
          null
         ],
         "y0": " ",
         "yaxis": "y"
        },
        {
         "alignmentgroup": "True",
         "boxpoints": "all",
         "hovertemplate": "<b>%{hovertext}</b><br><br>Continents=%{x}<br>Year=1962<br>Energy use (kg of oil equivalent per capita)=%{y}<extra></extra>",
         "hovertext": [
          "Albania",
          "Austria",
          "Belgium",
          "Bosnia and Herzegovina",
          "Bulgaria",
          "Croatia",
          "Czech Republic",
          "Denmark",
          "Finland",
          "France",
          "Germany",
          "Greece",
          "Hungary",
          "Iceland",
          "Ireland",
          "Italy",
          "Montenegro",
          "Netherlands",
          "Norway",
          "Poland",
          "Portugal",
          "Romania",
          "Serbia",
          "Slovak Republic",
          "Slovenia",
          "Spain",
          "Sweden",
          "Switzerland",
          "Turkey",
          "United Kingdom"
         ],
         "legendgroup": "Europe",
         "marker": {
          "color": "#EF553B"
         },
         "name": "Europe",
         "notched": false,
         "offsetgroup": "Europe",
         "orientation": "v",
         "showlegend": true,
         "type": "box",
         "x": [
          "Europe",
          "Europe",
          "Europe",
          "Europe",
          "Europe",
          "Europe",
          "Europe",
          "Europe",
          "Europe",
          "Europe",
          "Europe",
          "Europe",
          "Europe",
          "Europe",
          "Europe",
          "Europe",
          "Europe",
          "Europe",
          "Europe",
          "Europe",
          "Europe",
          "Europe",
          "Europe",
          "Europe",
          "Europe",
          "Europe",
          "Europe",
          "Europe",
          "Europe",
          "Europe"
         ],
         "x0": " ",
         "xaxis": "x",
         "y": [
          null,
          1675.87362115,
          2810.06114801,
          null,
          null,
          null,
          null,
          2296.28956262,
          2361.74387608,
          1852.7357712,
          2124.84853926,
          350.101257861,
          null,
          3028.29836932,
          1412.72967684,
          1007.04834663,
          null,
          2081.01162075,
          2052.05448433,
          1976.85979181,
          363.164047972,
          null,
          null,
          null,
          null,
          605.223527325,
          2887.23625249,
          1568.91106002,
          410.021796967,
          3087.34197183
         ],
         "y0": " ",
         "yaxis": "y"
        },
        {
         "alignmentgroup": "True",
         "boxpoints": "all",
         "hovertemplate": "<b>%{hovertext}</b><br><br>Continents=%{x}<br>Year=1962<br>Energy use (kg of oil equivalent per capita)=%{y}<extra></extra>",
         "hovertext": [
          "Algeria",
          "Angola",
          "Benin",
          "Botswana",
          "Burkina Faso",
          "Burundi",
          "Cameroon",
          "Central African Republic",
          "Chad",
          "Comoros",
          "Cote d'Ivoire",
          "Djibouti",
          "Equatorial Guinea",
          "Eritrea",
          "Ethiopia",
          "Gabon",
          "Ghana",
          "Guinea",
          "Guinea-Bissau",
          "Kenya",
          "Lesotho",
          "Liberia",
          "Libya",
          "Madagascar",
          "Malawi",
          "Mali",
          "Mauritania",
          "Mauritius",
          "Morocco",
          "Mozambique",
          "Namibia",
          "Niger",
          "Nigeria",
          "Rwanda",
          "Sao Tome and Principe",
          "Senegal",
          "Sierra Leone",
          "Somalia",
          "South Africa",
          "Sudan",
          "Swaziland",
          "Tanzania",
          "Togo",
          "Tunisia",
          "Uganda",
          "Zambia",
          "Zimbabwe"
         ],
         "legendgroup": "Africa",
         "marker": {
          "color": "#00cc96"
         },
         "name": "Africa",
         "notched": false,
         "offsetgroup": "Africa",
         "orientation": "v",
         "showlegend": true,
         "type": "box",
         "x": [
          "Africa",
          "Africa",
          "Africa",
          "Africa",
          "Africa",
          "Africa",
          "Africa",
          "Africa",
          "Africa",
          "Africa",
          "Africa",
          "Africa",
          "Africa",
          "Africa",
          "Africa",
          "Africa",
          "Africa",
          "Africa",
          "Africa",
          "Africa",
          "Africa",
          "Africa",
          "Africa",
          "Africa",
          "Africa",
          "Africa",
          "Africa",
          "Africa",
          "Africa",
          "Africa",
          "Africa",
          "Africa",
          "Africa",
          "Africa",
          "Africa",
          "Africa",
          "Africa",
          "Africa",
          "Africa",
          "Africa",
          "Africa",
          "Africa",
          "Africa",
          "Africa",
          "Africa",
          "Africa",
          "Africa"
         ],
         "x0": " ",
         "xaxis": "x",
         "y": [
          null,
          null,
          null,
          null,
          null,
          null,
          null,
          null,
          null,
          null,
          null,
          null,
          null,
          null,
          null,
          null,
          null,
          null,
          null,
          null,
          null,
          null,
          null,
          null,
          null,
          null,
          null,
          null,
          null,
          null,
          null,
          null,
          null,
          null,
          null,
          null,
          null,
          null,
          null,
          null,
          null,
          null,
          null,
          null,
          null,
          null,
          null
         ],
         "y0": " ",
         "yaxis": "y"
        },
        {
         "alignmentgroup": "True",
         "boxpoints": "all",
         "hovertemplate": "<b>%{hovertext}</b><br><br>Continents=%{x}<br>Year=1962<br>Energy use (kg of oil equivalent per capita)=%{y}<extra></extra>",
         "hovertext": [
          "Argentina",
          "Bolivia",
          "Brazil",
          "Canada",
          "Chile",
          "Colombia",
          "Costa Rica",
          "Cuba",
          "Dominican Republic",
          "Ecuador",
          "El Salvador",
          "Guatemala",
          "Haiti",
          "Honduras",
          "Jamaica",
          "Mexico",
          "Nicaragua",
          "Panama",
          "Paraguay",
          "Peru",
          "Puerto Rico",
          "Trinidad and Tobago",
          "United States",
          "Uruguay"
         ],
         "legendgroup": "Americas",
         "marker": {
          "color": "#ab63fa"
         },
         "name": "Americas",
         "notched": false,
         "offsetgroup": "Americas",
         "orientation": "v",
         "showlegend": true,
         "type": "box",
         "x": [
          "Americas",
          "Americas",
          "Americas",
          "Americas",
          "Americas",
          "Americas",
          "Americas",
          "Americas",
          "Americas",
          "Americas",
          "Americas",
          "Americas",
          "Americas",
          "Americas",
          "Americas",
          "Americas",
          "Americas",
          "Americas",
          "Americas",
          "Americas",
          "Americas",
          "Americas",
          "Americas",
          "Americas"
         ],
         "x0": " ",
         "xaxis": "x",
         "y": [
          null,
          null,
          null,
          4451.56011604,
          null,
          null,
          null,
          null,
          null,
          null,
          null,
          null,
          null,
          null,
          null,
          null,
          null,
          null,
          null,
          null,
          null,
          null,
          5774.58631485,
          null
         ],
         "y0": " ",
         "yaxis": "y"
        },
        {
         "alignmentgroup": "True",
         "boxpoints": "all",
         "hovertemplate": "<b>%{hovertext}</b><br><br>Continents=%{x}<br>Year=1962<br>Energy use (kg of oil equivalent per capita)=%{y}<extra></extra>",
         "hovertext": [
          "Australia",
          "New Zealand"
         ],
         "legendgroup": "Oceania",
         "marker": {
          "color": "#FFA15A"
         },
         "name": "Oceania",
         "notched": false,
         "offsetgroup": "Oceania",
         "orientation": "v",
         "showlegend": true,
         "type": "box",
         "x": [
          "Oceania",
          "Oceania"
         ],
         "x0": " ",
         "xaxis": "x",
         "y": [
          3172.97486502,
          1791.46132151
         ],
         "y0": " ",
         "yaxis": "y"
        }
       ],
       "frames": [
        {
         "data": [
          {
           "alignmentgroup": "True",
           "boxpoints": "all",
           "hovertemplate": "<b>%{hovertext}</b><br><br>Continents=%{x}<br>Year=1962<br>Energy use (kg of oil equivalent per capita)=%{y}<extra></extra>",
           "hovertext": [
            "Afghanistan",
            "Bahrain",
            "Bangladesh",
            "Cambodia",
            "China",
            "India",
            "Indonesia",
            "Iraq",
            "Israel",
            "Japan",
            "Jordan",
            "Kuwait",
            "Lebanon",
            "Malaysia",
            "Mongolia",
            "Myanmar",
            "Nepal",
            "Oman",
            "Pakistan",
            "Philippines",
            "Saudi Arabia",
            "Singapore",
            "Sri Lanka",
            "Thailand",
            "Vietnam"
           ],
           "legendgroup": "Asia",
           "marker": {
            "color": "#636efa"
           },
           "name": "Asia",
           "notched": false,
           "offsetgroup": "Asia",
           "orientation": "v",
           "showlegend": true,
           "type": "box",
           "x": [
            "Asia",
            "Asia",
            "Asia",
            "Asia",
            "Asia",
            "Asia",
            "Asia",
            "Asia",
            "Asia",
            "Asia",
            "Asia",
            "Asia",
            "Asia",
            "Asia",
            "Asia",
            "Asia",
            "Asia",
            "Asia",
            "Asia",
            "Asia",
            "Asia",
            "Asia",
            "Asia",
            "Asia",
            "Asia"
           ],
           "x0": " ",
           "xaxis": "x",
           "y": [
            null,
            null,
            null,
            null,
            null,
            null,
            null,
            null,
            null,
            1003.75225394,
            null,
            null,
            null,
            null,
            null,
            null,
            null,
            null,
            null,
            null,
            null,
            null,
            null,
            null,
            null
           ],
           "y0": " ",
           "yaxis": "y"
          },
          {
           "alignmentgroup": "True",
           "boxpoints": "all",
           "hovertemplate": "<b>%{hovertext}</b><br><br>Continents=%{x}<br>Year=1962<br>Energy use (kg of oil equivalent per capita)=%{y}<extra></extra>",
           "hovertext": [
            "Albania",
            "Austria",
            "Belgium",
            "Bosnia and Herzegovina",
            "Bulgaria",
            "Croatia",
            "Czech Republic",
            "Denmark",
            "Finland",
            "France",
            "Germany",
            "Greece",
            "Hungary",
            "Iceland",
            "Ireland",
            "Italy",
            "Montenegro",
            "Netherlands",
            "Norway",
            "Poland",
            "Portugal",
            "Romania",
            "Serbia",
            "Slovak Republic",
            "Slovenia",
            "Spain",
            "Sweden",
            "Switzerland",
            "Turkey",
            "United Kingdom"
           ],
           "legendgroup": "Europe",
           "marker": {
            "color": "#EF553B"
           },
           "name": "Europe",
           "notched": false,
           "offsetgroup": "Europe",
           "orientation": "v",
           "showlegend": true,
           "type": "box",
           "x": [
            "Europe",
            "Europe",
            "Europe",
            "Europe",
            "Europe",
            "Europe",
            "Europe",
            "Europe",
            "Europe",
            "Europe",
            "Europe",
            "Europe",
            "Europe",
            "Europe",
            "Europe",
            "Europe",
            "Europe",
            "Europe",
            "Europe",
            "Europe",
            "Europe",
            "Europe",
            "Europe",
            "Europe",
            "Europe",
            "Europe",
            "Europe",
            "Europe",
            "Europe",
            "Europe"
           ],
           "x0": " ",
           "xaxis": "x",
           "y": [
            null,
            1675.87362115,
            2810.06114801,
            null,
            null,
            null,
            null,
            2296.28956262,
            2361.74387608,
            1852.7357712,
            2124.84853926,
            350.101257861,
            null,
            3028.29836932,
            1412.72967684,
            1007.04834663,
            null,
            2081.01162075,
            2052.05448433,
            1976.85979181,
            363.164047972,
            null,
            null,
            null,
            null,
            605.223527325,
            2887.23625249,
            1568.91106002,
            410.021796967,
            3087.34197183
           ],
           "y0": " ",
           "yaxis": "y"
          },
          {
           "alignmentgroup": "True",
           "boxpoints": "all",
           "hovertemplate": "<b>%{hovertext}</b><br><br>Continents=%{x}<br>Year=1962<br>Energy use (kg of oil equivalent per capita)=%{y}<extra></extra>",
           "hovertext": [
            "Algeria",
            "Angola",
            "Benin",
            "Botswana",
            "Burkina Faso",
            "Burundi",
            "Cameroon",
            "Central African Republic",
            "Chad",
            "Comoros",
            "Cote d'Ivoire",
            "Djibouti",
            "Equatorial Guinea",
            "Eritrea",
            "Ethiopia",
            "Gabon",
            "Ghana",
            "Guinea",
            "Guinea-Bissau",
            "Kenya",
            "Lesotho",
            "Liberia",
            "Libya",
            "Madagascar",
            "Malawi",
            "Mali",
            "Mauritania",
            "Mauritius",
            "Morocco",
            "Mozambique",
            "Namibia",
            "Niger",
            "Nigeria",
            "Rwanda",
            "Sao Tome and Principe",
            "Senegal",
            "Sierra Leone",
            "Somalia",
            "South Africa",
            "Sudan",
            "Swaziland",
            "Tanzania",
            "Togo",
            "Tunisia",
            "Uganda",
            "Zambia",
            "Zimbabwe"
           ],
           "legendgroup": "Africa",
           "marker": {
            "color": "#00cc96"
           },
           "name": "Africa",
           "notched": false,
           "offsetgroup": "Africa",
           "orientation": "v",
           "showlegend": true,
           "type": "box",
           "x": [
            "Africa",
            "Africa",
            "Africa",
            "Africa",
            "Africa",
            "Africa",
            "Africa",
            "Africa",
            "Africa",
            "Africa",
            "Africa",
            "Africa",
            "Africa",
            "Africa",
            "Africa",
            "Africa",
            "Africa",
            "Africa",
            "Africa",
            "Africa",
            "Africa",
            "Africa",
            "Africa",
            "Africa",
            "Africa",
            "Africa",
            "Africa",
            "Africa",
            "Africa",
            "Africa",
            "Africa",
            "Africa",
            "Africa",
            "Africa",
            "Africa",
            "Africa",
            "Africa",
            "Africa",
            "Africa",
            "Africa",
            "Africa",
            "Africa",
            "Africa",
            "Africa",
            "Africa",
            "Africa",
            "Africa"
           ],
           "x0": " ",
           "xaxis": "x",
           "y": [
            null,
            null,
            null,
            null,
            null,
            null,
            null,
            null,
            null,
            null,
            null,
            null,
            null,
            null,
            null,
            null,
            null,
            null,
            null,
            null,
            null,
            null,
            null,
            null,
            null,
            null,
            null,
            null,
            null,
            null,
            null,
            null,
            null,
            null,
            null,
            null,
            null,
            null,
            null,
            null,
            null,
            null,
            null,
            null,
            null,
            null,
            null
           ],
           "y0": " ",
           "yaxis": "y"
          },
          {
           "alignmentgroup": "True",
           "boxpoints": "all",
           "hovertemplate": "<b>%{hovertext}</b><br><br>Continents=%{x}<br>Year=1962<br>Energy use (kg of oil equivalent per capita)=%{y}<extra></extra>",
           "hovertext": [
            "Argentina",
            "Bolivia",
            "Brazil",
            "Canada",
            "Chile",
            "Colombia",
            "Costa Rica",
            "Cuba",
            "Dominican Republic",
            "Ecuador",
            "El Salvador",
            "Guatemala",
            "Haiti",
            "Honduras",
            "Jamaica",
            "Mexico",
            "Nicaragua",
            "Panama",
            "Paraguay",
            "Peru",
            "Puerto Rico",
            "Trinidad and Tobago",
            "United States",
            "Uruguay"
           ],
           "legendgroup": "Americas",
           "marker": {
            "color": "#ab63fa"
           },
           "name": "Americas",
           "notched": false,
           "offsetgroup": "Americas",
           "orientation": "v",
           "showlegend": true,
           "type": "box",
           "x": [
            "Americas",
            "Americas",
            "Americas",
            "Americas",
            "Americas",
            "Americas",
            "Americas",
            "Americas",
            "Americas",
            "Americas",
            "Americas",
            "Americas",
            "Americas",
            "Americas",
            "Americas",
            "Americas",
            "Americas",
            "Americas",
            "Americas",
            "Americas",
            "Americas",
            "Americas",
            "Americas",
            "Americas"
           ],
           "x0": " ",
           "xaxis": "x",
           "y": [
            null,
            null,
            null,
            4451.56011604,
            null,
            null,
            null,
            null,
            null,
            null,
            null,
            null,
            null,
            null,
            null,
            null,
            null,
            null,
            null,
            null,
            null,
            null,
            5774.58631485,
            null
           ],
           "y0": " ",
           "yaxis": "y"
          },
          {
           "alignmentgroup": "True",
           "boxpoints": "all",
           "hovertemplate": "<b>%{hovertext}</b><br><br>Continents=%{x}<br>Year=1962<br>Energy use (kg of oil equivalent per capita)=%{y}<extra></extra>",
           "hovertext": [
            "Australia",
            "New Zealand"
           ],
           "legendgroup": "Oceania",
           "marker": {
            "color": "#FFA15A"
           },
           "name": "Oceania",
           "notched": false,
           "offsetgroup": "Oceania",
           "orientation": "v",
           "showlegend": true,
           "type": "box",
           "x": [
            "Oceania",
            "Oceania"
           ],
           "x0": " ",
           "xaxis": "x",
           "y": [
            3172.97486502,
            1791.46132151
           ],
           "y0": " ",
           "yaxis": "y"
          }
         ],
         "name": "1962"
        },
        {
         "data": [
          {
           "alignmentgroup": "True",
           "boxpoints": "all",
           "hovertemplate": "<b>%{hovertext}</b><br><br>Continents=%{x}<br>Year=1967<br>Energy use (kg of oil equivalent per capita)=%{y}<extra></extra>",
           "hovertext": [
            "Afghanistan",
            "Bahrain",
            "Bangladesh",
            "Cambodia",
            "China",
            "India",
            "Indonesia",
            "Iraq",
            "Israel",
            "Japan",
            "Jordan",
            "Kuwait",
            "Lebanon",
            "Malaysia",
            "Mongolia",
            "Myanmar",
            "Nepal",
            "Oman",
            "Pakistan",
            "Philippines",
            "Saudi Arabia",
            "Singapore",
            "Sri Lanka",
            "Thailand",
            "Vietnam"
           ],
           "legendgroup": "Asia",
           "marker": {
            "color": "#636efa"
           },
           "name": "Asia",
           "notched": false,
           "offsetgroup": "Asia",
           "orientation": "v",
           "showlegend": true,
           "type": "box",
           "x": [
            "Asia",
            "Asia",
            "Asia",
            "Asia",
            "Asia",
            "Asia",
            "Asia",
            "Asia",
            "Asia",
            "Asia",
            "Asia",
            "Asia",
            "Asia",
            "Asia",
            "Asia",
            "Asia",
            "Asia",
            "Asia",
            "Asia",
            "Asia",
            "Asia",
            "Asia",
            "Asia",
            "Asia",
            "Asia"
           ],
           "x0": " ",
           "xaxis": "x",
           "y": [
            null,
            null,
            null,
            null,
            null,
            null,
            null,
            null,
            null,
            1720.54974435,
            null,
            null,
            null,
            null,
            null,
            null,
            null,
            null,
            null,
            null,
            null,
            null,
            null,
            null,
            null
           ],
           "y0": " ",
           "yaxis": "y"
          },
          {
           "alignmentgroup": "True",
           "boxpoints": "all",
           "hovertemplate": "<b>%{hovertext}</b><br><br>Continents=%{x}<br>Year=1967<br>Energy use (kg of oil equivalent per capita)=%{y}<extra></extra>",
           "hovertext": [
            "Albania",
            "Austria",
            "Belgium",
            "Bosnia and Herzegovina",
            "Bulgaria",
            "Croatia",
            "Czech Republic",
            "Denmark",
            "Finland",
            "France",
            "Germany",
            "Greece",
            "Hungary",
            "Iceland",
            "Ireland",
            "Italy",
            "Montenegro",
            "Netherlands",
            "Norway",
            "Poland",
            "Portugal",
            "Romania",
            "Serbia",
            "Slovak Republic",
            "Slovenia",
            "Spain",
            "Sweden",
            "Switzerland",
            "Turkey",
            "United Kingdom"
           ],
           "legendgroup": "Europe",
           "marker": {
            "color": "#EF553B"
           },
           "name": "Europe",
           "notched": false,
           "offsetgroup": "Europe",
           "orientation": "v",
           "showlegend": true,
           "type": "box",
           "x": [
            "Europe",
            "Europe",
            "Europe",
            "Europe",
            "Europe",
            "Europe",
            "Europe",
            "Europe",
            "Europe",
            "Europe",
            "Europe",
            "Europe",
            "Europe",
            "Europe",
            "Europe",
            "Europe",
            "Europe",
            "Europe",
            "Europe",
            "Europe",
            "Europe",
            "Europe",
            "Europe",
            "Europe",
            "Europe",
            "Europe",
            "Europe",
            "Europe",
            "Europe",
            "Europe"
           ],
           "x0": " ",
           "xaxis": "x",
           "y": [
            null,
            1920.21212423,
            3182.9234575,
            null,
            null,
            null,
            null,
            3061.11010693,
            3126.42604539,
            2241.91139524,
            2388.41234673,
            607.702155943,
            1476.04957577,
            3594.36178937,
            1767.42510638,
            1551.51917279,
            null,
            2762.80248267,
            2815.68798736,
            2199.05462052,
            486.585415324,
            null,
            null,
            null,
            null,
            881.3832485789999,
            3630.19413871,
            2040.8279002,
            484.393315616,
            3345.55349486
           ],
           "y0": " ",
           "yaxis": "y"
          },
          {
           "alignmentgroup": "True",
           "boxpoints": "all",
           "hovertemplate": "<b>%{hovertext}</b><br><br>Continents=%{x}<br>Year=1967<br>Energy use (kg of oil equivalent per capita)=%{y}<extra></extra>",
           "hovertext": [
            "Algeria",
            "Angola",
            "Benin",
            "Botswana",
            "Burkina Faso",
            "Burundi",
            "Cameroon",
            "Central African Republic",
            "Chad",
            "Comoros",
            "Cote d'Ivoire",
            "Djibouti",
            "Equatorial Guinea",
            "Eritrea",
            "Ethiopia",
            "Gabon",
            "Ghana",
            "Guinea",
            "Guinea-Bissau",
            "Kenya",
            "Lesotho",
            "Liberia",
            "Libya",
            "Madagascar",
            "Malawi",
            "Mali",
            "Mauritania",
            "Mauritius",
            "Morocco",
            "Mozambique",
            "Namibia",
            "Niger",
            "Nigeria",
            "Rwanda",
            "Sao Tome and Principe",
            "Senegal",
            "Sierra Leone",
            "Somalia",
            "South Africa",
            "Sudan",
            "Swaziland",
            "Tanzania",
            "Togo",
            "Tunisia",
            "Uganda",
            "Zambia",
            "Zimbabwe"
           ],
           "legendgroup": "Africa",
           "marker": {
            "color": "#00cc96"
           },
           "name": "Africa",
           "notched": false,
           "offsetgroup": "Africa",
           "orientation": "v",
           "showlegend": true,
           "type": "box",
           "x": [
            "Africa",
            "Africa",
            "Africa",
            "Africa",
            "Africa",
            "Africa",
            "Africa",
            "Africa",
            "Africa",
            "Africa",
            "Africa",
            "Africa",
            "Africa",
            "Africa",
            "Africa",
            "Africa",
            "Africa",
            "Africa",
            "Africa",
            "Africa",
            "Africa",
            "Africa",
            "Africa",
            "Africa",
            "Africa",
            "Africa",
            "Africa",
            "Africa",
            "Africa",
            "Africa",
            "Africa",
            "Africa",
            "Africa",
            "Africa",
            "Africa",
            "Africa",
            "Africa",
            "Africa",
            "Africa",
            "Africa",
            "Africa",
            "Africa",
            "Africa",
            "Africa",
            "Africa",
            "Africa",
            "Africa"
           ],
           "x0": " ",
           "xaxis": "x",
           "y": [
            null,
            null,
            null,
            null,
            null,
            null,
            null,
            null,
            null,
            null,
            null,
            null,
            null,
            null,
            null,
            null,
            null,
            null,
            null,
            null,
            null,
            null,
            null,
            null,
            null,
            null,
            null,
            null,
            null,
            null,
            null,
            null,
            null,
            null,
            null,
            null,
            null,
            null,
            null,
            null,
            null,
            null,
            null,
            null,
            null,
            null,
            null
           ],
           "y0": " ",
           "yaxis": "y"
          },
          {
           "alignmentgroup": "True",
           "boxpoints": "all",
           "hovertemplate": "<b>%{hovertext}</b><br><br>Continents=%{x}<br>Year=1967<br>Energy use (kg of oil equivalent per capita)=%{y}<extra></extra>",
           "hovertext": [
            "Argentina",
            "Bolivia",
            "Brazil",
            "Canada",
            "Chile",
            "Colombia",
            "Costa Rica",
            "Cuba",
            "Dominican Republic",
            "Ecuador",
            "El Salvador",
            "Guatemala",
            "Haiti",
            "Honduras",
            "Jamaica",
            "Mexico",
            "Nicaragua",
            "Panama",
            "Paraguay",
            "Peru",
            "Puerto Rico",
            "Trinidad and Tobago",
            "United States",
            "Uruguay"
           ],
           "legendgroup": "Americas",
           "marker": {
            "color": "#ab63fa"
           },
           "name": "Americas",
           "notched": false,
           "offsetgroup": "Americas",
           "orientation": "v",
           "showlegend": true,
           "type": "box",
           "x": [
            "Americas",
            "Americas",
            "Americas",
            "Americas",
            "Americas",
            "Americas",
            "Americas",
            "Americas",
            "Americas",
            "Americas",
            "Americas",
            "Americas",
            "Americas",
            "Americas",
            "Americas",
            "Americas",
            "Americas",
            "Americas",
            "Americas",
            "Americas",
            "Americas",
            "Americas",
            "Americas",
            "Americas"
           ],
           "x0": " ",
           "xaxis": "x",
           "y": [
            null,
            null,
            null,
            5557.29174015,
            null,
            null,
            null,
            null,
            null,
            null,
            null,
            null,
            null,
            null,
            null,
            null,
            null,
            null,
            null,
            null,
            null,
            null,
            6809.82048392,
            null
           ],
           "y0": " ",
           "yaxis": "y"
          },
          {
           "alignmentgroup": "True",
           "boxpoints": "all",
           "hovertemplate": "<b>%{hovertext}</b><br><br>Continents=%{x}<br>Year=1967<br>Energy use (kg of oil equivalent per capita)=%{y}<extra></extra>",
           "hovertext": [
            "Australia",
            "New Zealand"
           ],
           "legendgroup": "Oceania",
           "marker": {
            "color": "#FFA15A"
           },
           "name": "Oceania",
           "notched": false,
           "offsetgroup": "Oceania",
           "orientation": "v",
           "showlegend": true,
           "type": "box",
           "x": [
            "Oceania",
            "Oceania"
           ],
           "x0": " ",
           "xaxis": "x",
           "y": [
            3692.80794983,
            2188.69351345
           ],
           "y0": " ",
           "yaxis": "y"
          }
         ],
         "name": "1967"
        },
        {
         "data": [
          {
           "alignmentgroup": "True",
           "boxpoints": "all",
           "hovertemplate": "<b>%{hovertext}</b><br><br>Continents=%{x}<br>Year=1972<br>Energy use (kg of oil equivalent per capita)=%{y}<extra></extra>",
           "hovertext": [
            "Afghanistan",
            "Bahrain",
            "Bangladesh",
            "Cambodia",
            "China",
            "India",
            "Indonesia",
            "Iraq",
            "Israel",
            "Japan",
            "Jordan",
            "Kuwait",
            "Lebanon",
            "Malaysia",
            "Mongolia",
            "Myanmar",
            "Nepal",
            "Oman",
            "Pakistan",
            "Philippines",
            "Saudi Arabia",
            "Singapore",
            "Sri Lanka",
            "Thailand",
            "Vietnam"
           ],
           "legendgroup": "Asia",
           "marker": {
            "color": "#636efa"
           },
           "name": "Asia",
           "notched": false,
           "offsetgroup": "Asia",
           "orientation": "v",
           "showlegend": true,
           "type": "box",
           "x": [
            "Asia",
            "Asia",
            "Asia",
            "Asia",
            "Asia",
            "Asia",
            "Asia",
            "Asia",
            "Asia",
            "Asia",
            "Asia",
            "Asia",
            "Asia",
            "Asia",
            "Asia",
            "Asia",
            "Asia",
            "Asia",
            "Asia",
            "Asia",
            "Asia",
            "Asia",
            "Asia",
            "Asia",
            "Asia"
           ],
           "x0": " ",
           "xaxis": "x",
           "y": [
            null,
            5960.21133509,
            86.903766977,
            null,
            477.168708746,
            268.485083335,
            301.357990782,
            405.152489951,
            1756.33100381,
            2667.04674964,
            297.830418297,
            7802.76597438,
            789.565543378,
            536.095210505,
            null,
            281.931848431,
            300.972670494,
            112.054808283,
            285.16407106400004,
            406.49229803800006,
            979.423249943,
            1569.47082327,
            314.546613794,
            367.864327681,
            298.157558425
           ],
           "y0": " ",
           "yaxis": "y"
          },
          {
           "alignmentgroup": "True",
           "boxpoints": "all",
           "hovertemplate": "<b>%{hovertext}</b><br><br>Continents=%{x}<br>Year=1972<br>Energy use (kg of oil equivalent per capita)=%{y}<extra></extra>",
           "hovertext": [
            "Albania",
            "Austria",
            "Belgium",
            "Bosnia and Herzegovina",
            "Bulgaria",
            "Croatia",
            "Czech Republic",
            "Denmark",
            "Finland",
            "France",
            "Germany",
            "Greece",
            "Hungary",
            "Iceland",
            "Ireland",
            "Italy",
            "Montenegro",
            "Netherlands",
            "Norway",
            "Poland",
            "Portugal",
            "Romania",
            "Serbia",
            "Slovak Republic",
            "Slovenia",
            "Spain",
            "Sweden",
            "Switzerland",
            "Turkey",
            "United Kingdom"
           ],
           "legendgroup": "Europe",
           "marker": {
            "color": "#EF553B"
           },
           "name": "Europe",
           "notched": false,
           "offsetgroup": "Europe",
           "orientation": "v",
           "showlegend": true,
           "type": "box",
           "x": [
            "Europe",
            "Europe",
            "Europe",
            "Europe",
            "Europe",
            "Europe",
            "Europe",
            "Europe",
            "Europe",
            "Europe",
            "Europe",
            "Europe",
            "Europe",
            "Europe",
            "Europe",
            "Europe",
            "Europe",
            "Europe",
            "Europe",
            "Europe",
            "Europe",
            "Europe",
            "Europe",
            "Europe",
            "Europe",
            "Europe",
            "Europe",
            "Europe",
            "Europe",
            "Europe"
           ],
           "x0": " ",
           "xaxis": "x",
           "y": [
            865.592481207,
            2627.32249578,
            4473.92951273,
            null,
            2262.78654882,
            null,
            4613.78059093,
            3858.59212164,
            4188.16067653,
            3160.80483651,
            4017.33738516,
            1134.78649348,
            1880.53879751,
            4403.96964669,
            2194.51306452,
            2050.73787712,
            null,
            4381.04179488,
            3503.4299482,
            2693.74527501,
            745.283954565,
            2131.63973572,
            null,
            3224.51944058,
            null,
            1299.43101563,
            4527.21372025,
            2727.71921732,
            605.1364652890001,
            3747.96247517
           ],
           "y0": " ",
           "yaxis": "y"
          },
          {
           "alignmentgroup": "True",
           "boxpoints": "all",
           "hovertemplate": "<b>%{hovertext}</b><br><br>Continents=%{x}<br>Year=1972<br>Energy use (kg of oil equivalent per capita)=%{y}<extra></extra>",
           "hovertext": [
            "Algeria",
            "Angola",
            "Benin",
            "Botswana",
            "Burkina Faso",
            "Burundi",
            "Cameroon",
            "Central African Republic",
            "Chad",
            "Comoros",
            "Cote d'Ivoire",
            "Djibouti",
            "Equatorial Guinea",
            "Eritrea",
            "Ethiopia",
            "Gabon",
            "Ghana",
            "Guinea",
            "Guinea-Bissau",
            "Kenya",
            "Lesotho",
            "Liberia",
            "Libya",
            "Madagascar",
            "Malawi",
            "Mali",
            "Mauritania",
            "Mauritius",
            "Morocco",
            "Mozambique",
            "Namibia",
            "Niger",
            "Nigeria",
            "Rwanda",
            "Sao Tome and Principe",
            "Senegal",
            "Sierra Leone",
            "Somalia",
            "South Africa",
            "Sudan",
            "Swaziland",
            "Tanzania",
            "Togo",
            "Tunisia",
            "Uganda",
            "Zambia",
            "Zimbabwe"
           ],
           "legendgroup": "Africa",
           "marker": {
            "color": "#00cc96"
           },
           "name": "Africa",
           "notched": false,
           "offsetgroup": "Africa",
           "orientation": "v",
           "showlegend": true,
           "type": "box",
           "x": [
            "Africa",
            "Africa",
            "Africa",
            "Africa",
            "Africa",
            "Africa",
            "Africa",
            "Africa",
            "Africa",
            "Africa",
            "Africa",
            "Africa",
            "Africa",
            "Africa",
            "Africa",
            "Africa",
            "Africa",
            "Africa",
            "Africa",
            "Africa",
            "Africa",
            "Africa",
            "Africa",
            "Africa",
            "Africa",
            "Africa",
            "Africa",
            "Africa",
            "Africa",
            "Africa",
            "Africa",
            "Africa",
            "Africa",
            "Africa",
            "Africa",
            "Africa",
            "Africa",
            "Africa",
            "Africa",
            "Africa",
            "Africa",
            "Africa",
            "Africa",
            "Africa",
            "Africa",
            "Africa",
            "Africa"
           ],
           "x0": " ",
           "xaxis": "x",
           "y": [
            261.465250751,
            629.301934363,
            380.812029086,
            null,
            null,
            null,
            386.14642293800006,
            null,
            null,
            null,
            453.243100247,
            null,
            null,
            null,
            434.793195834,
            1707.3062928,
            348.93189080300004,
            null,
            null,
            455.513600948,
            null,
            null,
            952.733553333,
            null,
            null,
            null,
            null,
            435.059790882,
            190.387995598,
            699.0228986210001,
            null,
            null,
            583.794808164,
            null,
            null,
            280.837670795,
            null,
            null,
            1997.49821372,
            485.018934669,
            null,
            527.0538798619999,
            332.041867346,
            341.737804158,
            null,
            857.0932537580002,
            994.184786353
           ],
           "y0": " ",
           "yaxis": "y"
          },
          {
           "alignmentgroup": "True",
           "boxpoints": "all",
           "hovertemplate": "<b>%{hovertext}</b><br><br>Continents=%{x}<br>Year=1972<br>Energy use (kg of oil equivalent per capita)=%{y}<extra></extra>",
           "hovertext": [
            "Argentina",
            "Bolivia",
            "Brazil",
            "Canada",
            "Chile",
            "Colombia",
            "Costa Rica",
            "Cuba",
            "Dominican Republic",
            "Ecuador",
            "El Salvador",
            "Guatemala",
            "Haiti",
            "Honduras",
            "Jamaica",
            "Mexico",
            "Nicaragua",
            "Panama",
            "Paraguay",
            "Peru",
            "Puerto Rico",
            "Trinidad and Tobago",
            "United States",
            "Uruguay"
           ],
           "legendgroup": "Americas",
           "marker": {
            "color": "#ab63fa"
           },
           "name": "Americas",
           "notched": false,
           "offsetgroup": "Americas",
           "orientation": "v",
           "showlegend": true,
           "type": "box",
           "x": [
            "Americas",
            "Americas",
            "Americas",
            "Americas",
            "Americas",
            "Americas",
            "Americas",
            "Americas",
            "Americas",
            "Americas",
            "Americas",
            "Americas",
            "Americas",
            "Americas",
            "Americas",
            "Americas",
            "Americas",
            "Americas",
            "Americas",
            "Americas",
            "Americas",
            "Americas",
            "Americas",
            "Americas"
           ],
           "x0": " ",
           "xaxis": "x",
           "y": [
            1379.81886741,
            240.157170254,
            741.6918705969998,
            6933.60655182,
            891.2738674039999,
            598.975288294,
            442.444664949,
            1154.55654156,
            573.372745636,
            360.600661999,
            484.967888203,
            491.473442413,
            317.810225983,
            499.277043223,
            1331.9860874,
            856.81120942,
            487.96346663800006,
            1159.6892715999998,
            540.588375968,
            648.807999388,
            null,
            2772.88276961,
            7940.99783226,
            872.986354117
           ],
           "y0": " ",
           "yaxis": "y"
          },
          {
           "alignmentgroup": "True",
           "boxpoints": "all",
           "hovertemplate": "<b>%{hovertext}</b><br><br>Continents=%{x}<br>Year=1972<br>Energy use (kg of oil equivalent per capita)=%{y}<extra></extra>",
           "hovertext": [
            "Australia",
            "New Zealand"
           ],
           "legendgroup": "Oceania",
           "marker": {
            "color": "#FFA15A"
           },
           "name": "Oceania",
           "notched": false,
           "offsetgroup": "Oceania",
           "orientation": "v",
           "showlegend": true,
           "type": "box",
           "x": [
            "Oceania",
            "Oceania"
           ],
           "x0": " ",
           "xaxis": "x",
           "y": [
            4035.20634439,
            2617.16105927
           ],
           "y0": " ",
           "yaxis": "y"
          }
         ],
         "name": "1972"
        },
        {
         "data": [
          {
           "alignmentgroup": "True",
           "boxpoints": "all",
           "hovertemplate": "<b>%{hovertext}</b><br><br>Continents=%{x}<br>Year=1977<br>Energy use (kg of oil equivalent per capita)=%{y}<extra></extra>",
           "hovertext": [
            "Afghanistan",
            "Bahrain",
            "Bangladesh",
            "Cambodia",
            "China",
            "India",
            "Indonesia",
            "Iraq",
            "Israel",
            "Japan",
            "Jordan",
            "Kuwait",
            "Lebanon",
            "Malaysia",
            "Mongolia",
            "Myanmar",
            "Nepal",
            "Oman",
            "Pakistan",
            "Philippines",
            "Saudi Arabia",
            "Singapore",
            "Sri Lanka",
            "Thailand",
            "Vietnam"
           ],
           "legendgroup": "Asia",
           "marker": {
            "color": "#636efa"
           },
           "name": "Asia",
           "notched": false,
           "offsetgroup": "Asia",
           "orientation": "v",
           "showlegend": true,
           "type": "box",
           "x": [
            "Asia",
            "Asia",
            "Asia",
            "Asia",
            "Asia",
            "Asia",
            "Asia",
            "Asia",
            "Asia",
            "Asia",
            "Asia",
            "Asia",
            "Asia",
            "Asia",
            "Asia",
            "Asia",
            "Asia",
            "Asia",
            "Asia",
            "Asia",
            "Asia",
            "Asia",
            "Asia",
            "Asia",
            "Asia"
           ],
           "x0": " ",
           "xaxis": "x",
           "y": [
            null,
            8187.11498635,
            97.860763105,
            null,
            577.211010594,
            283.275393642,
            347.868204367,
            626.354937731,
            1786.48768337,
            2899.90421823,
            473.5437315580001,
            6429.99850119,
            696.1964896339999,
            621.740086559,
            null,
            276.246179043,
            302.06554296,
            761.662333837,
            302.558312012,
            456.743021869,
            1368.95037047,
            1763.23012084,
            293.833883231,
            451.510578157,
            257.872313351
           ],
           "y0": " ",
           "yaxis": "y"
          },
          {
           "alignmentgroup": "True",
           "boxpoints": "all",
           "hovertemplate": "<b>%{hovertext}</b><br><br>Continents=%{x}<br>Year=1977<br>Energy use (kg of oil equivalent per capita)=%{y}<extra></extra>",
           "hovertext": [
            "Albania",
            "Austria",
            "Belgium",
            "Bosnia and Herzegovina",
            "Bulgaria",
            "Croatia",
            "Czech Republic",
            "Denmark",
            "Finland",
            "France",
            "Germany",
            "Greece",
            "Hungary",
            "Iceland",
            "Ireland",
            "Italy",
            "Montenegro",
            "Netherlands",
            "Norway",
            "Poland",
            "Portugal",
            "Romania",
            "Serbia",
            "Slovak Republic",
            "Slovenia",
            "Spain",
            "Sweden",
            "Switzerland",
            "Turkey",
            "United Kingdom"
           ],
           "legendgroup": "Europe",
           "marker": {
            "color": "#EF553B"
           },
           "name": "Europe",
           "notched": false,
           "offsetgroup": "Europe",
           "orientation": "v",
           "showlegend": true,
           "type": "box",
           "x": [
            "Europe",
            "Europe",
            "Europe",
            "Europe",
            "Europe",
            "Europe",
            "Europe",
            "Europe",
            "Europe",
            "Europe",
            "Europe",
            "Europe",
            "Europe",
            "Europe",
            "Europe",
            "Europe",
            "Europe",
            "Europe",
            "Europe",
            "Europe",
            "Europe",
            "Europe",
            "Europe",
            "Europe",
            "Europe",
            "Europe",
            "Europe",
            "Europe",
            "Europe",
            "Europe"
           ],
           "x0": " ",
           "xaxis": "x",
           "y": [
            923.728867504,
            2797.42192238,
            4589.52441,
            null,
            2954.26673889,
            null,
            4716.46270083,
            3830.10381024,
            4516.24806759,
            3155.62146854,
            4336.0874042,
            1469.54942907,
            2428.82933004,
            5602.87016623,
            2203.82152215,
            2204.17980667,
            null,
            4560.27311991,
            4060.10627707,
            3251.8025717,
            845.368945104,
            2735.43911555,
            null,
            3780.58944725,
            null,
            1667.64601643,
            5054.83376436,
            2877.79290941,
            778.4328071839999,
            3695.38387114
           ],
           "y0": " ",
           "yaxis": "y"
          },
          {
           "alignmentgroup": "True",
           "boxpoints": "all",
           "hovertemplate": "<b>%{hovertext}</b><br><br>Continents=%{x}<br>Year=1977<br>Energy use (kg of oil equivalent per capita)=%{y}<extra></extra>",
           "hovertext": [
            "Algeria",
            "Angola",
            "Benin",
            "Botswana",
            "Burkina Faso",
            "Burundi",
            "Cameroon",
            "Central African Republic",
            "Chad",
            "Comoros",
            "Cote d'Ivoire",
            "Djibouti",
            "Equatorial Guinea",
            "Eritrea",
            "Ethiopia",
            "Gabon",
            "Ghana",
            "Guinea",
            "Guinea-Bissau",
            "Kenya",
            "Lesotho",
            "Liberia",
            "Libya",
            "Madagascar",
            "Malawi",
            "Mali",
            "Mauritania",
            "Mauritius",
            "Morocco",
            "Mozambique",
            "Namibia",
            "Niger",
            "Nigeria",
            "Rwanda",
            "Sao Tome and Principe",
            "Senegal",
            "Sierra Leone",
            "Somalia",
            "South Africa",
            "Sudan",
            "Swaziland",
            "Tanzania",
            "Togo",
            "Tunisia",
            "Uganda",
            "Zambia",
            "Zimbabwe"
           ],
           "legendgroup": "Africa",
           "marker": {
            "color": "#00cc96"
           },
           "name": "Africa",
           "notched": false,
           "offsetgroup": "Africa",
           "orientation": "v",
           "showlegend": true,
           "type": "box",
           "x": [
            "Africa",
            "Africa",
            "Africa",
            "Africa",
            "Africa",
            "Africa",
            "Africa",
            "Africa",
            "Africa",
            "Africa",
            "Africa",
            "Africa",
            "Africa",
            "Africa",
            "Africa",
            "Africa",
            "Africa",
            "Africa",
            "Africa",
            "Africa",
            "Africa",
            "Africa",
            "Africa",
            "Africa",
            "Africa",
            "Africa",
            "Africa",
            "Africa",
            "Africa",
            "Africa",
            "Africa",
            "Africa",
            "Africa",
            "Africa",
            "Africa",
            "Africa",
            "Africa",
            "Africa",
            "Africa",
            "Africa",
            "Africa",
            "Africa",
            "Africa",
            "Africa",
            "Africa",
            "Africa",
            "Africa"
           ],
           "x0": " ",
           "xaxis": "x",
           "y": [
            398.656113469,
            535.2524622330001,
            363.746124276,
            null,
            null,
            null,
            402.624623832,
            null,
            null,
            null,
            449.52124719,
            null,
            null,
            null,
            432.458375494,
            2000.90013642,
            381.515147025,
            null,
            null,
            455.626061673,
            null,
            null,
            1455.08414725,
            null,
            null,
            null,
            null,
            474.222876797,
            252.036810104,
            608.405141326,
            null,
            null,
            634.258748201,
            null,
            null,
            281.840462003,
            null,
            null,
            2208.54919916,
            445.524031505,
            null,
            455.445767964,
            327.998948608,
            427.302747359,
            null,
            819.7872201060001,
            921.65469562
           ],
           "y0": " ",
           "yaxis": "y"
          },
          {
           "alignmentgroup": "True",
           "boxpoints": "all",
           "hovertemplate": "<b>%{hovertext}</b><br><br>Continents=%{x}<br>Year=1977<br>Energy use (kg of oil equivalent per capita)=%{y}<extra></extra>",
           "hovertext": [
            "Argentina",
            "Bolivia",
            "Brazil",
            "Canada",
            "Chile",
            "Colombia",
            "Costa Rica",
            "Cuba",
            "Dominican Republic",
            "Ecuador",
            "El Salvador",
            "Guatemala",
            "Haiti",
            "Honduras",
            "Jamaica",
            "Mexico",
            "Nicaragua",
            "Panama",
            "Paraguay",
            "Peru",
            "Puerto Rico",
            "Trinidad and Tobago",
            "United States",
            "Uruguay"
           ],
           "legendgroup": "Americas",
           "marker": {
            "color": "#ab63fa"
           },
           "name": "Americas",
           "notched": false,
           "offsetgroup": "Americas",
           "orientation": "v",
           "showlegend": true,
           "type": "box",
           "x": [
            "Americas",
            "Americas",
            "Americas",
            "Americas",
            "Americas",
            "Americas",
            "Americas",
            "Americas",
            "Americas",
            "Americas",
            "Americas",
            "Americas",
            "Americas",
            "Americas",
            "Americas",
            "Americas",
            "Americas",
            "Americas",
            "Americas",
            "Americas",
            "Americas",
            "Americas",
            "Americas",
            "Americas"
           ],
           "x0": " ",
           "xaxis": "x",
           "y": [
            1420.56765898,
            331.439253894,
            868.475086329,
            7409.53000504,
            779.391621026,
            638.025434659,
            528.165846592,
            1424.73743541,
            601.951784846,
            568.073705272,
            622.1297874219999,
            574.359356263,
            350.433910995,
            512.605428263,
            1153.48652689,
            1063.78037111,
            585.0413863719999,
            899.7691370580002,
            580.530937274,
            678.509067152,
            null,
            2808.51679767,
            8285.57089798,
            868.792103341
           ],
           "y0": " ",
           "yaxis": "y"
          },
          {
           "alignmentgroup": "True",
           "boxpoints": "all",
           "hovertemplate": "<b>%{hovertext}</b><br><br>Continents=%{x}<br>Year=1977<br>Energy use (kg of oil equivalent per capita)=%{y}<extra></extra>",
           "hovertext": [
            "Australia",
            "New Zealand"
           ],
           "legendgroup": "Oceania",
           "marker": {
            "color": "#FFA15A"
           },
           "name": "Oceania",
           "notched": false,
           "offsetgroup": "Oceania",
           "orientation": "v",
           "showlegend": true,
           "type": "box",
           "x": [
            "Oceania",
            "Oceania"
           ],
           "x0": " ",
           "xaxis": "x",
           "y": [
            4671.19567362,
            3055.08108455
           ],
           "y0": " ",
           "yaxis": "y"
          }
         ],
         "name": "1977"
        },
        {
         "data": [
          {
           "alignmentgroup": "True",
           "boxpoints": "all",
           "hovertemplate": "<b>%{hovertext}</b><br><br>Continents=%{x}<br>Year=1982<br>Energy use (kg of oil equivalent per capita)=%{y}<extra></extra>",
           "hovertext": [
            "Afghanistan",
            "Bahrain",
            "Bangladesh",
            "Cambodia",
            "China",
            "India",
            "Indonesia",
            "Iraq",
            "Israel",
            "Japan",
            "Jordan",
            "Kuwait",
            "Lebanon",
            "Malaysia",
            "Mongolia",
            "Myanmar",
            "Nepal",
            "Oman",
            "Pakistan",
            "Philippines",
            "Saudi Arabia",
            "Singapore",
            "Sri Lanka",
            "Thailand",
            "Vietnam"
           ],
           "legendgroup": "Asia",
           "marker": {
            "color": "#636efa"
           },
           "name": "Asia",
           "notched": false,
           "offsetgroup": "Asia",
           "orientation": "v",
           "showlegend": true,
           "type": "box",
           "x": [
            "Asia",
            "Asia",
            "Asia",
            "Asia",
            "Asia",
            "Asia",
            "Asia",
            "Asia",
            "Asia",
            "Asia",
            "Asia",
            "Asia",
            "Asia",
            "Asia",
            "Asia",
            "Asia",
            "Asia",
            "Asia",
            "Asia",
            "Asia",
            "Asia",
            "Asia",
            "Asia",
            "Asia",
            "Asia"
           ],
           "x0": " ",
           "xaxis": "x",
           "y": [
            null,
            9071.02474414,
            105.482961637,
            null,
            606.830437326,
            299.592677132,
            388.834624998,
            690.323799679,
            1958.31704292,
            2840.60843908,
            875.54040491,
            7548.12934744,
            678.5814280469999,
            898.6549052380002,
            null,
            270.238811656,
            305.746943514,
            1151.87126892,
            336.92280827900004,
            461.890994003,
            4215.42559694,
            1987.08730813,
            324.13036566,
            456.467867425,
            271.162299998
           ],
           "y0": " ",
           "yaxis": "y"
          },
          {
           "alignmentgroup": "True",
           "boxpoints": "all",
           "hovertemplate": "<b>%{hovertext}</b><br><br>Continents=%{x}<br>Year=1982<br>Energy use (kg of oil equivalent per capita)=%{y}<extra></extra>",
           "hovertext": [
            "Albania",
            "Austria",
            "Belgium",
            "Bosnia and Herzegovina",
            "Bulgaria",
            "Croatia",
            "Czech Republic",
            "Denmark",
            "Finland",
            "France",
            "Germany",
            "Greece",
            "Hungary",
            "Iceland",
            "Ireland",
            "Italy",
            "Montenegro",
            "Netherlands",
            "Norway",
            "Poland",
            "Portugal",
            "Romania",
            "Serbia",
            "Slovak Republic",
            "Slovenia",
            "Spain",
            "Sweden",
            "Switzerland",
            "Turkey",
            "United Kingdom"
           ],
           "legendgroup": "Europe",
           "marker": {
            "color": "#EF553B"
           },
           "name": "Europe",
           "notched": false,
           "offsetgroup": "Europe",
           "orientation": "v",
           "showlegend": true,
           "type": "box",
           "x": [
            "Europe",
            "Europe",
            "Europe",
            "Europe",
            "Europe",
            "Europe",
            "Europe",
            "Europe",
            "Europe",
            "Europe",
            "Europe",
            "Europe",
            "Europe",
            "Europe",
            "Europe",
            "Europe",
            "Europe",
            "Europe",
            "Europe",
            "Europe",
            "Europe",
            "Europe",
            "Europe",
            "Europe",
            "Europe",
            "Europe",
            "Europe",
            "Europe",
            "Europe",
            "Europe"
           ],
           "x0": " ",
           "xaxis": "x",
           "y": [
            966.683283781,
            2830.22178095,
            4208.25780214,
            null,
            3309.20642511,
            null,
            4633.61136678,
            3422.37480485,
            4805.49388193,
            3272.05274478,
            4257.86440736,
            1537.27769706,
            2630.75848148,
            7076.20798768,
            2356.8942567,
            2206.54273411,
            null,
            3785.11593558,
            4262.39171068,
            3412.49866376,
            1119.20463053,
            2876.73333115,
            null,
            3754.67958194,
            null,
            1762.40454547,
            4877.79989653,
            2984.22326318,
            732.662049648,
            3397.12228872
           ],
           "y0": " ",
           "yaxis": "y"
          },
          {
           "alignmentgroup": "True",
           "boxpoints": "all",
           "hovertemplate": "<b>%{hovertext}</b><br><br>Continents=%{x}<br>Year=1982<br>Energy use (kg of oil equivalent per capita)=%{y}<extra></extra>",
           "hovertext": [
            "Algeria",
            "Angola",
            "Benin",
            "Botswana",
            "Burkina Faso",
            "Burundi",
            "Cameroon",
            "Central African Republic",
            "Chad",
            "Comoros",
            "Cote d'Ivoire",
            "Djibouti",
            "Equatorial Guinea",
            "Eritrea",
            "Ethiopia",
            "Gabon",
            "Ghana",
            "Guinea",
            "Guinea-Bissau",
            "Kenya",
            "Lesotho",
            "Liberia",
            "Libya",
            "Madagascar",
            "Malawi",
            "Mali",
            "Mauritania",
            "Mauritius",
            "Morocco",
            "Mozambique",
            "Namibia",
            "Niger",
            "Nigeria",
            "Rwanda",
            "Sao Tome and Principe",
            "Senegal",
            "Sierra Leone",
            "Somalia",
            "South Africa",
            "Sudan",
            "Swaziland",
            "Tanzania",
            "Togo",
            "Tunisia",
            "Uganda",
            "Zambia",
            "Zimbabwe"
           ],
           "legendgroup": "Africa",
           "marker": {
            "color": "#00cc96"
           },
           "name": "Africa",
           "notched": false,
           "offsetgroup": "Africa",
           "orientation": "v",
           "showlegend": true,
           "type": "box",
           "x": [
            "Africa",
            "Africa",
            "Africa",
            "Africa",
            "Africa",
            "Africa",
            "Africa",
            "Africa",
            "Africa",
            "Africa",
            "Africa",
            "Africa",
            "Africa",
            "Africa",
            "Africa",
            "Africa",
            "Africa",
            "Africa",
            "Africa",
            "Africa",
            "Africa",
            "Africa",
            "Africa",
            "Africa",
            "Africa",
            "Africa",
            "Africa",
            "Africa",
            "Africa",
            "Africa",
            "Africa",
            "Africa",
            "Africa",
            "Africa",
            "Africa",
            "Africa",
            "Africa",
            "Africa",
            "Africa",
            "Africa",
            "Africa",
            "Africa",
            "Africa",
            "Africa",
            "Africa",
            "Africa",
            "Africa"
           ],
           "x0": " ",
           "xaxis": "x",
           "y": [
            771.235497639,
            514.415934309,
            355.338045025,
            739.29915268,
            null,
            null,
            423.360959463,
            null,
            null,
            null,
            393.432418022,
            null,
            null,
            null,
            434.058222854,
            2069.78785109,
            376.7088969880001,
            null,
            null,
            437.652286948,
            null,
            null,
            2397.98259634,
            null,
            null,
            null,
            null,
            414.601806914,
            268.259441677,
            523.782627433,
            null,
            null,
            689.4945390439999,
            null,
            null,
            260.719421235,
            null,
            null,
            2699.72841558,
            431.003010124,
            null,
            414.717967022,
            327.324375984,
            493.048630903,
            null,
            756.612333199,
            842.372683813
           ],
           "y0": " ",
           "yaxis": "y"
          },
          {
           "alignmentgroup": "True",
           "boxpoints": "all",
           "hovertemplate": "<b>%{hovertext}</b><br><br>Continents=%{x}<br>Year=1982<br>Energy use (kg of oil equivalent per capita)=%{y}<extra></extra>",
           "hovertext": [
            "Argentina",
            "Bolivia",
            "Brazil",
            "Canada",
            "Chile",
            "Colombia",
            "Costa Rica",
            "Cuba",
            "Dominican Republic",
            "Ecuador",
            "El Salvador",
            "Guatemala",
            "Haiti",
            "Honduras",
            "Jamaica",
            "Mexico",
            "Nicaragua",
            "Panama",
            "Paraguay",
            "Peru",
            "Puerto Rico",
            "Trinidad and Tobago",
            "United States",
            "Uruguay"
           ],
           "legendgroup": "Americas",
           "marker": {
            "color": "#ab63fa"
           },
           "name": "Americas",
           "notched": false,
           "offsetgroup": "Americas",
           "orientation": "v",
           "showlegend": true,
           "type": "box",
           "x": [
            "Americas",
            "Americas",
            "Americas",
            "Americas",
            "Americas",
            "Americas",
            "Americas",
            "Americas",
            "Americas",
            "Americas",
            "Americas",
            "Americas",
            "Americas",
            "Americas",
            "Americas",
            "Americas",
            "Americas",
            "Americas",
            "Americas",
            "Americas",
            "Americas",
            "Americas",
            "Americas",
            "Americas"
           ],
           "x0": " ",
           "xaxis": "x",
           "y": [
            1416.53992488,
            462.43170312,
            867.193602187,
            7149.344059999999,
            763.201224638,
            635.432893568,
            455.822967416,
            1536.90510757,
            596.93367919,
            666.635807378,
            595.2355137530001,
            482.712477796,
            301.847692756,
            520.393217065,
            1040.31180401,
            1465.05024708,
            469.268615848,
            796.469906347,
            630.648885594,
            632.7254874390001,
            null,
            3648.18714807,
            7259.07889875,
            766.1430987780002
           ],
           "y0": " ",
           "yaxis": "y"
          },
          {
           "alignmentgroup": "True",
           "boxpoints": "all",
           "hovertemplate": "<b>%{hovertext}</b><br><br>Continents=%{x}<br>Year=1982<br>Energy use (kg of oil equivalent per capita)=%{y}<extra></extra>",
           "hovertext": [
            "Australia",
            "New Zealand"
           ],
           "legendgroup": "Oceania",
           "marker": {
            "color": "#FFA15A"
           },
           "name": "Oceania",
           "notched": false,
           "offsetgroup": "Oceania",
           "orientation": "v",
           "showlegend": true,
           "type": "box",
           "x": [
            "Oceania",
            "Oceania"
           ],
           "x0": " ",
           "xaxis": "x",
           "y": [
            4817.48952431,
            3012.97138874
           ],
           "y0": " ",
           "yaxis": "y"
          }
         ],
         "name": "1982"
        },
        {
         "data": [
          {
           "alignmentgroup": "True",
           "boxpoints": "all",
           "hovertemplate": "<b>%{hovertext}</b><br><br>Continents=%{x}<br>Year=1987<br>Energy use (kg of oil equivalent per capita)=%{y}<extra></extra>",
           "hovertext": [
            "Afghanistan",
            "Bahrain",
            "Bangladesh",
            "Cambodia",
            "China",
            "India",
            "Indonesia",
            "Iraq",
            "Israel",
            "Japan",
            "Jordan",
            "Kuwait",
            "Lebanon",
            "Malaysia",
            "Mongolia",
            "Myanmar",
            "Nepal",
            "Oman",
            "Pakistan",
            "Philippines",
            "Saudi Arabia",
            "Singapore",
            "Sri Lanka",
            "Thailand",
            "Vietnam"
           ],
           "legendgroup": "Asia",
           "marker": {
            "color": "#636efa"
           },
           "name": "Asia",
           "notched": false,
           "offsetgroup": "Asia",
           "orientation": "v",
           "showlegend": true,
           "type": "box",
           "x": [
            "Asia",
            "Asia",
            "Asia",
            "Asia",
            "Asia",
            "Asia",
            "Asia",
            "Asia",
            "Asia",
            "Asia",
            "Asia",
            "Asia",
            "Asia",
            "Asia",
            "Asia",
            "Asia",
            "Asia",
            "Asia",
            "Asia",
            "Asia",
            "Asia",
            "Asia",
            "Asia",
            "Asia",
            "Asia"
           ],
           "x0": " ",
           "xaxis": "x",
           "y": [
            null,
            9523.46356521,
            106.866835127,
            null,
            694.4223599789999,
            325.73809089400004,
            436.663234979,
            958.189471661,
            2278.47928588,
            3044.11508629,
            998.355658577,
            8616.57655309,
            996.943321974,
            1078.98626036,
            1746.24080026,
            269.30095308,
            307.065111322,
            1412.3831509,
            376.344243754,
            433.357672285,
            3750.91313869,
            2757.88068931,
            328.090886835,
            531.762695185,
            286.657214575
           ],
           "y0": " ",
           "yaxis": "y"
          },
          {
           "alignmentgroup": "True",
           "boxpoints": "all",
           "hovertemplate": "<b>%{hovertext}</b><br><br>Continents=%{x}<br>Year=1987<br>Energy use (kg of oil equivalent per capita)=%{y}<extra></extra>",
           "hovertext": [
            "Albania",
            "Austria",
            "Belgium",
            "Bosnia and Herzegovina",
            "Bulgaria",
            "Croatia",
            "Czech Republic",
            "Denmark",
            "Finland",
            "France",
            "Germany",
            "Greece",
            "Hungary",
            "Iceland",
            "Ireland",
            "Italy",
            "Montenegro",
            "Netherlands",
            "Norway",
            "Poland",
            "Portugal",
            "Romania",
            "Serbia",
            "Slovak Republic",
            "Slovenia",
            "Spain",
            "Sweden",
            "Switzerland",
            "Turkey",
            "United Kingdom"
           ],
           "legendgroup": "Europe",
           "marker": {
            "color": "#EF553B"
           },
           "name": "Europe",
           "notched": false,
           "offsetgroup": "Europe",
           "orientation": "v",
           "showlegend": true,
           "type": "box",
           "x": [
            "Europe",
            "Europe",
            "Europe",
            "Europe",
            "Europe",
            "Europe",
            "Europe",
            "Europe",
            "Europe",
            "Europe",
            "Europe",
            "Europe",
            "Europe",
            "Europe",
            "Europe",
            "Europe",
            "Europe",
            "Europe",
            "Europe",
            "Europe",
            "Europe",
            "Europe",
            "Europe",
            "Europe",
            "Europe",
            "Europe",
            "Europe",
            "Europe",
            "Europe",
            "Europe"
           ],
           "x0": " ",
           "xaxis": "x",
           "y": [
            921.893044018,
            3174.74539203,
            4727.68639528,
            null,
            3411.07339479,
            null,
            4978.254944899999,
            3819.83212874,
            5960.69258613,
            3690.65145306,
            4616.39706207,
            1791.83338591,
            2894.82745315,
            7857.45488268,
            2608.80658136,
            2407.25635314,
            null,
            4387.67068914,
            5048.49930916,
            3535.48197152,
            1241.1956653,
            3027.56521622,
            null,
            4074.77904741,
            null,
            1919.44664907,
            5763.0704408,
            3430.8555125,
            917.976137079,
            3619.07726922
           ],
           "y0": " ",
           "yaxis": "y"
          },
          {
           "alignmentgroup": "True",
           "boxpoints": "all",
           "hovertemplate": "<b>%{hovertext}</b><br><br>Continents=%{x}<br>Year=1987<br>Energy use (kg of oil equivalent per capita)=%{y}<extra></extra>",
           "hovertext": [
            "Algeria",
            "Angola",
            "Benin",
            "Botswana",
            "Burkina Faso",
            "Burundi",
            "Cameroon",
            "Central African Republic",
            "Chad",
            "Comoros",
            "Cote d'Ivoire",
            "Djibouti",
            "Equatorial Guinea",
            "Eritrea",
            "Ethiopia",
            "Gabon",
            "Ghana",
            "Guinea",
            "Guinea-Bissau",
            "Kenya",
            "Lesotho",
            "Liberia",
            "Libya",
            "Madagascar",
            "Malawi",
            "Mali",
            "Mauritania",
            "Mauritius",
            "Morocco",
            "Mozambique",
            "Namibia",
            "Niger",
            "Nigeria",
            "Rwanda",
            "Sao Tome and Principe",
            "Senegal",
            "Sierra Leone",
            "Somalia",
            "South Africa",
            "Sudan",
            "Swaziland",
            "Tanzania",
            "Togo",
            "Tunisia",
            "Uganda",
            "Zambia",
            "Zimbabwe"
           ],
           "legendgroup": "Africa",
           "marker": {
            "color": "#00cc96"
           },
           "name": "Africa",
           "notched": false,
           "offsetgroup": "Africa",
           "orientation": "v",
           "showlegend": true,
           "type": "box",
           "x": [
            "Africa",
            "Africa",
            "Africa",
            "Africa",
            "Africa",
            "Africa",
            "Africa",
            "Africa",
            "Africa",
            "Africa",
            "Africa",
            "Africa",
            "Africa",
            "Africa",
            "Africa",
            "Africa",
            "Africa",
            "Africa",
            "Africa",
            "Africa",
            "Africa",
            "Africa",
            "Africa",
            "Africa",
            "Africa",
            "Africa",
            "Africa",
            "Africa",
            "Africa",
            "Africa",
            "Africa",
            "Africa",
            "Africa",
            "Africa",
            "Africa",
            "Africa",
            "Africa",
            "Africa",
            "Africa",
            "Africa",
            "Africa",
            "Africa",
            "Africa",
            "Africa",
            "Africa",
            "Africa",
            "Africa"
           ],
           "x0": " ",
           "xaxis": "x",
           "y": [
            827.552506829,
            502.598458911,
            347.306591796,
            743.685354401,
            null,
            null,
            417.73292245,
            null,
            null,
            null,
            383.372484812,
            null,
            null,
            null,
            437.234995296,
            1470.39664628,
            363.852104774,
            null,
            null,
            464.00933684,
            null,
            null,
            2700.28315715,
            null,
            null,
            null,
            null,
            512.011597538,
            277.485699249,
            474.548861116,
            null,
            null,
            674.47298453,
            null,
            null,
            254.211898654,
            null,
            null,
            2831.14750181,
            397.42097884300006,
            null,
            394.145177081,
            328.062332773,
            542.645168334,
            null,
            700.14084375,
            896.673611477
           ],
           "y0": " ",
           "yaxis": "y"
          },
          {
           "alignmentgroup": "True",
           "boxpoints": "all",
           "hovertemplate": "<b>%{hovertext}</b><br><br>Continents=%{x}<br>Year=1987<br>Energy use (kg of oil equivalent per capita)=%{y}<extra></extra>",
           "hovertext": [
            "Argentina",
            "Bolivia",
            "Brazil",
            "Canada",
            "Chile",
            "Colombia",
            "Costa Rica",
            "Cuba",
            "Dominican Republic",
            "Ecuador",
            "El Salvador",
            "Guatemala",
            "Haiti",
            "Honduras",
            "Jamaica",
            "Mexico",
            "Nicaragua",
            "Panama",
            "Paraguay",
            "Peru",
            "Puerto Rico",
            "Trinidad and Tobago",
            "United States",
            "Uruguay"
           ],
           "legendgroup": "Americas",
           "marker": {
            "color": "#ab63fa"
           },
           "name": "Americas",
           "notched": false,
           "offsetgroup": "Americas",
           "orientation": "v",
           "showlegend": true,
           "type": "box",
           "x": [
            "Americas",
            "Americas",
            "Americas",
            "Americas",
            "Americas",
            "Americas",
            "Americas",
            "Americas",
            "Americas",
            "Americas",
            "Americas",
            "Americas",
            "Americas",
            "Americas",
            "Americas",
            "Americas",
            "Americas",
            "Americas",
            "Americas",
            "Americas",
            "Americas",
            "Americas",
            "Americas",
            "Americas"
           ],
           "x0": " ",
           "xaxis": "x",
           "y": [
            1477.07652885,
            341.493450003,
            987.562557183,
            7641.32410546,
            826.260796732,
            696.0663928460001,
            491.495062694,
            1578.25907104,
            594.381238984,
            602.470062495,
            503.481769676,
            448.694681999,
            226.326971354,
            481.319956646,
            765.4628605460001,
            1379.33314201,
            502.383245685,
            730.8000538289999,
            699.102776962,
            540.974320389,
            null,
            4188.6453215,
            7622.17301652,
            718.448623294
           ],
           "y0": " ",
           "yaxis": "y"
          },
          {
           "alignmentgroup": "True",
           "boxpoints": "all",
           "hovertemplate": "<b>%{hovertext}</b><br><br>Continents=%{x}<br>Year=1987<br>Energy use (kg of oil equivalent per capita)=%{y}<extra></extra>",
           "hovertext": [
            "Australia",
            "New Zealand"
           ],
           "legendgroup": "Oceania",
           "marker": {
            "color": "#FFA15A"
           },
           "name": "Oceania",
           "notched": false,
           "offsetgroup": "Oceania",
           "orientation": "v",
           "showlegend": true,
           "type": "box",
           "x": [
            "Oceania",
            "Oceania"
           ],
           "x0": " ",
           "xaxis": "x",
           "y": [
            4772.37046465,
            3452.96268019
           ],
           "y0": " ",
           "yaxis": "y"
          }
         ],
         "name": "1987"
        },
        {
         "data": [
          {
           "alignmentgroup": "True",
           "boxpoints": "all",
           "hovertemplate": "<b>%{hovertext}</b><br><br>Continents=%{x}<br>Year=1992<br>Energy use (kg of oil equivalent per capita)=%{y}<extra></extra>",
           "hovertext": [
            "Afghanistan",
            "Bahrain",
            "Bangladesh",
            "Cambodia",
            "China",
            "India",
            "Indonesia",
            "Iraq",
            "Israel",
            "Japan",
            "Jordan",
            "Kuwait",
            "Lebanon",
            "Malaysia",
            "Mongolia",
            "Myanmar",
            "Nepal",
            "Oman",
            "Pakistan",
            "Philippines",
            "Saudi Arabia",
            "Singapore",
            "Sri Lanka",
            "Thailand",
            "Vietnam",
            "West Bank and Gaza"
           ],
           "legendgroup": "Asia",
           "marker": {
            "color": "#636efa"
           },
           "name": "Asia",
           "notched": false,
           "offsetgroup": "Asia",
           "orientation": "v",
           "showlegend": true,
           "type": "box",
           "x": [
            "Asia",
            "Asia",
            "Asia",
            "Asia",
            "Asia",
            "Asia",
            "Asia",
            "Asia",
            "Asia",
            "Asia",
            "Asia",
            "Asia",
            "Asia",
            "Asia",
            "Asia",
            "Asia",
            "Asia",
            "Asia",
            "Asia",
            "Asia",
            "Asia",
            "Asia",
            "Asia",
            "Asia",
            "Asia",
            "Asia"
           ],
           "x0": " ",
           "xaxis": "x",
           "y": [
            null,
            10844.7550254,
            119.405481659,
            null,
            752.628662541,
            365.379491444,
            574.344890279,
            1311.18896852,
            2580.96935389,
            3652.07124745,
            1015.41769856,
            null,
            868.56933067,
            1566.72481216,
            1488.63742731,
            251.060745819,
            309.74507691900004,
            2756.42578415,
            412.405215402,
            460.545976337,
            4421.45445335,
            4588.43321165,
            327.882389865,
            840.141111806,
            276.1308749,
            null
           ],
           "y0": " ",
           "yaxis": "y"
          },
          {
           "alignmentgroup": "True",
           "boxpoints": "all",
           "hovertemplate": "<b>%{hovertext}</b><br><br>Continents=%{x}<br>Year=1992<br>Energy use (kg of oil equivalent per capita)=%{y}<extra></extra>",
           "hovertext": [
            "Albania",
            "Austria",
            "Belgium",
            "Bosnia and Herzegovina",
            "Bulgaria",
            "Croatia",
            "Czech Republic",
            "Denmark",
            "Finland",
            "France",
            "Germany",
            "Greece",
            "Hungary",
            "Iceland",
            "Ireland",
            "Italy",
            "Montenegro",
            "Netherlands",
            "Norway",
            "Poland",
            "Portugal",
            "Romania",
            "Serbia",
            "Slovak Republic",
            "Slovenia",
            "Spain",
            "Sweden",
            "Switzerland",
            "Turkey",
            "United Kingdom"
           ],
           "legendgroup": "Europe",
           "marker": {
            "color": "#EF553B"
           },
           "name": "Europe",
           "notched": false,
           "offsetgroup": "Europe",
           "orientation": "v",
           "showlegend": true,
           "type": "box",
           "x": [
            "Europe",
            "Europe",
            "Europe",
            "Europe",
            "Europe",
            "Europe",
            "Europe",
            "Europe",
            "Europe",
            "Europe",
            "Europe",
            "Europe",
            "Europe",
            "Europe",
            "Europe",
            "Europe",
            "Europe",
            "Europe",
            "Europe",
            "Europe",
            "Europe",
            "Europe",
            "Europe",
            "Europe",
            "Europe",
            "Europe",
            "Europe",
            "Europe",
            "Europe",
            "Europe"
           ],
           "x0": " ",
           "xaxis": "x",
           "y": [
            418.286629757,
            3239.0639673,
            5092.96578511,
            1034.34415156,
            2396.00726637,
            1502.13713647,
            4222.41657552,
            3561.89036948,
            5380.99306782,
            3954.00370317,
            4190.98422047,
            2129.89451644,
            2423.17944795,
            7755.39441578,
            2775.21800345,
            2627.34000777,
            null,
            4501.66087489,
            5159.65421807,
            2569.17533457,
            1813.8858461,
            2052.96292702,
            2020.15373461,
            3410.7278847,
            2584.33517088,
            2435.96962149,
            5369.37035674,
            3613.49260926,
            960.859171935,
            3684.72453527
           ],
           "y0": " ",
           "yaxis": "y"
          },
          {
           "alignmentgroup": "True",
           "boxpoints": "all",
           "hovertemplate": "<b>%{hovertext}</b><br><br>Continents=%{x}<br>Year=1992<br>Energy use (kg of oil equivalent per capita)=%{y}<extra></extra>",
           "hovertext": [
            "Algeria",
            "Angola",
            "Benin",
            "Botswana",
            "Burkina Faso",
            "Burundi",
            "Cameroon",
            "Central African Republic",
            "Chad",
            "Comoros",
            "Cote d'Ivoire",
            "Djibouti",
            "Equatorial Guinea",
            "Eritrea",
            "Ethiopia",
            "Gabon",
            "Ghana",
            "Guinea",
            "Guinea-Bissau",
            "Kenya",
            "Lesotho",
            "Liberia",
            "Libya",
            "Madagascar",
            "Malawi",
            "Mali",
            "Mauritania",
            "Mauritius",
            "Morocco",
            "Mozambique",
            "Namibia",
            "Niger",
            "Nigeria",
            "Rwanda",
            "Sao Tome and Principe",
            "Senegal",
            "Sierra Leone",
            "Somalia",
            "South Africa",
            "Sudan",
            "Swaziland",
            "Tanzania",
            "Togo",
            "Tunisia",
            "Uganda",
            "Zambia",
            "Zimbabwe"
           ],
           "legendgroup": "Africa",
           "marker": {
            "color": "#00cc96"
           },
           "name": "Africa",
           "notched": false,
           "offsetgroup": "Africa",
           "orientation": "v",
           "showlegend": true,
           "type": "box",
           "x": [
            "Africa",
            "Africa",
            "Africa",
            "Africa",
            "Africa",
            "Africa",
            "Africa",
            "Africa",
            "Africa",
            "Africa",
            "Africa",
            "Africa",
            "Africa",
            "Africa",
            "Africa",
            "Africa",
            "Africa",
            "Africa",
            "Africa",
            "Africa",
            "Africa",
            "Africa",
            "Africa",
            "Africa",
            "Africa",
            "Africa",
            "Africa",
            "Africa",
            "Africa",
            "Africa",
            "Africa",
            "Africa",
            "Africa",
            "Africa",
            "Africa",
            "Africa",
            "Africa",
            "Africa",
            "Africa",
            "Africa",
            "Africa",
            "Africa",
            "Africa",
            "Africa",
            "Africa",
            "Africa",
            "Africa"
           ],
           "x0": " ",
           "xaxis": "x",
           "y": [
            883.7458819,
            511.237051724,
            321.349456122,
            979.087310581,
            null,
            null,
            397.277540786,
            null,
            null,
            null,
            373.659519455,
            null,
            null,
            277.580928028,
            431.15182408,
            1298.09635297,
            366.522645114,
            null,
            null,
            445.111805733,
            null,
            null,
            2452.19740381,
            null,
            null,
            null,
            null,
            657.7868228880001,
            327.952990834,
            420.272139083,
            496.518769708,
            null,
            719.308370017,
            null,
            null,
            222.634685966,
            null,
            null,
            2414.3981946,
            386.72897561,
            null,
            369.835021604,
            328.69853999,
            641.6905970619999,
            null,
            662.721536129,
            923.493407317
           ],
           "y0": " ",
           "yaxis": "y"
          },
          {
           "alignmentgroup": "True",
           "boxpoints": "all",
           "hovertemplate": "<b>%{hovertext}</b><br><br>Continents=%{x}<br>Year=1992<br>Energy use (kg of oil equivalent per capita)=%{y}<extra></extra>",
           "hovertext": [
            "Argentina",
            "Bolivia",
            "Brazil",
            "Canada",
            "Chile",
            "Colombia",
            "Costa Rica",
            "Cuba",
            "Dominican Republic",
            "Ecuador",
            "El Salvador",
            "Guatemala",
            "Haiti",
            "Honduras",
            "Jamaica",
            "Mexico",
            "Nicaragua",
            "Panama",
            "Paraguay",
            "Peru",
            "Puerto Rico",
            "Trinidad and Tobago",
            "United States",
            "Uruguay"
           ],
           "legendgroup": "Americas",
           "marker": {
            "color": "#ab63fa"
           },
           "name": "Americas",
           "notched": false,
           "offsetgroup": "Americas",
           "orientation": "v",
           "showlegend": true,
           "type": "box",
           "x": [
            "Americas",
            "Americas",
            "Americas",
            "Americas",
            "Americas",
            "Americas",
            "Americas",
            "Americas",
            "Americas",
            "Americas",
            "Americas",
            "Americas",
            "Americas",
            "Americas",
            "Americas",
            "Americas",
            "Americas",
            "Americas",
            "Americas",
            "Americas",
            "Americas",
            "Americas",
            "Americas",
            "Americas"
           ],
           "x0": " ",
           "xaxis": "x",
           "y": [
            1484.0589177000004,
            399.828007323,
            929.003678998,
            7479.477427399999,
            1141.81007039,
            704.354798517,
            705.487675532,
            1214.11700599,
            603.781376066,
            629.220777401,
            525.453706523,
            497.344297754,
            219.075496949,
            483.335543947,
            1215.0555252,
            1452.97190576,
            509.839947747,
            715.38365957,
            712.691343364,
            408.43313224,
            null,
            5286.28687516,
            7677.40140109,
            855.1247871139999
           ],
           "y0": " ",
           "yaxis": "y"
          },
          {
           "alignmentgroup": "True",
           "boxpoints": "all",
           "hovertemplate": "<b>%{hovertext}</b><br><br>Continents=%{x}<br>Year=1992<br>Energy use (kg of oil equivalent per capita)=%{y}<extra></extra>",
           "hovertext": [
            "Australia",
            "New Zealand"
           ],
           "legendgroup": "Oceania",
           "marker": {
            "color": "#FFA15A"
           },
           "name": "Oceania",
           "notched": false,
           "offsetgroup": "Oceania",
           "orientation": "v",
           "showlegend": true,
           "type": "box",
           "x": [
            "Oceania",
            "Oceania"
           ],
           "x0": " ",
           "xaxis": "x",
           "y": [
            4959.21491855,
            3808.4772206
           ],
           "y0": " ",
           "yaxis": "y"
          }
         ],
         "name": "1992"
        },
        {
         "data": [
          {
           "alignmentgroup": "True",
           "boxpoints": "all",
           "hovertemplate": "<b>%{hovertext}</b><br><br>Continents=%{x}<br>Year=1997<br>Energy use (kg of oil equivalent per capita)=%{y}<extra></extra>",
           "hovertext": [
            "Afghanistan",
            "Bahrain",
            "Bangladesh",
            "Cambodia",
            "China",
            "India",
            "Indonesia",
            "Iraq",
            "Israel",
            "Japan",
            "Jordan",
            "Kuwait",
            "Lebanon",
            "Malaysia",
            "Mongolia",
            "Myanmar",
            "Nepal",
            "Oman",
            "Pakistan",
            "Philippines",
            "Saudi Arabia",
            "Singapore",
            "Sri Lanka",
            "Thailand",
            "Vietnam",
            "West Bank and Gaza"
           ],
           "legendgroup": "Asia",
           "marker": {
            "color": "#636efa"
           },
           "name": "Asia",
           "notched": false,
           "offsetgroup": "Asia",
           "orientation": "v",
           "showlegend": true,
           "type": "box",
           "x": [
            "Asia",
            "Asia",
            "Asia",
            "Asia",
            "Asia",
            "Asia",
            "Asia",
            "Asia",
            "Asia",
            "Asia",
            "Asia",
            "Asia",
            "Asia",
            "Asia",
            "Asia",
            "Asia",
            "Asia",
            "Asia",
            "Asia",
            "Asia",
            "Asia",
            "Asia",
            "Asia",
            "Asia",
            "Asia",
            "Asia"
           ],
           "x0": " ",
           "xaxis": "x",
           "y": [
            null,
            12122.0506027,
            135.210016124,
            265.896639422,
            871.6462695360001,
            399.052528907,
            690.7954914339999,
            1861.7960965,
            2881.12834133,
            4048.98200021,
            991.96787502,
            8764.51262442,
            1698.3102702999995,
            2063.52696529,
            951.851569598,
            263.20255292,
            316.822270368,
            3027.90856152,
            448.925191849,
            500.989771655,
            4354.65523263,
            5818.15092473,
            380.086721607,
            1164.94784692,
            335.170556166,
            null
           ],
           "y0": " ",
           "yaxis": "y"
          },
          {
           "alignmentgroup": "True",
           "boxpoints": "all",
           "hovertemplate": "<b>%{hovertext}</b><br><br>Continents=%{x}<br>Year=1997<br>Energy use (kg of oil equivalent per capita)=%{y}<extra></extra>",
           "hovertext": [
            "Albania",
            "Austria",
            "Belgium",
            "Bosnia and Herzegovina",
            "Bulgaria",
            "Croatia",
            "Czech Republic",
            "Denmark",
            "Finland",
            "France",
            "Germany",
            "Greece",
            "Hungary",
            "Iceland",
            "Ireland",
            "Italy",
            "Montenegro",
            "Netherlands",
            "Norway",
            "Poland",
            "Portugal",
            "Romania",
            "Serbia",
            "Slovak Republic",
            "Slovenia",
            "Spain",
            "Sweden",
            "Switzerland",
            "Turkey",
            "United Kingdom"
           ],
           "legendgroup": "Europe",
           "marker": {
            "color": "#EF553B"
           },
           "name": "Europe",
           "notched": false,
           "offsetgroup": "Europe",
           "orientation": "v",
           "showlegend": true,
           "type": "box",
           "x": [
            "Europe",
            "Europe",
            "Europe",
            "Europe",
            "Europe",
            "Europe",
            "Europe",
            "Europe",
            "Europe",
            "Europe",
            "Europe",
            "Europe",
            "Europe",
            "Europe",
            "Europe",
            "Europe",
            "Europe",
            "Europe",
            "Europe",
            "Europe",
            "Europe",
            "Europe",
            "Europe",
            "Europe",
            "Europe",
            "Europe",
            "Europe",
            "Europe",
            "Europe",
            "Europe"
           ],
           "x0": " ",
           "xaxis": "x",
           "y": [
            384.594958328,
            3542.5214303,
            5579.51075728,
            712.9252777060001,
            2504.12268042,
            1704.81692913,
            4184.88468363,
            3848.1558436,
            6276.95169203,
            4049.35046526,
            4203.3573666,
            2282.13703466,
            2527.30162599,
            8584.10049866,
            3255.49845122,
            2834.40294607,
            null,
            4579.47478164,
            5477.88285412,
            2643.12353589,
            2083.48767635,
            1989.99418196,
            2299.90425855,
            3361.88402225,
            3310.40063325,
            2666.2640552,
            5672.0081772,
            3526.10543855,
            1165.81161631,
            3760.71236505
           ],
           "y0": " ",
           "yaxis": "y"
          },
          {
           "alignmentgroup": "True",
           "boxpoints": "all",
           "hovertemplate": "<b>%{hovertext}</b><br><br>Continents=%{x}<br>Year=1997<br>Energy use (kg of oil equivalent per capita)=%{y}<extra></extra>",
           "hovertext": [
            "Algeria",
            "Angola",
            "Benin",
            "Botswana",
            "Burkina Faso",
            "Burundi",
            "Cameroon",
            "Central African Republic",
            "Chad",
            "Comoros",
            "Cote d'Ivoire",
            "Djibouti",
            "Equatorial Guinea",
            "Eritrea",
            "Ethiopia",
            "Gabon",
            "Ghana",
            "Guinea",
            "Guinea-Bissau",
            "Kenya",
            "Lesotho",
            "Liberia",
            "Libya",
            "Madagascar",
            "Malawi",
            "Mali",
            "Mauritania",
            "Mauritius",
            "Morocco",
            "Mozambique",
            "Namibia",
            "Niger",
            "Nigeria",
            "Rwanda",
            "Sao Tome and Principe",
            "Senegal",
            "Sierra Leone",
            "Somalia",
            "South Africa",
            "Sudan",
            "Swaziland",
            "Tanzania",
            "Togo",
            "Tunisia",
            "Uganda",
            "Zambia",
            "Zimbabwe"
           ],
           "legendgroup": "Africa",
           "marker": {
            "color": "#00cc96"
           },
           "name": "Africa",
           "notched": false,
           "offsetgroup": "Africa",
           "orientation": "v",
           "showlegend": true,
           "type": "box",
           "x": [
            "Africa",
            "Africa",
            "Africa",
            "Africa",
            "Africa",
            "Africa",
            "Africa",
            "Africa",
            "Africa",
            "Africa",
            "Africa",
            "Africa",
            "Africa",
            "Africa",
            "Africa",
            "Africa",
            "Africa",
            "Africa",
            "Africa",
            "Africa",
            "Africa",
            "Africa",
            "Africa",
            "Africa",
            "Africa",
            "Africa",
            "Africa",
            "Africa",
            "Africa",
            "Africa",
            "Africa",
            "Africa",
            "Africa",
            "Africa",
            "Africa",
            "Africa",
            "Africa",
            "Africa",
            "Africa",
            "Africa",
            "Africa",
            "Africa",
            "Africa",
            "Africa",
            "Africa",
            "Africa",
            "Africa"
           ],
           "x0": " ",
           "xaxis": "x",
           "y": [
            804.842705115,
            494.174484207,
            350.78972053,
            900.173527778,
            null,
            null,
            396.727156517,
            null,
            null,
            null,
            386.175169435,
            null,
            null,
            319.16492977400003,
            435.145404589,
            1236.01768782,
            398.339353834,
            null,
            null,
            441.007660811,
            null,
            null,
            2991.94395278,
            null,
            null,
            null,
            null,
            712.571976967,
            362.27042057,
            390.685096382,
            594.756148267,
            null,
            696.8847876410001,
            null,
            null,
            221.005820684,
            null,
            null,
            2655.26925959,
            392.294923579,
            null,
            357.261154316,
            384.078207642,
            679.079751272,
            null,
            617.209365016,
            804.5088922269998
           ],
           "y0": " ",
           "yaxis": "y"
          },
          {
           "alignmentgroup": "True",
           "boxpoints": "all",
           "hovertemplate": "<b>%{hovertext}</b><br><br>Continents=%{x}<br>Year=1997<br>Energy use (kg of oil equivalent per capita)=%{y}<extra></extra>",
           "hovertext": [
            "Argentina",
            "Bolivia",
            "Brazil",
            "Canada",
            "Chile",
            "Colombia",
            "Costa Rica",
            "Cuba",
            "Dominican Republic",
            "Ecuador",
            "El Salvador",
            "Guatemala",
            "Haiti",
            "Honduras",
            "Jamaica",
            "Mexico",
            "Nicaragua",
            "Panama",
            "Paraguay",
            "Peru",
            "Puerto Rico",
            "Trinidad and Tobago",
            "United States",
            "Uruguay"
           ],
           "legendgroup": "Americas",
           "marker": {
            "color": "#ab63fa"
           },
           "name": "Americas",
           "notched": false,
           "offsetgroup": "Americas",
           "orientation": "v",
           "showlegend": true,
           "type": "box",
           "x": [
            "Americas",
            "Americas",
            "Americas",
            "Americas",
            "Americas",
            "Americas",
            "Americas",
            "Americas",
            "Americas",
            "Americas",
            "Americas",
            "Americas",
            "Americas",
            "Americas",
            "Americas",
            "Americas",
            "Americas",
            "Americas",
            "Americas",
            "Americas",
            "Americas",
            "Americas",
            "Americas",
            "Americas"
           ],
           "x0": " ",
           "xaxis": "x",
           "y": [
            1614.33824027,
            561.077061465,
            1061.83829204,
            7965.51932158,
            1558.78524634,
            709.8217022360001,
            647.0037811669999,
            1125.97333686,
            749.844735219,
            721.687588695,
            624.096762293,
            526.326033275,
            252.463093356,
            528.901564325,
            1333.59707253,
            1398.88398183,
            503.04461939,
            777.742373207,
            877.0448880460001,
            440.557973649,
            null,
            5437.91312128,
            7828.5810964,
            880.633650605
           ],
           "y0": " ",
           "yaxis": "y"
          },
          {
           "alignmentgroup": "True",
           "boxpoints": "all",
           "hovertemplate": "<b>%{hovertext}</b><br><br>Continents=%{x}<br>Year=1997<br>Energy use (kg of oil equivalent per capita)=%{y}<extra></extra>",
           "hovertext": [
            "Australia",
            "New Zealand"
           ],
           "legendgroup": "Oceania",
           "marker": {
            "color": "#FFA15A"
           },
           "name": "Oceania",
           "notched": false,
           "offsetgroup": "Oceania",
           "orientation": "v",
           "showlegend": true,
           "type": "box",
           "x": [
            "Oceania",
            "Oceania"
           ],
           "x0": " ",
           "xaxis": "x",
           "y": [
            5469.5999892,
            4258.75677677
           ],
           "y0": " ",
           "yaxis": "y"
          }
         ],
         "name": "1997"
        },
        {
         "data": [
          {
           "alignmentgroup": "True",
           "boxpoints": "all",
           "hovertemplate": "<b>%{hovertext}</b><br><br>Continents=%{x}<br>Year=2002<br>Energy use (kg of oil equivalent per capita)=%{y}<extra></extra>",
           "hovertext": [
            "Afghanistan",
            "Bahrain",
            "Bangladesh",
            "Cambodia",
            "China",
            "India",
            "Indonesia",
            "Iraq",
            "Israel",
            "Japan",
            "Jordan",
            "Kuwait",
            "Lebanon",
            "Malaysia",
            "Mongolia",
            "Myanmar",
            "Nepal",
            "Oman",
            "Pakistan",
            "Philippines",
            "Saudi Arabia",
            "Singapore",
            "Sri Lanka",
            "Thailand",
            "Vietnam",
            "West Bank and Gaza"
           ],
           "legendgroup": "Asia",
           "marker": {
            "color": "#636efa"
           },
           "name": "Asia",
           "notched": false,
           "offsetgroup": "Asia",
           "orientation": "v",
           "showlegend": true,
           "type": "box",
           "x": [
            "Asia",
            "Asia",
            "Asia",
            "Asia",
            "Asia",
            "Asia",
            "Asia",
            "Asia",
            "Asia",
            "Asia",
            "Asia",
            "Asia",
            "Asia",
            "Asia",
            "Asia",
            "Asia",
            "Asia",
            "Asia",
            "Asia",
            "Asia",
            "Asia",
            "Asia",
            "Asia",
            "Asia",
            "Asia",
            "Asia"
           ],
           "x0": " ",
           "xaxis": "x",
           "y": [
            null,
            11704.3047293,
            149.933182829,
            314.97027594400004,
            978.61898313,
            423.580114419,
            760.140852043,
            1130.94271589,
            2862.7957382,
            4005.94409353,
            1024.4838209,
            10105.8321479,
            1484.22892653,
            2183.8734214,
            1058.16485595,
            266.385844866,
            345.37079196,
            3890.79215204,
            455.934635667,
            477.457211125,
            4907.82867485,
            5065.98450652,
            432.84856645,
            1282.58023503,
            420.446832131,
            null
           ],
           "y0": " ",
           "yaxis": "y"
          },
          {
           "alignmentgroup": "True",
           "boxpoints": "all",
           "hovertemplate": "<b>%{hovertext}</b><br><br>Continents=%{x}<br>Year=2002<br>Energy use (kg of oil equivalent per capita)=%{y}<extra></extra>",
           "hovertext": [
            "Albania",
            "Austria",
            "Belgium",
            "Bosnia and Herzegovina",
            "Bulgaria",
            "Croatia",
            "Czech Republic",
            "Denmark",
            "Finland",
            "France",
            "Germany",
            "Greece",
            "Hungary",
            "Iceland",
            "Ireland",
            "Italy",
            "Montenegro",
            "Netherlands",
            "Norway",
            "Poland",
            "Portugal",
            "Romania",
            "Serbia",
            "Slovak Republic",
            "Slovenia",
            "Spain",
            "Sweden",
            "Switzerland",
            "Turkey",
            "United Kingdom"
           ],
           "legendgroup": "Europe",
           "marker": {
            "color": "#EF553B"
           },
           "name": "Europe",
           "notched": false,
           "offsetgroup": "Europe",
           "orientation": "v",
           "showlegend": true,
           "type": "box",
           "x": [
            "Europe",
            "Europe",
            "Europe",
            "Europe",
            "Europe",
            "Europe",
            "Europe",
            "Europe",
            "Europe",
            "Europe",
            "Europe",
            "Europe",
            "Europe",
            "Europe",
            "Europe",
            "Europe",
            "Europe",
            "Europe",
            "Europe",
            "Europe",
            "Europe",
            "Europe",
            "Europe",
            "Europe",
            "Europe",
            "Europe",
            "Europe",
            "Europe",
            "Europe",
            "Europe"
           ],
           "x0": " ",
           "xaxis": "x",
           "y": [
            645.080153785,
            3765.28296302,
            5461.40290348,
            1156.99672325,
            2401.37660851,
            1856.86891892,
            4163.45010589,
            3535.09801372,
            6705.43983596,
            4225.60695353,
            4108.40129887,
            2597.74828926,
            2520.15246577,
            10804.6417156,
            3661.32224061,
            3017.97165871,
            null,
            4687.98228043,
            5503.46451061,
            2314.20257992,
            2477.48974988,
            1755.13002556,
            2119.78208028,
            3483.86750611,
            3424.45287862,
            3107.86734112,
            5802.11010517,
            3553.18855698,
            1139.69490969,
            3685.8654787
           ],
           "y0": " ",
           "yaxis": "y"
          },
          {
           "alignmentgroup": "True",
           "boxpoints": "all",
           "hovertemplate": "<b>%{hovertext}</b><br><br>Continents=%{x}<br>Year=2002<br>Energy use (kg of oil equivalent per capita)=%{y}<extra></extra>",
           "hovertext": [
            "Algeria",
            "Angola",
            "Benin",
            "Botswana",
            "Burkina Faso",
            "Burundi",
            "Cameroon",
            "Central African Republic",
            "Chad",
            "Comoros",
            "Cote d'Ivoire",
            "Djibouti",
            "Equatorial Guinea",
            "Eritrea",
            "Ethiopia",
            "Gabon",
            "Ghana",
            "Guinea",
            "Guinea-Bissau",
            "Kenya",
            "Lesotho",
            "Liberia",
            "Libya",
            "Madagascar",
            "Malawi",
            "Mali",
            "Mauritania",
            "Mauritius",
            "Morocco",
            "Mozambique",
            "Namibia",
            "Niger",
            "Nigeria",
            "Rwanda",
            "Sao Tome and Principe",
            "Senegal",
            "Sierra Leone",
            "Somalia",
            "South Africa",
            "Sudan",
            "Swaziland",
            "Tanzania",
            "Togo",
            "Tunisia",
            "Uganda",
            "Zambia",
            "Zimbabwe"
           ],
           "legendgroup": "Africa",
           "marker": {
            "color": "#00cc96"
           },
           "name": "Africa",
           "notched": false,
           "offsetgroup": "Africa",
           "orientation": "v",
           "showlegend": true,
           "type": "box",
           "x": [
            "Africa",
            "Africa",
            "Africa",
            "Africa",
            "Africa",
            "Africa",
            "Africa",
            "Africa",
            "Africa",
            "Africa",
            "Africa",
            "Africa",
            "Africa",
            "Africa",
            "Africa",
            "Africa",
            "Africa",
            "Africa",
            "Africa",
            "Africa",
            "Africa",
            "Africa",
            "Africa",
            "Africa",
            "Africa",
            "Africa",
            "Africa",
            "Africa",
            "Africa",
            "Africa",
            "Africa",
            "Africa",
            "Africa",
            "Africa",
            "Africa",
            "Africa",
            "Africa",
            "Africa",
            "Africa",
            "Africa",
            "Africa",
            "Africa",
            "Africa",
            "Africa",
            "Africa",
            "Africa",
            "Africa"
           ],
           "x0": " ",
           "xaxis": "x",
           "y": [
            904.456391853,
            515.4034564030001,
            305.04923703400004,
            1032.6780741,
            null,
            null,
            389.52261441,
            null,
            null,
            null,
            406.144021726,
            null,
            null,
            197.54986892,
            439.254909387,
            1229.36459426,
            317.525749335,
            null,
            null,
            440.968733004,
            null,
            null,
            3071.77483233,
            null,
            null,
            null,
            null,
            873.195801833,
            402.312789339,
            395.127686774,
            579.8782172790001,
            130.047629217,
            721.312209806,
            null,
            null,
            253.315356135,
            null,
            null,
            2421.00577767,
            411.137505242,
            null,
            416.002267994,
            424.034097572,
            801.489193653,
            null,
            598.548219754,
            772.6766193660001
           ],
           "y0": " ",
           "yaxis": "y"
          },
          {
           "alignmentgroup": "True",
           "boxpoints": "all",
           "hovertemplate": "<b>%{hovertext}</b><br><br>Continents=%{x}<br>Year=2002<br>Energy use (kg of oil equivalent per capita)=%{y}<extra></extra>",
           "hovertext": [
            "Argentina",
            "Bolivia",
            "Brazil",
            "Canada",
            "Chile",
            "Colombia",
            "Costa Rica",
            "Cuba",
            "Dominican Republic",
            "Ecuador",
            "El Salvador",
            "Guatemala",
            "Haiti",
            "Honduras",
            "Jamaica",
            "Mexico",
            "Nicaragua",
            "Panama",
            "Paraguay",
            "Peru",
            "Puerto Rico",
            "Trinidad and Tobago",
            "United States",
            "Uruguay"
           ],
           "legendgroup": "Americas",
           "marker": {
            "color": "#ab63fa"
           },
           "name": "Americas",
           "notched": false,
           "offsetgroup": "Americas",
           "orientation": "v",
           "showlegend": true,
           "type": "box",
           "x": [
            "Americas",
            "Americas",
            "Americas",
            "Americas",
            "Americas",
            "Americas",
            "Americas",
            "Americas",
            "Americas",
            "Americas",
            "Americas",
            "Americas",
            "Americas",
            "Americas",
            "Americas",
            "Americas",
            "Americas",
            "Americas",
            "Americas",
            "Americas",
            "Americas",
            "Americas",
            "Americas",
            "Americas"
           ],
           "x0": " ",
           "xaxis": "x",
           "y": [
            1502.22488095,
            528.760849998,
            1081.26747985,
            7920.11022894,
            1644.79154564,
            606.266720641,
            748.21348058,
            1053.28051042,
            819.797049144,
            739.4547575380002,
            720.3532811819998,
            590.478746775,
            261.374331488,
            516.4041365740001,
            1371.65658542,
            1412.86939872,
            508.740585366,
            834.670915895,
            705.433761481,
            446.340827194,
            null,
            9356.78097414,
            7843.34484914,
            762.6981432010001
           ],
           "y0": " ",
           "yaxis": "y"
          },
          {
           "alignmentgroup": "True",
           "boxpoints": "all",
           "hovertemplate": "<b>%{hovertext}</b><br><br>Continents=%{x}<br>Year=2002<br>Energy use (kg of oil equivalent per capita)=%{y}<extra></extra>",
           "hovertext": [
            "Australia",
            "New Zealand"
           ],
           "legendgroup": "Oceania",
           "marker": {
            "color": "#FFA15A"
           },
           "name": "Oceania",
           "notched": false,
           "offsetgroup": "Oceania",
           "orientation": "v",
           "showlegend": true,
           "type": "box",
           "x": [
            "Oceania",
            "Oceania"
           ],
           "x0": " ",
           "xaxis": "x",
           "y": [
            5569.6409925,
            4337.38052425
           ],
           "y0": " ",
           "yaxis": "y"
          }
         ],
         "name": "2002"
        },
        {
         "data": [
          {
           "alignmentgroup": "True",
           "boxpoints": "all",
           "hovertemplate": "<b>%{hovertext}</b><br><br>Continents=%{x}<br>Year=2007<br>Energy use (kg of oil equivalent per capita)=%{y}<extra></extra>",
           "hovertext": [
            "Afghanistan",
            "Bahrain",
            "Bangladesh",
            "Cambodia",
            "China",
            "India",
            "Indonesia",
            "Iraq",
            "Israel",
            "Japan",
            "Jordan",
            "Kuwait",
            "Lebanon",
            "Malaysia",
            "Mongolia",
            "Myanmar",
            "Nepal",
            "Oman",
            "Pakistan",
            "Philippines",
            "Saudi Arabia",
            "Singapore",
            "Sri Lanka",
            "Thailand",
            "Vietnam",
            "West Bank and Gaza"
           ],
           "legendgroup": "Asia",
           "marker": {
            "color": "#636efa"
           },
           "name": "Asia",
           "notched": false,
           "offsetgroup": "Asia",
           "orientation": "v",
           "showlegend": true,
           "type": "box",
           "x": [
            "Asia",
            "Asia",
            "Asia",
            "Asia",
            "Asia",
            "Asia",
            "Asia",
            "Asia",
            "Asia",
            "Asia",
            "Asia",
            "Asia",
            "Asia",
            "Asia",
            "Asia",
            "Asia",
            "Asia",
            "Asia",
            "Asia",
            "Asia",
            "Asia",
            "Asia",
            "Asia",
            "Asia",
            "Asia",
            "Asia"
           ],
           "x0": " ",
           "xaxis": "x",
           "y": [
            null,
            11291.126355,
            173.580998621,
            253.343288148,
            1550.53027085,
            486.292374786,
            788.5836582439999,
            892.39580238,
            2898.15336834,
            4024.99795314,
            1251.68193903,
            10395.1176066,
            1034.92218437,
            2742.50027319,
            1376.98860218,
            307.913041122,
            357.131793555,
            6881.62081928,
            523.2672101530001,
            434.402352876,
            5379.69097885,
            4677.20430572,
            470.83709579,
            1585.96595222,
            540.08195349,
            null
           ],
           "y0": " ",
           "yaxis": "y"
          },
          {
           "alignmentgroup": "True",
           "boxpoints": "all",
           "hovertemplate": "<b>%{hovertext}</b><br><br>Continents=%{x}<br>Year=2007<br>Energy use (kg of oil equivalent per capita)=%{y}<extra></extra>",
           "hovertext": [
            "Albania",
            "Austria",
            "Belgium",
            "Bosnia and Herzegovina",
            "Bulgaria",
            "Croatia",
            "Czech Republic",
            "Denmark",
            "Finland",
            "France",
            "Germany",
            "Greece",
            "Hungary",
            "Iceland",
            "Ireland",
            "Italy",
            "Montenegro",
            "Netherlands",
            "Norway",
            "Poland",
            "Portugal",
            "Romania",
            "Serbia",
            "Slovak Republic",
            "Slovenia",
            "Spain",
            "Sweden",
            "Switzerland",
            "Turkey",
            "United Kingdom"
           ],
           "legendgroup": "Europe",
           "marker": {
            "color": "#EF553B"
           },
           "name": "Europe",
           "notched": false,
           "offsetgroup": "Europe",
           "orientation": "v",
           "showlegend": true,
           "type": "box",
           "x": [
            "Europe",
            "Europe",
            "Europe",
            "Europe",
            "Europe",
            "Europe",
            "Europe",
            "Europe",
            "Europe",
            "Europe",
            "Europe",
            "Europe",
            "Europe",
            "Europe",
            "Europe",
            "Europe",
            "Europe",
            "Europe",
            "Europe",
            "Europe",
            "Europe",
            "Europe",
            "Europe",
            "Europe",
            "Europe",
            "Europe",
            "Europe",
            "Europe",
            "Europe",
            "Europe"
           ],
           "x0": " ",
           "xaxis": "x",
           "y": [
            679.861765101,
            4029.62695258,
            5389.28164733,
            1381.12205494,
            2666.11144524,
            2102.14585212,
            4468.96035161,
            3622.59683256,
            6967.21323874,
            4120.3058212,
            3985.80810152,
            2734.92011068,
            2658.03637311,
            14746.0313385,
            3416.03094562,
            3062.36054739,
            1927.97889182,
            4843.79608802,
            5864.97593092,
            2526.9949602,
            2402.47799385,
            1904.09688616,
            2248.15503566,
            3320.45472221,
            3627.52350948,
            3180.03341956,
            5472.13539173,
            3410.15494794,
            1438.53526923,
            3441.68876583
           ],
           "y0": " ",
           "yaxis": "y"
          },
          {
           "alignmentgroup": "True",
           "boxpoints": "all",
           "hovertemplate": "<b>%{hovertext}</b><br><br>Continents=%{x}<br>Year=2007<br>Energy use (kg of oil equivalent per capita)=%{y}<extra></extra>",
           "hovertext": [
            "Algeria",
            "Angola",
            "Benin",
            "Botswana",
            "Burkina Faso",
            "Burundi",
            "Cameroon",
            "Central African Republic",
            "Chad",
            "Comoros",
            "Cote d'Ivoire",
            "Djibouti",
            "Equatorial Guinea",
            "Eritrea",
            "Ethiopia",
            "Gabon",
            "Ghana",
            "Guinea",
            "Guinea-Bissau",
            "Kenya",
            "Lesotho",
            "Liberia",
            "Libya",
            "Madagascar",
            "Malawi",
            "Mali",
            "Mauritania",
            "Mauritius",
            "Morocco",
            "Mozambique",
            "Namibia",
            "Niger",
            "Nigeria",
            "Rwanda",
            "Sao Tome and Principe",
            "Senegal",
            "Sierra Leone",
            "Somalia",
            "South Africa",
            "Sudan",
            "Swaziland",
            "Tanzania",
            "Togo",
            "Tunisia",
            "Uganda",
            "Zambia",
            "Zimbabwe"
           ],
           "legendgroup": "Africa",
           "marker": {
            "color": "#00cc96"
           },
           "name": "Africa",
           "notched": false,
           "offsetgroup": "Africa",
           "orientation": "v",
           "showlegend": true,
           "type": "box",
           "x": [
            "Africa",
            "Africa",
            "Africa",
            "Africa",
            "Africa",
            "Africa",
            "Africa",
            "Africa",
            "Africa",
            "Africa",
            "Africa",
            "Africa",
            "Africa",
            "Africa",
            "Africa",
            "Africa",
            "Africa",
            "Africa",
            "Africa",
            "Africa",
            "Africa",
            "Africa",
            "Africa",
            "Africa",
            "Africa",
            "Africa",
            "Africa",
            "Africa",
            "Africa",
            "Africa",
            "Africa",
            "Africa",
            "Africa",
            "Africa",
            "Africa",
            "Africa",
            "Africa",
            "Africa",
            "Africa",
            "Africa",
            "Africa",
            "Africa",
            "Africa",
            "Africa",
            "Africa",
            "Africa",
            "Africa"
           ],
           "x0": " ",
           "xaxis": "x",
           "y": [
            1075.19412704,
            561.5501055130001,
            368.216084341,
            1028.07041536,
            null,
            null,
            332.30332161,
            null,
            null,
            63.1348128438,
            539.7271851830001,
            178.904528787,
            2641.94245101,
            162.700034655,
            442.86665148300006,
            1281.68189093,
            278.760989471,
            null,
            62.1995597581,
            462.22025237800005,
            9.71541007212,
            null,
            2725.88792504,
            null,
            null,
            null,
            null,
            1007.57484088,
            487.448713086,
            407.278749651,
            659.366428344,
            128.026173022,
            747.1012487439999,
            null,
            274.890043982,
            252.409846662,
            null,
            null,
            2805.48565552,
            366.495542,
            372.735499664,
            442.62215764,
            417.118049767,
            883.981281357,
            null,
            588.018958956,
            725.6810488469998
           ],
           "y0": " ",
           "yaxis": "y"
          },
          {
           "alignmentgroup": "True",
           "boxpoints": "all",
           "hovertemplate": "<b>%{hovertext}</b><br><br>Continents=%{x}<br>Year=2007<br>Energy use (kg of oil equivalent per capita)=%{y}<extra></extra>",
           "hovertext": [
            "Argentina",
            "Bolivia",
            "Brazil",
            "Canada",
            "Chile",
            "Colombia",
            "Costa Rica",
            "Cuba",
            "Dominican Republic",
            "Ecuador",
            "El Salvador",
            "Guatemala",
            "Haiti",
            "Honduras",
            "Jamaica",
            "Mexico",
            "Nicaragua",
            "Panama",
            "Paraguay",
            "Peru",
            "Puerto Rico",
            "Trinidad and Tobago",
            "United States",
            "Uruguay"
           ],
           "legendgroup": "Americas",
           "marker": {
            "color": "#ab63fa"
           },
           "name": "Americas",
           "notched": false,
           "offsetgroup": "Americas",
           "orientation": "v",
           "showlegend": true,
           "type": "box",
           "x": [
            "Americas",
            "Americas",
            "Americas",
            "Americas",
            "Americas",
            "Americas",
            "Americas",
            "Americas",
            "Americas",
            "Americas",
            "Americas",
            "Americas",
            "Americas",
            "Americas",
            "Americas",
            "Americas",
            "Americas",
            "Americas",
            "Americas",
            "Americas",
            "Americas",
            "Americas",
            "Americas",
            "Americas"
           ],
           "x0": " ",
           "xaxis": "x",
           "y": [
            1846.93675639,
            561.052703379,
            1221.36231051,
            8130.58019344,
            1860.10017433,
            637.510761494,
            1031.80869969,
            904.662628457,
            763.408932512,
            833.203582927,
            748.1199930380002,
            616.892076168,
            384.513775199,
            657.398639731,
            1578.42891649,
            1551.28978352,
            521.961949752,
            879.523836391,
            708.7828687130002,
            506.633143848,
            null,
            14608.0098682,
            7758.16570028,
            947.838610674
           ],
           "y0": " ",
           "yaxis": "y"
          },
          {
           "alignmentgroup": "True",
           "boxpoints": "all",
           "hovertemplate": "<b>%{hovertext}</b><br><br>Continents=%{x}<br>Year=2007<br>Energy use (kg of oil equivalent per capita)=%{y}<extra></extra>",
           "hovertext": [
            "Australia",
            "New Zealand"
           ],
           "legendgroup": "Oceania",
           "marker": {
            "color": "#FFA15A"
           },
           "name": "Oceania",
           "notched": false,
           "offsetgroup": "Oceania",
           "orientation": "v",
           "showlegend": true,
           "type": "box",
           "x": [
            "Oceania",
            "Oceania"
           ],
           "x0": " ",
           "xaxis": "x",
           "y": [
            5868.34709712,
            4054.4950045
           ],
           "y0": " ",
           "yaxis": "y"
          }
         ],
         "name": "2007"
        }
       ],
       "layout": {
        "boxmode": "overlay",
        "legend": {
         "title": {
          "text": "Continents"
         },
         "tracegroupgap": 0
        },
        "sliders": [
         {
          "active": 0,
          "currentvalue": {
           "prefix": "Year="
          },
          "len": 0.9,
          "pad": {
           "b": 10,
           "t": 60
          },
          "steps": [
           {
            "args": [
             [
              "1962"
             ],
             {
              "frame": {
               "duration": 0,
               "redraw": true
              },
              "fromcurrent": true,
              "mode": "immediate",
              "transition": {
               "duration": 0,
               "easing": "linear"
              }
             }
            ],
            "label": "1962",
            "method": "animate"
           },
           {
            "args": [
             [
              "1967"
             ],
             {
              "frame": {
               "duration": 0,
               "redraw": true
              },
              "fromcurrent": true,
              "mode": "immediate",
              "transition": {
               "duration": 0,
               "easing": "linear"
              }
             }
            ],
            "label": "1967",
            "method": "animate"
           },
           {
            "args": [
             [
              "1972"
             ],
             {
              "frame": {
               "duration": 0,
               "redraw": true
              },
              "fromcurrent": true,
              "mode": "immediate",
              "transition": {
               "duration": 0,
               "easing": "linear"
              }
             }
            ],
            "label": "1972",
            "method": "animate"
           },
           {
            "args": [
             [
              "1977"
             ],
             {
              "frame": {
               "duration": 0,
               "redraw": true
              },
              "fromcurrent": true,
              "mode": "immediate",
              "transition": {
               "duration": 0,
               "easing": "linear"
              }
             }
            ],
            "label": "1977",
            "method": "animate"
           },
           {
            "args": [
             [
              "1982"
             ],
             {
              "frame": {
               "duration": 0,
               "redraw": true
              },
              "fromcurrent": true,
              "mode": "immediate",
              "transition": {
               "duration": 0,
               "easing": "linear"
              }
             }
            ],
            "label": "1982",
            "method": "animate"
           },
           {
            "args": [
             [
              "1987"
             ],
             {
              "frame": {
               "duration": 0,
               "redraw": true
              },
              "fromcurrent": true,
              "mode": "immediate",
              "transition": {
               "duration": 0,
               "easing": "linear"
              }
             }
            ],
            "label": "1987",
            "method": "animate"
           },
           {
            "args": [
             [
              "1992"
             ],
             {
              "frame": {
               "duration": 0,
               "redraw": true
              },
              "fromcurrent": true,
              "mode": "immediate",
              "transition": {
               "duration": 0,
               "easing": "linear"
              }
             }
            ],
            "label": "1992",
            "method": "animate"
           },
           {
            "args": [
             [
              "1997"
             ],
             {
              "frame": {
               "duration": 0,
               "redraw": true
              },
              "fromcurrent": true,
              "mode": "immediate",
              "transition": {
               "duration": 0,
               "easing": "linear"
              }
             }
            ],
            "label": "1997",
            "method": "animate"
           },
           {
            "args": [
             [
              "2002"
             ],
             {
              "frame": {
               "duration": 0,
               "redraw": true
              },
              "fromcurrent": true,
              "mode": "immediate",
              "transition": {
               "duration": 0,
               "easing": "linear"
              }
             }
            ],
            "label": "2002",
            "method": "animate"
           },
           {
            "args": [
             [
              "2007"
             ],
             {
              "frame": {
               "duration": 0,
               "redraw": true
              },
              "fromcurrent": true,
              "mode": "immediate",
              "transition": {
               "duration": 0,
               "easing": "linear"
              }
             }
            ],
            "label": "2007",
            "method": "animate"
           }
          ],
          "x": 0.1,
          "xanchor": "left",
          "y": 0,
          "yanchor": "top"
         }
        ],
        "template": {
         "data": {
          "bar": [
           {
            "error_x": {
             "color": "#2a3f5f"
            },
            "error_y": {
             "color": "#2a3f5f"
            },
            "marker": {
             "line": {
              "color": "#E5ECF6",
              "width": 0.5
             },
             "pattern": {
              "fillmode": "overlay",
              "size": 10,
              "solidity": 0.2
             }
            },
            "type": "bar"
           }
          ],
          "barpolar": [
           {
            "marker": {
             "line": {
              "color": "#E5ECF6",
              "width": 0.5
             },
             "pattern": {
              "fillmode": "overlay",
              "size": 10,
              "solidity": 0.2
             }
            },
            "type": "barpolar"
           }
          ],
          "carpet": [
           {
            "aaxis": {
             "endlinecolor": "#2a3f5f",
             "gridcolor": "white",
             "linecolor": "white",
             "minorgridcolor": "white",
             "startlinecolor": "#2a3f5f"
            },
            "baxis": {
             "endlinecolor": "#2a3f5f",
             "gridcolor": "white",
             "linecolor": "white",
             "minorgridcolor": "white",
             "startlinecolor": "#2a3f5f"
            },
            "type": "carpet"
           }
          ],
          "choropleth": [
           {
            "colorbar": {
             "outlinewidth": 0,
             "ticks": ""
            },
            "type": "choropleth"
           }
          ],
          "contour": [
           {
            "colorbar": {
             "outlinewidth": 0,
             "ticks": ""
            },
            "colorscale": [
             [
              0,
              "#0d0887"
             ],
             [
              0.1111111111111111,
              "#46039f"
             ],
             [
              0.2222222222222222,
              "#7201a8"
             ],
             [
              0.3333333333333333,
              "#9c179e"
             ],
             [
              0.4444444444444444,
              "#bd3786"
             ],
             [
              0.5555555555555556,
              "#d8576b"
             ],
             [
              0.6666666666666666,
              "#ed7953"
             ],
             [
              0.7777777777777778,
              "#fb9f3a"
             ],
             [
              0.8888888888888888,
              "#fdca26"
             ],
             [
              1,
              "#f0f921"
             ]
            ],
            "type": "contour"
           }
          ],
          "contourcarpet": [
           {
            "colorbar": {
             "outlinewidth": 0,
             "ticks": ""
            },
            "type": "contourcarpet"
           }
          ],
          "heatmap": [
           {
            "colorbar": {
             "outlinewidth": 0,
             "ticks": ""
            },
            "colorscale": [
             [
              0,
              "#0d0887"
             ],
             [
              0.1111111111111111,
              "#46039f"
             ],
             [
              0.2222222222222222,
              "#7201a8"
             ],
             [
              0.3333333333333333,
              "#9c179e"
             ],
             [
              0.4444444444444444,
              "#bd3786"
             ],
             [
              0.5555555555555556,
              "#d8576b"
             ],
             [
              0.6666666666666666,
              "#ed7953"
             ],
             [
              0.7777777777777778,
              "#fb9f3a"
             ],
             [
              0.8888888888888888,
              "#fdca26"
             ],
             [
              1,
              "#f0f921"
             ]
            ],
            "type": "heatmap"
           }
          ],
          "heatmapgl": [
           {
            "colorbar": {
             "outlinewidth": 0,
             "ticks": ""
            },
            "colorscale": [
             [
              0,
              "#0d0887"
             ],
             [
              0.1111111111111111,
              "#46039f"
             ],
             [
              0.2222222222222222,
              "#7201a8"
             ],
             [
              0.3333333333333333,
              "#9c179e"
             ],
             [
              0.4444444444444444,
              "#bd3786"
             ],
             [
              0.5555555555555556,
              "#d8576b"
             ],
             [
              0.6666666666666666,
              "#ed7953"
             ],
             [
              0.7777777777777778,
              "#fb9f3a"
             ],
             [
              0.8888888888888888,
              "#fdca26"
             ],
             [
              1,
              "#f0f921"
             ]
            ],
            "type": "heatmapgl"
           }
          ],
          "histogram": [
           {
            "marker": {
             "pattern": {
              "fillmode": "overlay",
              "size": 10,
              "solidity": 0.2
             }
            },
            "type": "histogram"
           }
          ],
          "histogram2d": [
           {
            "colorbar": {
             "outlinewidth": 0,
             "ticks": ""
            },
            "colorscale": [
             [
              0,
              "#0d0887"
             ],
             [
              0.1111111111111111,
              "#46039f"
             ],
             [
              0.2222222222222222,
              "#7201a8"
             ],
             [
              0.3333333333333333,
              "#9c179e"
             ],
             [
              0.4444444444444444,
              "#bd3786"
             ],
             [
              0.5555555555555556,
              "#d8576b"
             ],
             [
              0.6666666666666666,
              "#ed7953"
             ],
             [
              0.7777777777777778,
              "#fb9f3a"
             ],
             [
              0.8888888888888888,
              "#fdca26"
             ],
             [
              1,
              "#f0f921"
             ]
            ],
            "type": "histogram2d"
           }
          ],
          "histogram2dcontour": [
           {
            "colorbar": {
             "outlinewidth": 0,
             "ticks": ""
            },
            "colorscale": [
             [
              0,
              "#0d0887"
             ],
             [
              0.1111111111111111,
              "#46039f"
             ],
             [
              0.2222222222222222,
              "#7201a8"
             ],
             [
              0.3333333333333333,
              "#9c179e"
             ],
             [
              0.4444444444444444,
              "#bd3786"
             ],
             [
              0.5555555555555556,
              "#d8576b"
             ],
             [
              0.6666666666666666,
              "#ed7953"
             ],
             [
              0.7777777777777778,
              "#fb9f3a"
             ],
             [
              0.8888888888888888,
              "#fdca26"
             ],
             [
              1,
              "#f0f921"
             ]
            ],
            "type": "histogram2dcontour"
           }
          ],
          "mesh3d": [
           {
            "colorbar": {
             "outlinewidth": 0,
             "ticks": ""
            },
            "type": "mesh3d"
           }
          ],
          "parcoords": [
           {
            "line": {
             "colorbar": {
              "outlinewidth": 0,
              "ticks": ""
             }
            },
            "type": "parcoords"
           }
          ],
          "pie": [
           {
            "automargin": true,
            "type": "pie"
           }
          ],
          "scatter": [
           {
            "marker": {
             "colorbar": {
              "outlinewidth": 0,
              "ticks": ""
             }
            },
            "type": "scatter"
           }
          ],
          "scatter3d": [
           {
            "line": {
             "colorbar": {
              "outlinewidth": 0,
              "ticks": ""
             }
            },
            "marker": {
             "colorbar": {
              "outlinewidth": 0,
              "ticks": ""
             }
            },
            "type": "scatter3d"
           }
          ],
          "scattercarpet": [
           {
            "marker": {
             "colorbar": {
              "outlinewidth": 0,
              "ticks": ""
             }
            },
            "type": "scattercarpet"
           }
          ],
          "scattergeo": [
           {
            "marker": {
             "colorbar": {
              "outlinewidth": 0,
              "ticks": ""
             }
            },
            "type": "scattergeo"
           }
          ],
          "scattergl": [
           {
            "marker": {
             "colorbar": {
              "outlinewidth": 0,
              "ticks": ""
             }
            },
            "type": "scattergl"
           }
          ],
          "scattermapbox": [
           {
            "marker": {
             "colorbar": {
              "outlinewidth": 0,
              "ticks": ""
             }
            },
            "type": "scattermapbox"
           }
          ],
          "scatterpolar": [
           {
            "marker": {
             "colorbar": {
              "outlinewidth": 0,
              "ticks": ""
             }
            },
            "type": "scatterpolar"
           }
          ],
          "scatterpolargl": [
           {
            "marker": {
             "colorbar": {
              "outlinewidth": 0,
              "ticks": ""
             }
            },
            "type": "scatterpolargl"
           }
          ],
          "scatterternary": [
           {
            "marker": {
             "colorbar": {
              "outlinewidth": 0,
              "ticks": ""
             }
            },
            "type": "scatterternary"
           }
          ],
          "surface": [
           {
            "colorbar": {
             "outlinewidth": 0,
             "ticks": ""
            },
            "colorscale": [
             [
              0,
              "#0d0887"
             ],
             [
              0.1111111111111111,
              "#46039f"
             ],
             [
              0.2222222222222222,
              "#7201a8"
             ],
             [
              0.3333333333333333,
              "#9c179e"
             ],
             [
              0.4444444444444444,
              "#bd3786"
             ],
             [
              0.5555555555555556,
              "#d8576b"
             ],
             [
              0.6666666666666666,
              "#ed7953"
             ],
             [
              0.7777777777777778,
              "#fb9f3a"
             ],
             [
              0.8888888888888888,
              "#fdca26"
             ],
             [
              1,
              "#f0f921"
             ]
            ],
            "type": "surface"
           }
          ],
          "table": [
           {
            "cells": {
             "fill": {
              "color": "#EBF0F8"
             },
             "line": {
              "color": "white"
             }
            },
            "header": {
             "fill": {
              "color": "#C8D4E3"
             },
             "line": {
              "color": "white"
             }
            },
            "type": "table"
           }
          ]
         },
         "layout": {
          "annotationdefaults": {
           "arrowcolor": "#2a3f5f",
           "arrowhead": 0,
           "arrowwidth": 1
          },
          "autotypenumbers": "strict",
          "coloraxis": {
           "colorbar": {
            "outlinewidth": 0,
            "ticks": ""
           }
          },
          "colorscale": {
           "diverging": [
            [
             0,
             "#8e0152"
            ],
            [
             0.1,
             "#c51b7d"
            ],
            [
             0.2,
             "#de77ae"
            ],
            [
             0.3,
             "#f1b6da"
            ],
            [
             0.4,
             "#fde0ef"
            ],
            [
             0.5,
             "#f7f7f7"
            ],
            [
             0.6,
             "#e6f5d0"
            ],
            [
             0.7,
             "#b8e186"
            ],
            [
             0.8,
             "#7fbc41"
            ],
            [
             0.9,
             "#4d9221"
            ],
            [
             1,
             "#276419"
            ]
           ],
           "sequential": [
            [
             0,
             "#0d0887"
            ],
            [
             0.1111111111111111,
             "#46039f"
            ],
            [
             0.2222222222222222,
             "#7201a8"
            ],
            [
             0.3333333333333333,
             "#9c179e"
            ],
            [
             0.4444444444444444,
             "#bd3786"
            ],
            [
             0.5555555555555556,
             "#d8576b"
            ],
            [
             0.6666666666666666,
             "#ed7953"
            ],
            [
             0.7777777777777778,
             "#fb9f3a"
            ],
            [
             0.8888888888888888,
             "#fdca26"
            ],
            [
             1,
             "#f0f921"
            ]
           ],
           "sequentialminus": [
            [
             0,
             "#0d0887"
            ],
            [
             0.1111111111111111,
             "#46039f"
            ],
            [
             0.2222222222222222,
             "#7201a8"
            ],
            [
             0.3333333333333333,
             "#9c179e"
            ],
            [
             0.4444444444444444,
             "#bd3786"
            ],
            [
             0.5555555555555556,
             "#d8576b"
            ],
            [
             0.6666666666666666,
             "#ed7953"
            ],
            [
             0.7777777777777778,
             "#fb9f3a"
            ],
            [
             0.8888888888888888,
             "#fdca26"
            ],
            [
             1,
             "#f0f921"
            ]
           ]
          },
          "colorway": [
           "#636efa",
           "#EF553B",
           "#00cc96",
           "#ab63fa",
           "#FFA15A",
           "#19d3f3",
           "#FF6692",
           "#B6E880",
           "#FF97FF",
           "#FECB52"
          ],
          "font": {
           "color": "#2a3f5f"
          },
          "geo": {
           "bgcolor": "white",
           "lakecolor": "white",
           "landcolor": "#E5ECF6",
           "showlakes": true,
           "showland": true,
           "subunitcolor": "white"
          },
          "hoverlabel": {
           "align": "left"
          },
          "hovermode": "closest",
          "mapbox": {
           "style": "light"
          },
          "paper_bgcolor": "white",
          "plot_bgcolor": "#E5ECF6",
          "polar": {
           "angularaxis": {
            "gridcolor": "white",
            "linecolor": "white",
            "ticks": ""
           },
           "bgcolor": "#E5ECF6",
           "radialaxis": {
            "gridcolor": "white",
            "linecolor": "white",
            "ticks": ""
           }
          },
          "scene": {
           "xaxis": {
            "backgroundcolor": "#E5ECF6",
            "gridcolor": "white",
            "gridwidth": 2,
            "linecolor": "white",
            "showbackground": true,
            "ticks": "",
            "zerolinecolor": "white"
           },
           "yaxis": {
            "backgroundcolor": "#E5ECF6",
            "gridcolor": "white",
            "gridwidth": 2,
            "linecolor": "white",
            "showbackground": true,
            "ticks": "",
            "zerolinecolor": "white"
           },
           "zaxis": {
            "backgroundcolor": "#E5ECF6",
            "gridcolor": "white",
            "gridwidth": 2,
            "linecolor": "white",
            "showbackground": true,
            "ticks": "",
            "zerolinecolor": "white"
           }
          },
          "shapedefaults": {
           "line": {
            "color": "#2a3f5f"
           }
          },
          "ternary": {
           "aaxis": {
            "gridcolor": "white",
            "linecolor": "white",
            "ticks": ""
           },
           "baxis": {
            "gridcolor": "white",
            "linecolor": "white",
            "ticks": ""
           },
           "bgcolor": "#E5ECF6",
           "caxis": {
            "gridcolor": "white",
            "linecolor": "white",
            "ticks": ""
           }
          },
          "title": {
           "x": 0.05
          },
          "xaxis": {
           "automargin": true,
           "gridcolor": "white",
           "linecolor": "white",
           "ticks": "",
           "title": {
            "standoff": 15
           },
           "zerolinecolor": "white",
           "zerolinewidth": 2
          },
          "yaxis": {
           "automargin": true,
           "gridcolor": "white",
           "linecolor": "white",
           "ticks": "",
           "title": {
            "standoff": 15
           },
           "zerolinecolor": "white",
           "zerolinewidth": 2
          }
         }
        },
        "title": {
         "text": "Energy use (kg of oil equivalent per capita) vs Continents"
        },
        "updatemenus": [
         {
          "buttons": [
           {
            "args": [
             null,
             {
              "frame": {
               "duration": 500,
               "redraw": true
              },
              "fromcurrent": true,
              "mode": "immediate",
              "transition": {
               "duration": 500,
               "easing": "linear"
              }
             }
            ],
            "label": "&#9654;",
            "method": "animate"
           },
           {
            "args": [
             [
              null
             ],
             {
              "frame": {
               "duration": 0,
               "redraw": true
              },
              "fromcurrent": true,
              "mode": "immediate",
              "transition": {
               "duration": 0,
               "easing": "linear"
              }
             }
            ],
            "label": "&#9724;",
            "method": "animate"
           }
          ],
          "direction": "left",
          "pad": {
           "r": 10,
           "t": 70
          },
          "showactive": false,
          "type": "buttons",
          "x": 0.1,
          "xanchor": "right",
          "y": 0,
          "yanchor": "top"
         }
        ],
        "xaxis": {
         "anchor": "y",
         "categoryarray": [
          "Asia",
          "Europe",
          "Africa",
          "Americas",
          "Oceania"
         ],
         "categoryorder": "array",
         "domain": [
          0,
          1
         ],
         "title": {
          "text": "Continents"
         }
        },
        "yaxis": {
         "anchor": "x",
         "domain": [
          0,
          1
         ],
         "range": [
          0.9,
          4.5
         ],
         "title": {
          "text": "Energy use (kg of oil equivalent per capita)"
         },
         "type": "log"
        }
       }
      },
      "text/html": [
       "<div>                            <div id=\"75aca3cc-d871-4620-ac3a-cec87ea3b27a\" class=\"plotly-graph-div\" style=\"height:525px; width:100%;\"></div>            <script type=\"text/javascript\">                require([\"plotly\"], function(Plotly) {                    window.PLOTLYENV=window.PLOTLYENV || {};                                    if (document.getElementById(\"75aca3cc-d871-4620-ac3a-cec87ea3b27a\")) {                    Plotly.newPlot(                        \"75aca3cc-d871-4620-ac3a-cec87ea3b27a\",                        [{\"alignmentgroup\":\"True\",\"boxpoints\":\"all\",\"hovertemplate\":\"<b>%{hovertext}</b><br><br>Continents=%{x}<br>Year=1962<br>Energy use (kg of oil equivalent per capita)=%{y}<extra></extra>\",\"hovertext\":[\"Afghanistan\",\"Bahrain\",\"Bangladesh\",\"Cambodia\",\"China\",\"India\",\"Indonesia\",\"Iraq\",\"Israel\",\"Japan\",\"Jordan\",\"Kuwait\",\"Lebanon\",\"Malaysia\",\"Mongolia\",\"Myanmar\",\"Nepal\",\"Oman\",\"Pakistan\",\"Philippines\",\"Saudi Arabia\",\"Singapore\",\"Sri Lanka\",\"Thailand\",\"Vietnam\"],\"legendgroup\":\"Asia\",\"marker\":{\"color\":\"#636efa\"},\"name\":\"Asia\",\"notched\":false,\"offsetgroup\":\"Asia\",\"orientation\":\"v\",\"showlegend\":true,\"type\":\"box\",\"x\":[\"Asia\",\"Asia\",\"Asia\",\"Asia\",\"Asia\",\"Asia\",\"Asia\",\"Asia\",\"Asia\",\"Asia\",\"Asia\",\"Asia\",\"Asia\",\"Asia\",\"Asia\",\"Asia\",\"Asia\",\"Asia\",\"Asia\",\"Asia\",\"Asia\",\"Asia\",\"Asia\",\"Asia\",\"Asia\"],\"x0\":\" \",\"xaxis\":\"x\",\"y\":[null,null,null,null,null,null,null,null,null,1003.75225394,null,null,null,null,null,null,null,null,null,null,null,null,null,null,null],\"y0\":\" \",\"yaxis\":\"y\"},{\"alignmentgroup\":\"True\",\"boxpoints\":\"all\",\"hovertemplate\":\"<b>%{hovertext}</b><br><br>Continents=%{x}<br>Year=1962<br>Energy use (kg of oil equivalent per capita)=%{y}<extra></extra>\",\"hovertext\":[\"Albania\",\"Austria\",\"Belgium\",\"Bosnia and Herzegovina\",\"Bulgaria\",\"Croatia\",\"Czech Republic\",\"Denmark\",\"Finland\",\"France\",\"Germany\",\"Greece\",\"Hungary\",\"Iceland\",\"Ireland\",\"Italy\",\"Montenegro\",\"Netherlands\",\"Norway\",\"Poland\",\"Portugal\",\"Romania\",\"Serbia\",\"Slovak Republic\",\"Slovenia\",\"Spain\",\"Sweden\",\"Switzerland\",\"Turkey\",\"United Kingdom\"],\"legendgroup\":\"Europe\",\"marker\":{\"color\":\"#EF553B\"},\"name\":\"Europe\",\"notched\":false,\"offsetgroup\":\"Europe\",\"orientation\":\"v\",\"showlegend\":true,\"type\":\"box\",\"x\":[\"Europe\",\"Europe\",\"Europe\",\"Europe\",\"Europe\",\"Europe\",\"Europe\",\"Europe\",\"Europe\",\"Europe\",\"Europe\",\"Europe\",\"Europe\",\"Europe\",\"Europe\",\"Europe\",\"Europe\",\"Europe\",\"Europe\",\"Europe\",\"Europe\",\"Europe\",\"Europe\",\"Europe\",\"Europe\",\"Europe\",\"Europe\",\"Europe\",\"Europe\",\"Europe\"],\"x0\":\" \",\"xaxis\":\"x\",\"y\":[null,1675.87362115,2810.06114801,null,null,null,null,2296.28956262,2361.74387608,1852.7357712,2124.84853926,350.101257861,null,3028.29836932,1412.72967684,1007.04834663,null,2081.01162075,2052.05448433,1976.85979181,363.164047972,null,null,null,null,605.223527325,2887.23625249,1568.91106002,410.021796967,3087.34197183],\"y0\":\" \",\"yaxis\":\"y\"},{\"alignmentgroup\":\"True\",\"boxpoints\":\"all\",\"hovertemplate\":\"<b>%{hovertext}</b><br><br>Continents=%{x}<br>Year=1962<br>Energy use (kg of oil equivalent per capita)=%{y}<extra></extra>\",\"hovertext\":[\"Algeria\",\"Angola\",\"Benin\",\"Botswana\",\"Burkina Faso\",\"Burundi\",\"Cameroon\",\"Central African Republic\",\"Chad\",\"Comoros\",\"Cote d'Ivoire\",\"Djibouti\",\"Equatorial Guinea\",\"Eritrea\",\"Ethiopia\",\"Gabon\",\"Ghana\",\"Guinea\",\"Guinea-Bissau\",\"Kenya\",\"Lesotho\",\"Liberia\",\"Libya\",\"Madagascar\",\"Malawi\",\"Mali\",\"Mauritania\",\"Mauritius\",\"Morocco\",\"Mozambique\",\"Namibia\",\"Niger\",\"Nigeria\",\"Rwanda\",\"Sao Tome and Principe\",\"Senegal\",\"Sierra Leone\",\"Somalia\",\"South Africa\",\"Sudan\",\"Swaziland\",\"Tanzania\",\"Togo\",\"Tunisia\",\"Uganda\",\"Zambia\",\"Zimbabwe\"],\"legendgroup\":\"Africa\",\"marker\":{\"color\":\"#00cc96\"},\"name\":\"Africa\",\"notched\":false,\"offsetgroup\":\"Africa\",\"orientation\":\"v\",\"showlegend\":true,\"type\":\"box\",\"x\":[\"Africa\",\"Africa\",\"Africa\",\"Africa\",\"Africa\",\"Africa\",\"Africa\",\"Africa\",\"Africa\",\"Africa\",\"Africa\",\"Africa\",\"Africa\",\"Africa\",\"Africa\",\"Africa\",\"Africa\",\"Africa\",\"Africa\",\"Africa\",\"Africa\",\"Africa\",\"Africa\",\"Africa\",\"Africa\",\"Africa\",\"Africa\",\"Africa\",\"Africa\",\"Africa\",\"Africa\",\"Africa\",\"Africa\",\"Africa\",\"Africa\",\"Africa\",\"Africa\",\"Africa\",\"Africa\",\"Africa\",\"Africa\",\"Africa\",\"Africa\",\"Africa\",\"Africa\",\"Africa\",\"Africa\"],\"x0\":\" \",\"xaxis\":\"x\",\"y\":[null,null,null,null,null,null,null,null,null,null,null,null,null,null,null,null,null,null,null,null,null,null,null,null,null,null,null,null,null,null,null,null,null,null,null,null,null,null,null,null,null,null,null,null,null,null,null],\"y0\":\" \",\"yaxis\":\"y\"},{\"alignmentgroup\":\"True\",\"boxpoints\":\"all\",\"hovertemplate\":\"<b>%{hovertext}</b><br><br>Continents=%{x}<br>Year=1962<br>Energy use (kg of oil equivalent per capita)=%{y}<extra></extra>\",\"hovertext\":[\"Argentina\",\"Bolivia\",\"Brazil\",\"Canada\",\"Chile\",\"Colombia\",\"Costa Rica\",\"Cuba\",\"Dominican Republic\",\"Ecuador\",\"El Salvador\",\"Guatemala\",\"Haiti\",\"Honduras\",\"Jamaica\",\"Mexico\",\"Nicaragua\",\"Panama\",\"Paraguay\",\"Peru\",\"Puerto Rico\",\"Trinidad and Tobago\",\"United States\",\"Uruguay\"],\"legendgroup\":\"Americas\",\"marker\":{\"color\":\"#ab63fa\"},\"name\":\"Americas\",\"notched\":false,\"offsetgroup\":\"Americas\",\"orientation\":\"v\",\"showlegend\":true,\"type\":\"box\",\"x\":[\"Americas\",\"Americas\",\"Americas\",\"Americas\",\"Americas\",\"Americas\",\"Americas\",\"Americas\",\"Americas\",\"Americas\",\"Americas\",\"Americas\",\"Americas\",\"Americas\",\"Americas\",\"Americas\",\"Americas\",\"Americas\",\"Americas\",\"Americas\",\"Americas\",\"Americas\",\"Americas\",\"Americas\"],\"x0\":\" \",\"xaxis\":\"x\",\"y\":[null,null,null,4451.56011604,null,null,null,null,null,null,null,null,null,null,null,null,null,null,null,null,null,null,5774.58631485,null],\"y0\":\" \",\"yaxis\":\"y\"},{\"alignmentgroup\":\"True\",\"boxpoints\":\"all\",\"hovertemplate\":\"<b>%{hovertext}</b><br><br>Continents=%{x}<br>Year=1962<br>Energy use (kg of oil equivalent per capita)=%{y}<extra></extra>\",\"hovertext\":[\"Australia\",\"New Zealand\"],\"legendgroup\":\"Oceania\",\"marker\":{\"color\":\"#FFA15A\"},\"name\":\"Oceania\",\"notched\":false,\"offsetgroup\":\"Oceania\",\"orientation\":\"v\",\"showlegend\":true,\"type\":\"box\",\"x\":[\"Oceania\",\"Oceania\"],\"x0\":\" \",\"xaxis\":\"x\",\"y\":[3172.97486502,1791.46132151],\"y0\":\" \",\"yaxis\":\"y\"}],                        {\"boxmode\":\"overlay\",\"legend\":{\"title\":{\"text\":\"Continents\"},\"tracegroupgap\":0},\"sliders\":[{\"active\":0,\"currentvalue\":{\"prefix\":\"Year=\"},\"len\":0.9,\"pad\":{\"b\":10,\"t\":60},\"steps\":[{\"args\":[[\"1962\"],{\"frame\":{\"duration\":0,\"redraw\":true},\"fromcurrent\":true,\"mode\":\"immediate\",\"transition\":{\"duration\":0,\"easing\":\"linear\"}}],\"label\":\"1962\",\"method\":\"animate\"},{\"args\":[[\"1967\"],{\"frame\":{\"duration\":0,\"redraw\":true},\"fromcurrent\":true,\"mode\":\"immediate\",\"transition\":{\"duration\":0,\"easing\":\"linear\"}}],\"label\":\"1967\",\"method\":\"animate\"},{\"args\":[[\"1972\"],{\"frame\":{\"duration\":0,\"redraw\":true},\"fromcurrent\":true,\"mode\":\"immediate\",\"transition\":{\"duration\":0,\"easing\":\"linear\"}}],\"label\":\"1972\",\"method\":\"animate\"},{\"args\":[[\"1977\"],{\"frame\":{\"duration\":0,\"redraw\":true},\"fromcurrent\":true,\"mode\":\"immediate\",\"transition\":{\"duration\":0,\"easing\":\"linear\"}}],\"label\":\"1977\",\"method\":\"animate\"},{\"args\":[[\"1982\"],{\"frame\":{\"duration\":0,\"redraw\":true},\"fromcurrent\":true,\"mode\":\"immediate\",\"transition\":{\"duration\":0,\"easing\":\"linear\"}}],\"label\":\"1982\",\"method\":\"animate\"},{\"args\":[[\"1987\"],{\"frame\":{\"duration\":0,\"redraw\":true},\"fromcurrent\":true,\"mode\":\"immediate\",\"transition\":{\"duration\":0,\"easing\":\"linear\"}}],\"label\":\"1987\",\"method\":\"animate\"},{\"args\":[[\"1992\"],{\"frame\":{\"duration\":0,\"redraw\":true},\"fromcurrent\":true,\"mode\":\"immediate\",\"transition\":{\"duration\":0,\"easing\":\"linear\"}}],\"label\":\"1992\",\"method\":\"animate\"},{\"args\":[[\"1997\"],{\"frame\":{\"duration\":0,\"redraw\":true},\"fromcurrent\":true,\"mode\":\"immediate\",\"transition\":{\"duration\":0,\"easing\":\"linear\"}}],\"label\":\"1997\",\"method\":\"animate\"},{\"args\":[[\"2002\"],{\"frame\":{\"duration\":0,\"redraw\":true},\"fromcurrent\":true,\"mode\":\"immediate\",\"transition\":{\"duration\":0,\"easing\":\"linear\"}}],\"label\":\"2002\",\"method\":\"animate\"},{\"args\":[[\"2007\"],{\"frame\":{\"duration\":0,\"redraw\":true},\"fromcurrent\":true,\"mode\":\"immediate\",\"transition\":{\"duration\":0,\"easing\":\"linear\"}}],\"label\":\"2007\",\"method\":\"animate\"}],\"x\":0.1,\"xanchor\":\"left\",\"y\":0,\"yanchor\":\"top\"}],\"template\":{\"data\":{\"bar\":[{\"error_x\":{\"color\":\"#2a3f5f\"},\"error_y\":{\"color\":\"#2a3f5f\"},\"marker\":{\"line\":{\"color\":\"#E5ECF6\",\"width\":0.5},\"pattern\":{\"fillmode\":\"overlay\",\"size\":10,\"solidity\":0.2}},\"type\":\"bar\"}],\"barpolar\":[{\"marker\":{\"line\":{\"color\":\"#E5ECF6\",\"width\":0.5},\"pattern\":{\"fillmode\":\"overlay\",\"size\":10,\"solidity\":0.2}},\"type\":\"barpolar\"}],\"carpet\":[{\"aaxis\":{\"endlinecolor\":\"#2a3f5f\",\"gridcolor\":\"white\",\"linecolor\":\"white\",\"minorgridcolor\":\"white\",\"startlinecolor\":\"#2a3f5f\"},\"baxis\":{\"endlinecolor\":\"#2a3f5f\",\"gridcolor\":\"white\",\"linecolor\":\"white\",\"minorgridcolor\":\"white\",\"startlinecolor\":\"#2a3f5f\"},\"type\":\"carpet\"}],\"choropleth\":[{\"colorbar\":{\"outlinewidth\":0,\"ticks\":\"\"},\"type\":\"choropleth\"}],\"contour\":[{\"colorbar\":{\"outlinewidth\":0,\"ticks\":\"\"},\"colorscale\":[[0.0,\"#0d0887\"],[0.1111111111111111,\"#46039f\"],[0.2222222222222222,\"#7201a8\"],[0.3333333333333333,\"#9c179e\"],[0.4444444444444444,\"#bd3786\"],[0.5555555555555556,\"#d8576b\"],[0.6666666666666666,\"#ed7953\"],[0.7777777777777778,\"#fb9f3a\"],[0.8888888888888888,\"#fdca26\"],[1.0,\"#f0f921\"]],\"type\":\"contour\"}],\"contourcarpet\":[{\"colorbar\":{\"outlinewidth\":0,\"ticks\":\"\"},\"type\":\"contourcarpet\"}],\"heatmap\":[{\"colorbar\":{\"outlinewidth\":0,\"ticks\":\"\"},\"colorscale\":[[0.0,\"#0d0887\"],[0.1111111111111111,\"#46039f\"],[0.2222222222222222,\"#7201a8\"],[0.3333333333333333,\"#9c179e\"],[0.4444444444444444,\"#bd3786\"],[0.5555555555555556,\"#d8576b\"],[0.6666666666666666,\"#ed7953\"],[0.7777777777777778,\"#fb9f3a\"],[0.8888888888888888,\"#fdca26\"],[1.0,\"#f0f921\"]],\"type\":\"heatmap\"}],\"heatmapgl\":[{\"colorbar\":{\"outlinewidth\":0,\"ticks\":\"\"},\"colorscale\":[[0.0,\"#0d0887\"],[0.1111111111111111,\"#46039f\"],[0.2222222222222222,\"#7201a8\"],[0.3333333333333333,\"#9c179e\"],[0.4444444444444444,\"#bd3786\"],[0.5555555555555556,\"#d8576b\"],[0.6666666666666666,\"#ed7953\"],[0.7777777777777778,\"#fb9f3a\"],[0.8888888888888888,\"#fdca26\"],[1.0,\"#f0f921\"]],\"type\":\"heatmapgl\"}],\"histogram\":[{\"marker\":{\"pattern\":{\"fillmode\":\"overlay\",\"size\":10,\"solidity\":0.2}},\"type\":\"histogram\"}],\"histogram2d\":[{\"colorbar\":{\"outlinewidth\":0,\"ticks\":\"\"},\"colorscale\":[[0.0,\"#0d0887\"],[0.1111111111111111,\"#46039f\"],[0.2222222222222222,\"#7201a8\"],[0.3333333333333333,\"#9c179e\"],[0.4444444444444444,\"#bd3786\"],[0.5555555555555556,\"#d8576b\"],[0.6666666666666666,\"#ed7953\"],[0.7777777777777778,\"#fb9f3a\"],[0.8888888888888888,\"#fdca26\"],[1.0,\"#f0f921\"]],\"type\":\"histogram2d\"}],\"histogram2dcontour\":[{\"colorbar\":{\"outlinewidth\":0,\"ticks\":\"\"},\"colorscale\":[[0.0,\"#0d0887\"],[0.1111111111111111,\"#46039f\"],[0.2222222222222222,\"#7201a8\"],[0.3333333333333333,\"#9c179e\"],[0.4444444444444444,\"#bd3786\"],[0.5555555555555556,\"#d8576b\"],[0.6666666666666666,\"#ed7953\"],[0.7777777777777778,\"#fb9f3a\"],[0.8888888888888888,\"#fdca26\"],[1.0,\"#f0f921\"]],\"type\":\"histogram2dcontour\"}],\"mesh3d\":[{\"colorbar\":{\"outlinewidth\":0,\"ticks\":\"\"},\"type\":\"mesh3d\"}],\"parcoords\":[{\"line\":{\"colorbar\":{\"outlinewidth\":0,\"ticks\":\"\"}},\"type\":\"parcoords\"}],\"pie\":[{\"automargin\":true,\"type\":\"pie\"}],\"scatter\":[{\"marker\":{\"colorbar\":{\"outlinewidth\":0,\"ticks\":\"\"}},\"type\":\"scatter\"}],\"scatter3d\":[{\"line\":{\"colorbar\":{\"outlinewidth\":0,\"ticks\":\"\"}},\"marker\":{\"colorbar\":{\"outlinewidth\":0,\"ticks\":\"\"}},\"type\":\"scatter3d\"}],\"scattercarpet\":[{\"marker\":{\"colorbar\":{\"outlinewidth\":0,\"ticks\":\"\"}},\"type\":\"scattercarpet\"}],\"scattergeo\":[{\"marker\":{\"colorbar\":{\"outlinewidth\":0,\"ticks\":\"\"}},\"type\":\"scattergeo\"}],\"scattergl\":[{\"marker\":{\"colorbar\":{\"outlinewidth\":0,\"ticks\":\"\"}},\"type\":\"scattergl\"}],\"scattermapbox\":[{\"marker\":{\"colorbar\":{\"outlinewidth\":0,\"ticks\":\"\"}},\"type\":\"scattermapbox\"}],\"scatterpolar\":[{\"marker\":{\"colorbar\":{\"outlinewidth\":0,\"ticks\":\"\"}},\"type\":\"scatterpolar\"}],\"scatterpolargl\":[{\"marker\":{\"colorbar\":{\"outlinewidth\":0,\"ticks\":\"\"}},\"type\":\"scatterpolargl\"}],\"scatterternary\":[{\"marker\":{\"colorbar\":{\"outlinewidth\":0,\"ticks\":\"\"}},\"type\":\"scatterternary\"}],\"surface\":[{\"colorbar\":{\"outlinewidth\":0,\"ticks\":\"\"},\"colorscale\":[[0.0,\"#0d0887\"],[0.1111111111111111,\"#46039f\"],[0.2222222222222222,\"#7201a8\"],[0.3333333333333333,\"#9c179e\"],[0.4444444444444444,\"#bd3786\"],[0.5555555555555556,\"#d8576b\"],[0.6666666666666666,\"#ed7953\"],[0.7777777777777778,\"#fb9f3a\"],[0.8888888888888888,\"#fdca26\"],[1.0,\"#f0f921\"]],\"type\":\"surface\"}],\"table\":[{\"cells\":{\"fill\":{\"color\":\"#EBF0F8\"},\"line\":{\"color\":\"white\"}},\"header\":{\"fill\":{\"color\":\"#C8D4E3\"},\"line\":{\"color\":\"white\"}},\"type\":\"table\"}]},\"layout\":{\"annotationdefaults\":{\"arrowcolor\":\"#2a3f5f\",\"arrowhead\":0,\"arrowwidth\":1},\"autotypenumbers\":\"strict\",\"coloraxis\":{\"colorbar\":{\"outlinewidth\":0,\"ticks\":\"\"}},\"colorscale\":{\"diverging\":[[0,\"#8e0152\"],[0.1,\"#c51b7d\"],[0.2,\"#de77ae\"],[0.3,\"#f1b6da\"],[0.4,\"#fde0ef\"],[0.5,\"#f7f7f7\"],[0.6,\"#e6f5d0\"],[0.7,\"#b8e186\"],[0.8,\"#7fbc41\"],[0.9,\"#4d9221\"],[1,\"#276419\"]],\"sequential\":[[0.0,\"#0d0887\"],[0.1111111111111111,\"#46039f\"],[0.2222222222222222,\"#7201a8\"],[0.3333333333333333,\"#9c179e\"],[0.4444444444444444,\"#bd3786\"],[0.5555555555555556,\"#d8576b\"],[0.6666666666666666,\"#ed7953\"],[0.7777777777777778,\"#fb9f3a\"],[0.8888888888888888,\"#fdca26\"],[1.0,\"#f0f921\"]],\"sequentialminus\":[[0.0,\"#0d0887\"],[0.1111111111111111,\"#46039f\"],[0.2222222222222222,\"#7201a8\"],[0.3333333333333333,\"#9c179e\"],[0.4444444444444444,\"#bd3786\"],[0.5555555555555556,\"#d8576b\"],[0.6666666666666666,\"#ed7953\"],[0.7777777777777778,\"#fb9f3a\"],[0.8888888888888888,\"#fdca26\"],[1.0,\"#f0f921\"]]},\"colorway\":[\"#636efa\",\"#EF553B\",\"#00cc96\",\"#ab63fa\",\"#FFA15A\",\"#19d3f3\",\"#FF6692\",\"#B6E880\",\"#FF97FF\",\"#FECB52\"],\"font\":{\"color\":\"#2a3f5f\"},\"geo\":{\"bgcolor\":\"white\",\"lakecolor\":\"white\",\"landcolor\":\"#E5ECF6\",\"showlakes\":true,\"showland\":true,\"subunitcolor\":\"white\"},\"hoverlabel\":{\"align\":\"left\"},\"hovermode\":\"closest\",\"mapbox\":{\"style\":\"light\"},\"paper_bgcolor\":\"white\",\"plot_bgcolor\":\"#E5ECF6\",\"polar\":{\"angularaxis\":{\"gridcolor\":\"white\",\"linecolor\":\"white\",\"ticks\":\"\"},\"bgcolor\":\"#E5ECF6\",\"radialaxis\":{\"gridcolor\":\"white\",\"linecolor\":\"white\",\"ticks\":\"\"}},\"scene\":{\"xaxis\":{\"backgroundcolor\":\"#E5ECF6\",\"gridcolor\":\"white\",\"gridwidth\":2,\"linecolor\":\"white\",\"showbackground\":true,\"ticks\":\"\",\"zerolinecolor\":\"white\"},\"yaxis\":{\"backgroundcolor\":\"#E5ECF6\",\"gridcolor\":\"white\",\"gridwidth\":2,\"linecolor\":\"white\",\"showbackground\":true,\"ticks\":\"\",\"zerolinecolor\":\"white\"},\"zaxis\":{\"backgroundcolor\":\"#E5ECF6\",\"gridcolor\":\"white\",\"gridwidth\":2,\"linecolor\":\"white\",\"showbackground\":true,\"ticks\":\"\",\"zerolinecolor\":\"white\"}},\"shapedefaults\":{\"line\":{\"color\":\"#2a3f5f\"}},\"ternary\":{\"aaxis\":{\"gridcolor\":\"white\",\"linecolor\":\"white\",\"ticks\":\"\"},\"baxis\":{\"gridcolor\":\"white\",\"linecolor\":\"white\",\"ticks\":\"\"},\"bgcolor\":\"#E5ECF6\",\"caxis\":{\"gridcolor\":\"white\",\"linecolor\":\"white\",\"ticks\":\"\"}},\"title\":{\"x\":0.05},\"xaxis\":{\"automargin\":true,\"gridcolor\":\"white\",\"linecolor\":\"white\",\"ticks\":\"\",\"title\":{\"standoff\":15},\"zerolinecolor\":\"white\",\"zerolinewidth\":2},\"yaxis\":{\"automargin\":true,\"gridcolor\":\"white\",\"linecolor\":\"white\",\"ticks\":\"\",\"title\":{\"standoff\":15},\"zerolinecolor\":\"white\",\"zerolinewidth\":2}}},\"title\":{\"text\":\"Energy use (kg of oil equivalent per capita) vs Continents\"},\"updatemenus\":[{\"buttons\":[{\"args\":[null,{\"frame\":{\"duration\":500,\"redraw\":true},\"fromcurrent\":true,\"mode\":\"immediate\",\"transition\":{\"duration\":500,\"easing\":\"linear\"}}],\"label\":\"&#9654;\",\"method\":\"animate\"},{\"args\":[[null],{\"frame\":{\"duration\":0,\"redraw\":true},\"fromcurrent\":true,\"mode\":\"immediate\",\"transition\":{\"duration\":0,\"easing\":\"linear\"}}],\"label\":\"&#9724;\",\"method\":\"animate\"}],\"direction\":\"left\",\"pad\":{\"r\":10,\"t\":70},\"showactive\":false,\"type\":\"buttons\",\"x\":0.1,\"xanchor\":\"right\",\"y\":0,\"yanchor\":\"top\"}],\"xaxis\":{\"anchor\":\"y\",\"categoryarray\":[\"Asia\",\"Europe\",\"Africa\",\"Americas\",\"Oceania\"],\"categoryorder\":\"array\",\"domain\":[0.0,1.0],\"title\":{\"text\":\"Continents\"}},\"yaxis\":{\"anchor\":\"x\",\"domain\":[0.0,1.0],\"range\":[0.9,4.5],\"title\":{\"text\":\"Energy use (kg of oil equivalent per capita)\"},\"type\":\"log\"}},                        {\"responsive\": true}                    ).then(function(){\n",
       "                            Plotly.addFrames('75aca3cc-d871-4620-ac3a-cec87ea3b27a', [{\"data\":[{\"alignmentgroup\":\"True\",\"boxpoints\":\"all\",\"hovertemplate\":\"<b>%{hovertext}</b><br><br>Continents=%{x}<br>Year=1962<br>Energy use (kg of oil equivalent per capita)=%{y}<extra></extra>\",\"hovertext\":[\"Afghanistan\",\"Bahrain\",\"Bangladesh\",\"Cambodia\",\"China\",\"India\",\"Indonesia\",\"Iraq\",\"Israel\",\"Japan\",\"Jordan\",\"Kuwait\",\"Lebanon\",\"Malaysia\",\"Mongolia\",\"Myanmar\",\"Nepal\",\"Oman\",\"Pakistan\",\"Philippines\",\"Saudi Arabia\",\"Singapore\",\"Sri Lanka\",\"Thailand\",\"Vietnam\"],\"legendgroup\":\"Asia\",\"marker\":{\"color\":\"#636efa\"},\"name\":\"Asia\",\"notched\":false,\"offsetgroup\":\"Asia\",\"orientation\":\"v\",\"showlegend\":true,\"type\":\"box\",\"x\":[\"Asia\",\"Asia\",\"Asia\",\"Asia\",\"Asia\",\"Asia\",\"Asia\",\"Asia\",\"Asia\",\"Asia\",\"Asia\",\"Asia\",\"Asia\",\"Asia\",\"Asia\",\"Asia\",\"Asia\",\"Asia\",\"Asia\",\"Asia\",\"Asia\",\"Asia\",\"Asia\",\"Asia\",\"Asia\"],\"x0\":\" \",\"xaxis\":\"x\",\"y\":[null,null,null,null,null,null,null,null,null,1003.75225394,null,null,null,null,null,null,null,null,null,null,null,null,null,null,null],\"y0\":\" \",\"yaxis\":\"y\"},{\"alignmentgroup\":\"True\",\"boxpoints\":\"all\",\"hovertemplate\":\"<b>%{hovertext}</b><br><br>Continents=%{x}<br>Year=1962<br>Energy use (kg of oil equivalent per capita)=%{y}<extra></extra>\",\"hovertext\":[\"Albania\",\"Austria\",\"Belgium\",\"Bosnia and Herzegovina\",\"Bulgaria\",\"Croatia\",\"Czech Republic\",\"Denmark\",\"Finland\",\"France\",\"Germany\",\"Greece\",\"Hungary\",\"Iceland\",\"Ireland\",\"Italy\",\"Montenegro\",\"Netherlands\",\"Norway\",\"Poland\",\"Portugal\",\"Romania\",\"Serbia\",\"Slovak Republic\",\"Slovenia\",\"Spain\",\"Sweden\",\"Switzerland\",\"Turkey\",\"United Kingdom\"],\"legendgroup\":\"Europe\",\"marker\":{\"color\":\"#EF553B\"},\"name\":\"Europe\",\"notched\":false,\"offsetgroup\":\"Europe\",\"orientation\":\"v\",\"showlegend\":true,\"type\":\"box\",\"x\":[\"Europe\",\"Europe\",\"Europe\",\"Europe\",\"Europe\",\"Europe\",\"Europe\",\"Europe\",\"Europe\",\"Europe\",\"Europe\",\"Europe\",\"Europe\",\"Europe\",\"Europe\",\"Europe\",\"Europe\",\"Europe\",\"Europe\",\"Europe\",\"Europe\",\"Europe\",\"Europe\",\"Europe\",\"Europe\",\"Europe\",\"Europe\",\"Europe\",\"Europe\",\"Europe\"],\"x0\":\" \",\"xaxis\":\"x\",\"y\":[null,1675.87362115,2810.06114801,null,null,null,null,2296.28956262,2361.74387608,1852.7357712,2124.84853926,350.101257861,null,3028.29836932,1412.72967684,1007.04834663,null,2081.01162075,2052.05448433,1976.85979181,363.164047972,null,null,null,null,605.223527325,2887.23625249,1568.91106002,410.021796967,3087.34197183],\"y0\":\" \",\"yaxis\":\"y\"},{\"alignmentgroup\":\"True\",\"boxpoints\":\"all\",\"hovertemplate\":\"<b>%{hovertext}</b><br><br>Continents=%{x}<br>Year=1962<br>Energy use (kg of oil equivalent per capita)=%{y}<extra></extra>\",\"hovertext\":[\"Algeria\",\"Angola\",\"Benin\",\"Botswana\",\"Burkina Faso\",\"Burundi\",\"Cameroon\",\"Central African Republic\",\"Chad\",\"Comoros\",\"Cote d'Ivoire\",\"Djibouti\",\"Equatorial Guinea\",\"Eritrea\",\"Ethiopia\",\"Gabon\",\"Ghana\",\"Guinea\",\"Guinea-Bissau\",\"Kenya\",\"Lesotho\",\"Liberia\",\"Libya\",\"Madagascar\",\"Malawi\",\"Mali\",\"Mauritania\",\"Mauritius\",\"Morocco\",\"Mozambique\",\"Namibia\",\"Niger\",\"Nigeria\",\"Rwanda\",\"Sao Tome and Principe\",\"Senegal\",\"Sierra Leone\",\"Somalia\",\"South Africa\",\"Sudan\",\"Swaziland\",\"Tanzania\",\"Togo\",\"Tunisia\",\"Uganda\",\"Zambia\",\"Zimbabwe\"],\"legendgroup\":\"Africa\",\"marker\":{\"color\":\"#00cc96\"},\"name\":\"Africa\",\"notched\":false,\"offsetgroup\":\"Africa\",\"orientation\":\"v\",\"showlegend\":true,\"type\":\"box\",\"x\":[\"Africa\",\"Africa\",\"Africa\",\"Africa\",\"Africa\",\"Africa\",\"Africa\",\"Africa\",\"Africa\",\"Africa\",\"Africa\",\"Africa\",\"Africa\",\"Africa\",\"Africa\",\"Africa\",\"Africa\",\"Africa\",\"Africa\",\"Africa\",\"Africa\",\"Africa\",\"Africa\",\"Africa\",\"Africa\",\"Africa\",\"Africa\",\"Africa\",\"Africa\",\"Africa\",\"Africa\",\"Africa\",\"Africa\",\"Africa\",\"Africa\",\"Africa\",\"Africa\",\"Africa\",\"Africa\",\"Africa\",\"Africa\",\"Africa\",\"Africa\",\"Africa\",\"Africa\",\"Africa\",\"Africa\"],\"x0\":\" \",\"xaxis\":\"x\",\"y\":[null,null,null,null,null,null,null,null,null,null,null,null,null,null,null,null,null,null,null,null,null,null,null,null,null,null,null,null,null,null,null,null,null,null,null,null,null,null,null,null,null,null,null,null,null,null,null],\"y0\":\" \",\"yaxis\":\"y\"},{\"alignmentgroup\":\"True\",\"boxpoints\":\"all\",\"hovertemplate\":\"<b>%{hovertext}</b><br><br>Continents=%{x}<br>Year=1962<br>Energy use (kg of oil equivalent per capita)=%{y}<extra></extra>\",\"hovertext\":[\"Argentina\",\"Bolivia\",\"Brazil\",\"Canada\",\"Chile\",\"Colombia\",\"Costa Rica\",\"Cuba\",\"Dominican Republic\",\"Ecuador\",\"El Salvador\",\"Guatemala\",\"Haiti\",\"Honduras\",\"Jamaica\",\"Mexico\",\"Nicaragua\",\"Panama\",\"Paraguay\",\"Peru\",\"Puerto Rico\",\"Trinidad and Tobago\",\"United States\",\"Uruguay\"],\"legendgroup\":\"Americas\",\"marker\":{\"color\":\"#ab63fa\"},\"name\":\"Americas\",\"notched\":false,\"offsetgroup\":\"Americas\",\"orientation\":\"v\",\"showlegend\":true,\"type\":\"box\",\"x\":[\"Americas\",\"Americas\",\"Americas\",\"Americas\",\"Americas\",\"Americas\",\"Americas\",\"Americas\",\"Americas\",\"Americas\",\"Americas\",\"Americas\",\"Americas\",\"Americas\",\"Americas\",\"Americas\",\"Americas\",\"Americas\",\"Americas\",\"Americas\",\"Americas\",\"Americas\",\"Americas\",\"Americas\"],\"x0\":\" \",\"xaxis\":\"x\",\"y\":[null,null,null,4451.56011604,null,null,null,null,null,null,null,null,null,null,null,null,null,null,null,null,null,null,5774.58631485,null],\"y0\":\" \",\"yaxis\":\"y\"},{\"alignmentgroup\":\"True\",\"boxpoints\":\"all\",\"hovertemplate\":\"<b>%{hovertext}</b><br><br>Continents=%{x}<br>Year=1962<br>Energy use (kg of oil equivalent per capita)=%{y}<extra></extra>\",\"hovertext\":[\"Australia\",\"New Zealand\"],\"legendgroup\":\"Oceania\",\"marker\":{\"color\":\"#FFA15A\"},\"name\":\"Oceania\",\"notched\":false,\"offsetgroup\":\"Oceania\",\"orientation\":\"v\",\"showlegend\":true,\"type\":\"box\",\"x\":[\"Oceania\",\"Oceania\"],\"x0\":\" \",\"xaxis\":\"x\",\"y\":[3172.97486502,1791.46132151],\"y0\":\" \",\"yaxis\":\"y\"}],\"name\":\"1962\"},{\"data\":[{\"alignmentgroup\":\"True\",\"boxpoints\":\"all\",\"hovertemplate\":\"<b>%{hovertext}</b><br><br>Continents=%{x}<br>Year=1967<br>Energy use (kg of oil equivalent per capita)=%{y}<extra></extra>\",\"hovertext\":[\"Afghanistan\",\"Bahrain\",\"Bangladesh\",\"Cambodia\",\"China\",\"India\",\"Indonesia\",\"Iraq\",\"Israel\",\"Japan\",\"Jordan\",\"Kuwait\",\"Lebanon\",\"Malaysia\",\"Mongolia\",\"Myanmar\",\"Nepal\",\"Oman\",\"Pakistan\",\"Philippines\",\"Saudi Arabia\",\"Singapore\",\"Sri Lanka\",\"Thailand\",\"Vietnam\"],\"legendgroup\":\"Asia\",\"marker\":{\"color\":\"#636efa\"},\"name\":\"Asia\",\"notched\":false,\"offsetgroup\":\"Asia\",\"orientation\":\"v\",\"showlegend\":true,\"type\":\"box\",\"x\":[\"Asia\",\"Asia\",\"Asia\",\"Asia\",\"Asia\",\"Asia\",\"Asia\",\"Asia\",\"Asia\",\"Asia\",\"Asia\",\"Asia\",\"Asia\",\"Asia\",\"Asia\",\"Asia\",\"Asia\",\"Asia\",\"Asia\",\"Asia\",\"Asia\",\"Asia\",\"Asia\",\"Asia\",\"Asia\"],\"x0\":\" \",\"xaxis\":\"x\",\"y\":[null,null,null,null,null,null,null,null,null,1720.54974435,null,null,null,null,null,null,null,null,null,null,null,null,null,null,null],\"y0\":\" \",\"yaxis\":\"y\"},{\"alignmentgroup\":\"True\",\"boxpoints\":\"all\",\"hovertemplate\":\"<b>%{hovertext}</b><br><br>Continents=%{x}<br>Year=1967<br>Energy use (kg of oil equivalent per capita)=%{y}<extra></extra>\",\"hovertext\":[\"Albania\",\"Austria\",\"Belgium\",\"Bosnia and Herzegovina\",\"Bulgaria\",\"Croatia\",\"Czech Republic\",\"Denmark\",\"Finland\",\"France\",\"Germany\",\"Greece\",\"Hungary\",\"Iceland\",\"Ireland\",\"Italy\",\"Montenegro\",\"Netherlands\",\"Norway\",\"Poland\",\"Portugal\",\"Romania\",\"Serbia\",\"Slovak Republic\",\"Slovenia\",\"Spain\",\"Sweden\",\"Switzerland\",\"Turkey\",\"United Kingdom\"],\"legendgroup\":\"Europe\",\"marker\":{\"color\":\"#EF553B\"},\"name\":\"Europe\",\"notched\":false,\"offsetgroup\":\"Europe\",\"orientation\":\"v\",\"showlegend\":true,\"type\":\"box\",\"x\":[\"Europe\",\"Europe\",\"Europe\",\"Europe\",\"Europe\",\"Europe\",\"Europe\",\"Europe\",\"Europe\",\"Europe\",\"Europe\",\"Europe\",\"Europe\",\"Europe\",\"Europe\",\"Europe\",\"Europe\",\"Europe\",\"Europe\",\"Europe\",\"Europe\",\"Europe\",\"Europe\",\"Europe\",\"Europe\",\"Europe\",\"Europe\",\"Europe\",\"Europe\",\"Europe\"],\"x0\":\" \",\"xaxis\":\"x\",\"y\":[null,1920.21212423,3182.9234575,null,null,null,null,3061.11010693,3126.42604539,2241.91139524,2388.41234673,607.702155943,1476.04957577,3594.36178937,1767.42510638,1551.51917279,null,2762.80248267,2815.68798736,2199.05462052,486.585415324,null,null,null,null,881.3832485789999,3630.19413871,2040.8279002,484.393315616,3345.55349486],\"y0\":\" \",\"yaxis\":\"y\"},{\"alignmentgroup\":\"True\",\"boxpoints\":\"all\",\"hovertemplate\":\"<b>%{hovertext}</b><br><br>Continents=%{x}<br>Year=1967<br>Energy use (kg of oil equivalent per capita)=%{y}<extra></extra>\",\"hovertext\":[\"Algeria\",\"Angola\",\"Benin\",\"Botswana\",\"Burkina Faso\",\"Burundi\",\"Cameroon\",\"Central African Republic\",\"Chad\",\"Comoros\",\"Cote d'Ivoire\",\"Djibouti\",\"Equatorial Guinea\",\"Eritrea\",\"Ethiopia\",\"Gabon\",\"Ghana\",\"Guinea\",\"Guinea-Bissau\",\"Kenya\",\"Lesotho\",\"Liberia\",\"Libya\",\"Madagascar\",\"Malawi\",\"Mali\",\"Mauritania\",\"Mauritius\",\"Morocco\",\"Mozambique\",\"Namibia\",\"Niger\",\"Nigeria\",\"Rwanda\",\"Sao Tome and Principe\",\"Senegal\",\"Sierra Leone\",\"Somalia\",\"South Africa\",\"Sudan\",\"Swaziland\",\"Tanzania\",\"Togo\",\"Tunisia\",\"Uganda\",\"Zambia\",\"Zimbabwe\"],\"legendgroup\":\"Africa\",\"marker\":{\"color\":\"#00cc96\"},\"name\":\"Africa\",\"notched\":false,\"offsetgroup\":\"Africa\",\"orientation\":\"v\",\"showlegend\":true,\"type\":\"box\",\"x\":[\"Africa\",\"Africa\",\"Africa\",\"Africa\",\"Africa\",\"Africa\",\"Africa\",\"Africa\",\"Africa\",\"Africa\",\"Africa\",\"Africa\",\"Africa\",\"Africa\",\"Africa\",\"Africa\",\"Africa\",\"Africa\",\"Africa\",\"Africa\",\"Africa\",\"Africa\",\"Africa\",\"Africa\",\"Africa\",\"Africa\",\"Africa\",\"Africa\",\"Africa\",\"Africa\",\"Africa\",\"Africa\",\"Africa\",\"Africa\",\"Africa\",\"Africa\",\"Africa\",\"Africa\",\"Africa\",\"Africa\",\"Africa\",\"Africa\",\"Africa\",\"Africa\",\"Africa\",\"Africa\",\"Africa\"],\"x0\":\" \",\"xaxis\":\"x\",\"y\":[null,null,null,null,null,null,null,null,null,null,null,null,null,null,null,null,null,null,null,null,null,null,null,null,null,null,null,null,null,null,null,null,null,null,null,null,null,null,null,null,null,null,null,null,null,null,null],\"y0\":\" \",\"yaxis\":\"y\"},{\"alignmentgroup\":\"True\",\"boxpoints\":\"all\",\"hovertemplate\":\"<b>%{hovertext}</b><br><br>Continents=%{x}<br>Year=1967<br>Energy use (kg of oil equivalent per capita)=%{y}<extra></extra>\",\"hovertext\":[\"Argentina\",\"Bolivia\",\"Brazil\",\"Canada\",\"Chile\",\"Colombia\",\"Costa Rica\",\"Cuba\",\"Dominican Republic\",\"Ecuador\",\"El Salvador\",\"Guatemala\",\"Haiti\",\"Honduras\",\"Jamaica\",\"Mexico\",\"Nicaragua\",\"Panama\",\"Paraguay\",\"Peru\",\"Puerto Rico\",\"Trinidad and Tobago\",\"United States\",\"Uruguay\"],\"legendgroup\":\"Americas\",\"marker\":{\"color\":\"#ab63fa\"},\"name\":\"Americas\",\"notched\":false,\"offsetgroup\":\"Americas\",\"orientation\":\"v\",\"showlegend\":true,\"type\":\"box\",\"x\":[\"Americas\",\"Americas\",\"Americas\",\"Americas\",\"Americas\",\"Americas\",\"Americas\",\"Americas\",\"Americas\",\"Americas\",\"Americas\",\"Americas\",\"Americas\",\"Americas\",\"Americas\",\"Americas\",\"Americas\",\"Americas\",\"Americas\",\"Americas\",\"Americas\",\"Americas\",\"Americas\",\"Americas\"],\"x0\":\" \",\"xaxis\":\"x\",\"y\":[null,null,null,5557.29174015,null,null,null,null,null,null,null,null,null,null,null,null,null,null,null,null,null,null,6809.82048392,null],\"y0\":\" \",\"yaxis\":\"y\"},{\"alignmentgroup\":\"True\",\"boxpoints\":\"all\",\"hovertemplate\":\"<b>%{hovertext}</b><br><br>Continents=%{x}<br>Year=1967<br>Energy use (kg of oil equivalent per capita)=%{y}<extra></extra>\",\"hovertext\":[\"Australia\",\"New Zealand\"],\"legendgroup\":\"Oceania\",\"marker\":{\"color\":\"#FFA15A\"},\"name\":\"Oceania\",\"notched\":false,\"offsetgroup\":\"Oceania\",\"orientation\":\"v\",\"showlegend\":true,\"type\":\"box\",\"x\":[\"Oceania\",\"Oceania\"],\"x0\":\" \",\"xaxis\":\"x\",\"y\":[3692.80794983,2188.69351345],\"y0\":\" \",\"yaxis\":\"y\"}],\"name\":\"1967\"},{\"data\":[{\"alignmentgroup\":\"True\",\"boxpoints\":\"all\",\"hovertemplate\":\"<b>%{hovertext}</b><br><br>Continents=%{x}<br>Year=1972<br>Energy use (kg of oil equivalent per capita)=%{y}<extra></extra>\",\"hovertext\":[\"Afghanistan\",\"Bahrain\",\"Bangladesh\",\"Cambodia\",\"China\",\"India\",\"Indonesia\",\"Iraq\",\"Israel\",\"Japan\",\"Jordan\",\"Kuwait\",\"Lebanon\",\"Malaysia\",\"Mongolia\",\"Myanmar\",\"Nepal\",\"Oman\",\"Pakistan\",\"Philippines\",\"Saudi Arabia\",\"Singapore\",\"Sri Lanka\",\"Thailand\",\"Vietnam\"],\"legendgroup\":\"Asia\",\"marker\":{\"color\":\"#636efa\"},\"name\":\"Asia\",\"notched\":false,\"offsetgroup\":\"Asia\",\"orientation\":\"v\",\"showlegend\":true,\"type\":\"box\",\"x\":[\"Asia\",\"Asia\",\"Asia\",\"Asia\",\"Asia\",\"Asia\",\"Asia\",\"Asia\",\"Asia\",\"Asia\",\"Asia\",\"Asia\",\"Asia\",\"Asia\",\"Asia\",\"Asia\",\"Asia\",\"Asia\",\"Asia\",\"Asia\",\"Asia\",\"Asia\",\"Asia\",\"Asia\",\"Asia\"],\"x0\":\" \",\"xaxis\":\"x\",\"y\":[null,5960.21133509,86.903766977,null,477.168708746,268.485083335,301.357990782,405.152489951,1756.33100381,2667.04674964,297.830418297,7802.76597438,789.565543378,536.095210505,null,281.931848431,300.972670494,112.054808283,285.16407106400004,406.49229803800006,979.423249943,1569.47082327,314.546613794,367.864327681,298.157558425],\"y0\":\" \",\"yaxis\":\"y\"},{\"alignmentgroup\":\"True\",\"boxpoints\":\"all\",\"hovertemplate\":\"<b>%{hovertext}</b><br><br>Continents=%{x}<br>Year=1972<br>Energy use (kg of oil equivalent per capita)=%{y}<extra></extra>\",\"hovertext\":[\"Albania\",\"Austria\",\"Belgium\",\"Bosnia and Herzegovina\",\"Bulgaria\",\"Croatia\",\"Czech Republic\",\"Denmark\",\"Finland\",\"France\",\"Germany\",\"Greece\",\"Hungary\",\"Iceland\",\"Ireland\",\"Italy\",\"Montenegro\",\"Netherlands\",\"Norway\",\"Poland\",\"Portugal\",\"Romania\",\"Serbia\",\"Slovak Republic\",\"Slovenia\",\"Spain\",\"Sweden\",\"Switzerland\",\"Turkey\",\"United Kingdom\"],\"legendgroup\":\"Europe\",\"marker\":{\"color\":\"#EF553B\"},\"name\":\"Europe\",\"notched\":false,\"offsetgroup\":\"Europe\",\"orientation\":\"v\",\"showlegend\":true,\"type\":\"box\",\"x\":[\"Europe\",\"Europe\",\"Europe\",\"Europe\",\"Europe\",\"Europe\",\"Europe\",\"Europe\",\"Europe\",\"Europe\",\"Europe\",\"Europe\",\"Europe\",\"Europe\",\"Europe\",\"Europe\",\"Europe\",\"Europe\",\"Europe\",\"Europe\",\"Europe\",\"Europe\",\"Europe\",\"Europe\",\"Europe\",\"Europe\",\"Europe\",\"Europe\",\"Europe\",\"Europe\"],\"x0\":\" \",\"xaxis\":\"x\",\"y\":[865.592481207,2627.32249578,4473.92951273,null,2262.78654882,null,4613.78059093,3858.59212164,4188.16067653,3160.80483651,4017.33738516,1134.78649348,1880.53879751,4403.96964669,2194.51306452,2050.73787712,null,4381.04179488,3503.4299482,2693.74527501,745.283954565,2131.63973572,null,3224.51944058,null,1299.43101563,4527.21372025,2727.71921732,605.1364652890001,3747.96247517],\"y0\":\" \",\"yaxis\":\"y\"},{\"alignmentgroup\":\"True\",\"boxpoints\":\"all\",\"hovertemplate\":\"<b>%{hovertext}</b><br><br>Continents=%{x}<br>Year=1972<br>Energy use (kg of oil equivalent per capita)=%{y}<extra></extra>\",\"hovertext\":[\"Algeria\",\"Angola\",\"Benin\",\"Botswana\",\"Burkina Faso\",\"Burundi\",\"Cameroon\",\"Central African Republic\",\"Chad\",\"Comoros\",\"Cote d'Ivoire\",\"Djibouti\",\"Equatorial Guinea\",\"Eritrea\",\"Ethiopia\",\"Gabon\",\"Ghana\",\"Guinea\",\"Guinea-Bissau\",\"Kenya\",\"Lesotho\",\"Liberia\",\"Libya\",\"Madagascar\",\"Malawi\",\"Mali\",\"Mauritania\",\"Mauritius\",\"Morocco\",\"Mozambique\",\"Namibia\",\"Niger\",\"Nigeria\",\"Rwanda\",\"Sao Tome and Principe\",\"Senegal\",\"Sierra Leone\",\"Somalia\",\"South Africa\",\"Sudan\",\"Swaziland\",\"Tanzania\",\"Togo\",\"Tunisia\",\"Uganda\",\"Zambia\",\"Zimbabwe\"],\"legendgroup\":\"Africa\",\"marker\":{\"color\":\"#00cc96\"},\"name\":\"Africa\",\"notched\":false,\"offsetgroup\":\"Africa\",\"orientation\":\"v\",\"showlegend\":true,\"type\":\"box\",\"x\":[\"Africa\",\"Africa\",\"Africa\",\"Africa\",\"Africa\",\"Africa\",\"Africa\",\"Africa\",\"Africa\",\"Africa\",\"Africa\",\"Africa\",\"Africa\",\"Africa\",\"Africa\",\"Africa\",\"Africa\",\"Africa\",\"Africa\",\"Africa\",\"Africa\",\"Africa\",\"Africa\",\"Africa\",\"Africa\",\"Africa\",\"Africa\",\"Africa\",\"Africa\",\"Africa\",\"Africa\",\"Africa\",\"Africa\",\"Africa\",\"Africa\",\"Africa\",\"Africa\",\"Africa\",\"Africa\",\"Africa\",\"Africa\",\"Africa\",\"Africa\",\"Africa\",\"Africa\",\"Africa\",\"Africa\"],\"x0\":\" \",\"xaxis\":\"x\",\"y\":[261.465250751,629.301934363,380.812029086,null,null,null,386.14642293800006,null,null,null,453.243100247,null,null,null,434.793195834,1707.3062928,348.93189080300004,null,null,455.513600948,null,null,952.733553333,null,null,null,null,435.059790882,190.387995598,699.0228986210001,null,null,583.794808164,null,null,280.837670795,null,null,1997.49821372,485.018934669,null,527.0538798619999,332.041867346,341.737804158,null,857.0932537580002,994.184786353],\"y0\":\" \",\"yaxis\":\"y\"},{\"alignmentgroup\":\"True\",\"boxpoints\":\"all\",\"hovertemplate\":\"<b>%{hovertext}</b><br><br>Continents=%{x}<br>Year=1972<br>Energy use (kg of oil equivalent per capita)=%{y}<extra></extra>\",\"hovertext\":[\"Argentina\",\"Bolivia\",\"Brazil\",\"Canada\",\"Chile\",\"Colombia\",\"Costa Rica\",\"Cuba\",\"Dominican Republic\",\"Ecuador\",\"El Salvador\",\"Guatemala\",\"Haiti\",\"Honduras\",\"Jamaica\",\"Mexico\",\"Nicaragua\",\"Panama\",\"Paraguay\",\"Peru\",\"Puerto Rico\",\"Trinidad and Tobago\",\"United States\",\"Uruguay\"],\"legendgroup\":\"Americas\",\"marker\":{\"color\":\"#ab63fa\"},\"name\":\"Americas\",\"notched\":false,\"offsetgroup\":\"Americas\",\"orientation\":\"v\",\"showlegend\":true,\"type\":\"box\",\"x\":[\"Americas\",\"Americas\",\"Americas\",\"Americas\",\"Americas\",\"Americas\",\"Americas\",\"Americas\",\"Americas\",\"Americas\",\"Americas\",\"Americas\",\"Americas\",\"Americas\",\"Americas\",\"Americas\",\"Americas\",\"Americas\",\"Americas\",\"Americas\",\"Americas\",\"Americas\",\"Americas\",\"Americas\"],\"x0\":\" \",\"xaxis\":\"x\",\"y\":[1379.81886741,240.157170254,741.6918705969998,6933.60655182,891.2738674039999,598.975288294,442.444664949,1154.55654156,573.372745636,360.600661999,484.967888203,491.473442413,317.810225983,499.277043223,1331.9860874,856.81120942,487.96346663800006,1159.6892715999998,540.588375968,648.807999388,null,2772.88276961,7940.99783226,872.986354117],\"y0\":\" \",\"yaxis\":\"y\"},{\"alignmentgroup\":\"True\",\"boxpoints\":\"all\",\"hovertemplate\":\"<b>%{hovertext}</b><br><br>Continents=%{x}<br>Year=1972<br>Energy use (kg of oil equivalent per capita)=%{y}<extra></extra>\",\"hovertext\":[\"Australia\",\"New Zealand\"],\"legendgroup\":\"Oceania\",\"marker\":{\"color\":\"#FFA15A\"},\"name\":\"Oceania\",\"notched\":false,\"offsetgroup\":\"Oceania\",\"orientation\":\"v\",\"showlegend\":true,\"type\":\"box\",\"x\":[\"Oceania\",\"Oceania\"],\"x0\":\" \",\"xaxis\":\"x\",\"y\":[4035.20634439,2617.16105927],\"y0\":\" \",\"yaxis\":\"y\"}],\"name\":\"1972\"},{\"data\":[{\"alignmentgroup\":\"True\",\"boxpoints\":\"all\",\"hovertemplate\":\"<b>%{hovertext}</b><br><br>Continents=%{x}<br>Year=1977<br>Energy use (kg of oil equivalent per capita)=%{y}<extra></extra>\",\"hovertext\":[\"Afghanistan\",\"Bahrain\",\"Bangladesh\",\"Cambodia\",\"China\",\"India\",\"Indonesia\",\"Iraq\",\"Israel\",\"Japan\",\"Jordan\",\"Kuwait\",\"Lebanon\",\"Malaysia\",\"Mongolia\",\"Myanmar\",\"Nepal\",\"Oman\",\"Pakistan\",\"Philippines\",\"Saudi Arabia\",\"Singapore\",\"Sri Lanka\",\"Thailand\",\"Vietnam\"],\"legendgroup\":\"Asia\",\"marker\":{\"color\":\"#636efa\"},\"name\":\"Asia\",\"notched\":false,\"offsetgroup\":\"Asia\",\"orientation\":\"v\",\"showlegend\":true,\"type\":\"box\",\"x\":[\"Asia\",\"Asia\",\"Asia\",\"Asia\",\"Asia\",\"Asia\",\"Asia\",\"Asia\",\"Asia\",\"Asia\",\"Asia\",\"Asia\",\"Asia\",\"Asia\",\"Asia\",\"Asia\",\"Asia\",\"Asia\",\"Asia\",\"Asia\",\"Asia\",\"Asia\",\"Asia\",\"Asia\",\"Asia\"],\"x0\":\" \",\"xaxis\":\"x\",\"y\":[null,8187.11498635,97.860763105,null,577.211010594,283.275393642,347.868204367,626.354937731,1786.48768337,2899.90421823,473.5437315580001,6429.99850119,696.1964896339999,621.740086559,null,276.246179043,302.06554296,761.662333837,302.558312012,456.743021869,1368.95037047,1763.23012084,293.833883231,451.510578157,257.872313351],\"y0\":\" \",\"yaxis\":\"y\"},{\"alignmentgroup\":\"True\",\"boxpoints\":\"all\",\"hovertemplate\":\"<b>%{hovertext}</b><br><br>Continents=%{x}<br>Year=1977<br>Energy use (kg of oil equivalent per capita)=%{y}<extra></extra>\",\"hovertext\":[\"Albania\",\"Austria\",\"Belgium\",\"Bosnia and Herzegovina\",\"Bulgaria\",\"Croatia\",\"Czech Republic\",\"Denmark\",\"Finland\",\"France\",\"Germany\",\"Greece\",\"Hungary\",\"Iceland\",\"Ireland\",\"Italy\",\"Montenegro\",\"Netherlands\",\"Norway\",\"Poland\",\"Portugal\",\"Romania\",\"Serbia\",\"Slovak Republic\",\"Slovenia\",\"Spain\",\"Sweden\",\"Switzerland\",\"Turkey\",\"United Kingdom\"],\"legendgroup\":\"Europe\",\"marker\":{\"color\":\"#EF553B\"},\"name\":\"Europe\",\"notched\":false,\"offsetgroup\":\"Europe\",\"orientation\":\"v\",\"showlegend\":true,\"type\":\"box\",\"x\":[\"Europe\",\"Europe\",\"Europe\",\"Europe\",\"Europe\",\"Europe\",\"Europe\",\"Europe\",\"Europe\",\"Europe\",\"Europe\",\"Europe\",\"Europe\",\"Europe\",\"Europe\",\"Europe\",\"Europe\",\"Europe\",\"Europe\",\"Europe\",\"Europe\",\"Europe\",\"Europe\",\"Europe\",\"Europe\",\"Europe\",\"Europe\",\"Europe\",\"Europe\",\"Europe\"],\"x0\":\" \",\"xaxis\":\"x\",\"y\":[923.728867504,2797.42192238,4589.52441,null,2954.26673889,null,4716.46270083,3830.10381024,4516.24806759,3155.62146854,4336.0874042,1469.54942907,2428.82933004,5602.87016623,2203.82152215,2204.17980667,null,4560.27311991,4060.10627707,3251.8025717,845.368945104,2735.43911555,null,3780.58944725,null,1667.64601643,5054.83376436,2877.79290941,778.4328071839999,3695.38387114],\"y0\":\" \",\"yaxis\":\"y\"},{\"alignmentgroup\":\"True\",\"boxpoints\":\"all\",\"hovertemplate\":\"<b>%{hovertext}</b><br><br>Continents=%{x}<br>Year=1977<br>Energy use (kg of oil equivalent per capita)=%{y}<extra></extra>\",\"hovertext\":[\"Algeria\",\"Angola\",\"Benin\",\"Botswana\",\"Burkina Faso\",\"Burundi\",\"Cameroon\",\"Central African Republic\",\"Chad\",\"Comoros\",\"Cote d'Ivoire\",\"Djibouti\",\"Equatorial Guinea\",\"Eritrea\",\"Ethiopia\",\"Gabon\",\"Ghana\",\"Guinea\",\"Guinea-Bissau\",\"Kenya\",\"Lesotho\",\"Liberia\",\"Libya\",\"Madagascar\",\"Malawi\",\"Mali\",\"Mauritania\",\"Mauritius\",\"Morocco\",\"Mozambique\",\"Namibia\",\"Niger\",\"Nigeria\",\"Rwanda\",\"Sao Tome and Principe\",\"Senegal\",\"Sierra Leone\",\"Somalia\",\"South Africa\",\"Sudan\",\"Swaziland\",\"Tanzania\",\"Togo\",\"Tunisia\",\"Uganda\",\"Zambia\",\"Zimbabwe\"],\"legendgroup\":\"Africa\",\"marker\":{\"color\":\"#00cc96\"},\"name\":\"Africa\",\"notched\":false,\"offsetgroup\":\"Africa\",\"orientation\":\"v\",\"showlegend\":true,\"type\":\"box\",\"x\":[\"Africa\",\"Africa\",\"Africa\",\"Africa\",\"Africa\",\"Africa\",\"Africa\",\"Africa\",\"Africa\",\"Africa\",\"Africa\",\"Africa\",\"Africa\",\"Africa\",\"Africa\",\"Africa\",\"Africa\",\"Africa\",\"Africa\",\"Africa\",\"Africa\",\"Africa\",\"Africa\",\"Africa\",\"Africa\",\"Africa\",\"Africa\",\"Africa\",\"Africa\",\"Africa\",\"Africa\",\"Africa\",\"Africa\",\"Africa\",\"Africa\",\"Africa\",\"Africa\",\"Africa\",\"Africa\",\"Africa\",\"Africa\",\"Africa\",\"Africa\",\"Africa\",\"Africa\",\"Africa\",\"Africa\"],\"x0\":\" \",\"xaxis\":\"x\",\"y\":[398.656113469,535.2524622330001,363.746124276,null,null,null,402.624623832,null,null,null,449.52124719,null,null,null,432.458375494,2000.90013642,381.515147025,null,null,455.626061673,null,null,1455.08414725,null,null,null,null,474.222876797,252.036810104,608.405141326,null,null,634.258748201,null,null,281.840462003,null,null,2208.54919916,445.524031505,null,455.445767964,327.998948608,427.302747359,null,819.7872201060001,921.65469562],\"y0\":\" \",\"yaxis\":\"y\"},{\"alignmentgroup\":\"True\",\"boxpoints\":\"all\",\"hovertemplate\":\"<b>%{hovertext}</b><br><br>Continents=%{x}<br>Year=1977<br>Energy use (kg of oil equivalent per capita)=%{y}<extra></extra>\",\"hovertext\":[\"Argentina\",\"Bolivia\",\"Brazil\",\"Canada\",\"Chile\",\"Colombia\",\"Costa Rica\",\"Cuba\",\"Dominican Republic\",\"Ecuador\",\"El Salvador\",\"Guatemala\",\"Haiti\",\"Honduras\",\"Jamaica\",\"Mexico\",\"Nicaragua\",\"Panama\",\"Paraguay\",\"Peru\",\"Puerto Rico\",\"Trinidad and Tobago\",\"United States\",\"Uruguay\"],\"legendgroup\":\"Americas\",\"marker\":{\"color\":\"#ab63fa\"},\"name\":\"Americas\",\"notched\":false,\"offsetgroup\":\"Americas\",\"orientation\":\"v\",\"showlegend\":true,\"type\":\"box\",\"x\":[\"Americas\",\"Americas\",\"Americas\",\"Americas\",\"Americas\",\"Americas\",\"Americas\",\"Americas\",\"Americas\",\"Americas\",\"Americas\",\"Americas\",\"Americas\",\"Americas\",\"Americas\",\"Americas\",\"Americas\",\"Americas\",\"Americas\",\"Americas\",\"Americas\",\"Americas\",\"Americas\",\"Americas\"],\"x0\":\" \",\"xaxis\":\"x\",\"y\":[1420.56765898,331.439253894,868.475086329,7409.53000504,779.391621026,638.025434659,528.165846592,1424.73743541,601.951784846,568.073705272,622.1297874219999,574.359356263,350.433910995,512.605428263,1153.48652689,1063.78037111,585.0413863719999,899.7691370580002,580.530937274,678.509067152,null,2808.51679767,8285.57089798,868.792103341],\"y0\":\" \",\"yaxis\":\"y\"},{\"alignmentgroup\":\"True\",\"boxpoints\":\"all\",\"hovertemplate\":\"<b>%{hovertext}</b><br><br>Continents=%{x}<br>Year=1977<br>Energy use (kg of oil equivalent per capita)=%{y}<extra></extra>\",\"hovertext\":[\"Australia\",\"New Zealand\"],\"legendgroup\":\"Oceania\",\"marker\":{\"color\":\"#FFA15A\"},\"name\":\"Oceania\",\"notched\":false,\"offsetgroup\":\"Oceania\",\"orientation\":\"v\",\"showlegend\":true,\"type\":\"box\",\"x\":[\"Oceania\",\"Oceania\"],\"x0\":\" \",\"xaxis\":\"x\",\"y\":[4671.19567362,3055.08108455],\"y0\":\" \",\"yaxis\":\"y\"}],\"name\":\"1977\"},{\"data\":[{\"alignmentgroup\":\"True\",\"boxpoints\":\"all\",\"hovertemplate\":\"<b>%{hovertext}</b><br><br>Continents=%{x}<br>Year=1982<br>Energy use (kg of oil equivalent per capita)=%{y}<extra></extra>\",\"hovertext\":[\"Afghanistan\",\"Bahrain\",\"Bangladesh\",\"Cambodia\",\"China\",\"India\",\"Indonesia\",\"Iraq\",\"Israel\",\"Japan\",\"Jordan\",\"Kuwait\",\"Lebanon\",\"Malaysia\",\"Mongolia\",\"Myanmar\",\"Nepal\",\"Oman\",\"Pakistan\",\"Philippines\",\"Saudi Arabia\",\"Singapore\",\"Sri Lanka\",\"Thailand\",\"Vietnam\"],\"legendgroup\":\"Asia\",\"marker\":{\"color\":\"#636efa\"},\"name\":\"Asia\",\"notched\":false,\"offsetgroup\":\"Asia\",\"orientation\":\"v\",\"showlegend\":true,\"type\":\"box\",\"x\":[\"Asia\",\"Asia\",\"Asia\",\"Asia\",\"Asia\",\"Asia\",\"Asia\",\"Asia\",\"Asia\",\"Asia\",\"Asia\",\"Asia\",\"Asia\",\"Asia\",\"Asia\",\"Asia\",\"Asia\",\"Asia\",\"Asia\",\"Asia\",\"Asia\",\"Asia\",\"Asia\",\"Asia\",\"Asia\"],\"x0\":\" \",\"xaxis\":\"x\",\"y\":[null,9071.02474414,105.482961637,null,606.830437326,299.592677132,388.834624998,690.323799679,1958.31704292,2840.60843908,875.54040491,7548.12934744,678.5814280469999,898.6549052380002,null,270.238811656,305.746943514,1151.87126892,336.92280827900004,461.890994003,4215.42559694,1987.08730813,324.13036566,456.467867425,271.162299998],\"y0\":\" \",\"yaxis\":\"y\"},{\"alignmentgroup\":\"True\",\"boxpoints\":\"all\",\"hovertemplate\":\"<b>%{hovertext}</b><br><br>Continents=%{x}<br>Year=1982<br>Energy use (kg of oil equivalent per capita)=%{y}<extra></extra>\",\"hovertext\":[\"Albania\",\"Austria\",\"Belgium\",\"Bosnia and Herzegovina\",\"Bulgaria\",\"Croatia\",\"Czech Republic\",\"Denmark\",\"Finland\",\"France\",\"Germany\",\"Greece\",\"Hungary\",\"Iceland\",\"Ireland\",\"Italy\",\"Montenegro\",\"Netherlands\",\"Norway\",\"Poland\",\"Portugal\",\"Romania\",\"Serbia\",\"Slovak Republic\",\"Slovenia\",\"Spain\",\"Sweden\",\"Switzerland\",\"Turkey\",\"United Kingdom\"],\"legendgroup\":\"Europe\",\"marker\":{\"color\":\"#EF553B\"},\"name\":\"Europe\",\"notched\":false,\"offsetgroup\":\"Europe\",\"orientation\":\"v\",\"showlegend\":true,\"type\":\"box\",\"x\":[\"Europe\",\"Europe\",\"Europe\",\"Europe\",\"Europe\",\"Europe\",\"Europe\",\"Europe\",\"Europe\",\"Europe\",\"Europe\",\"Europe\",\"Europe\",\"Europe\",\"Europe\",\"Europe\",\"Europe\",\"Europe\",\"Europe\",\"Europe\",\"Europe\",\"Europe\",\"Europe\",\"Europe\",\"Europe\",\"Europe\",\"Europe\",\"Europe\",\"Europe\",\"Europe\"],\"x0\":\" \",\"xaxis\":\"x\",\"y\":[966.683283781,2830.22178095,4208.25780214,null,3309.20642511,null,4633.61136678,3422.37480485,4805.49388193,3272.05274478,4257.86440736,1537.27769706,2630.75848148,7076.20798768,2356.8942567,2206.54273411,null,3785.11593558,4262.39171068,3412.49866376,1119.20463053,2876.73333115,null,3754.67958194,null,1762.40454547,4877.79989653,2984.22326318,732.662049648,3397.12228872],\"y0\":\" \",\"yaxis\":\"y\"},{\"alignmentgroup\":\"True\",\"boxpoints\":\"all\",\"hovertemplate\":\"<b>%{hovertext}</b><br><br>Continents=%{x}<br>Year=1982<br>Energy use (kg of oil equivalent per capita)=%{y}<extra></extra>\",\"hovertext\":[\"Algeria\",\"Angola\",\"Benin\",\"Botswana\",\"Burkina Faso\",\"Burundi\",\"Cameroon\",\"Central African Republic\",\"Chad\",\"Comoros\",\"Cote d'Ivoire\",\"Djibouti\",\"Equatorial Guinea\",\"Eritrea\",\"Ethiopia\",\"Gabon\",\"Ghana\",\"Guinea\",\"Guinea-Bissau\",\"Kenya\",\"Lesotho\",\"Liberia\",\"Libya\",\"Madagascar\",\"Malawi\",\"Mali\",\"Mauritania\",\"Mauritius\",\"Morocco\",\"Mozambique\",\"Namibia\",\"Niger\",\"Nigeria\",\"Rwanda\",\"Sao Tome and Principe\",\"Senegal\",\"Sierra Leone\",\"Somalia\",\"South Africa\",\"Sudan\",\"Swaziland\",\"Tanzania\",\"Togo\",\"Tunisia\",\"Uganda\",\"Zambia\",\"Zimbabwe\"],\"legendgroup\":\"Africa\",\"marker\":{\"color\":\"#00cc96\"},\"name\":\"Africa\",\"notched\":false,\"offsetgroup\":\"Africa\",\"orientation\":\"v\",\"showlegend\":true,\"type\":\"box\",\"x\":[\"Africa\",\"Africa\",\"Africa\",\"Africa\",\"Africa\",\"Africa\",\"Africa\",\"Africa\",\"Africa\",\"Africa\",\"Africa\",\"Africa\",\"Africa\",\"Africa\",\"Africa\",\"Africa\",\"Africa\",\"Africa\",\"Africa\",\"Africa\",\"Africa\",\"Africa\",\"Africa\",\"Africa\",\"Africa\",\"Africa\",\"Africa\",\"Africa\",\"Africa\",\"Africa\",\"Africa\",\"Africa\",\"Africa\",\"Africa\",\"Africa\",\"Africa\",\"Africa\",\"Africa\",\"Africa\",\"Africa\",\"Africa\",\"Africa\",\"Africa\",\"Africa\",\"Africa\",\"Africa\",\"Africa\"],\"x0\":\" \",\"xaxis\":\"x\",\"y\":[771.235497639,514.415934309,355.338045025,739.29915268,null,null,423.360959463,null,null,null,393.432418022,null,null,null,434.058222854,2069.78785109,376.7088969880001,null,null,437.652286948,null,null,2397.98259634,null,null,null,null,414.601806914,268.259441677,523.782627433,null,null,689.4945390439999,null,null,260.719421235,null,null,2699.72841558,431.003010124,null,414.717967022,327.324375984,493.048630903,null,756.612333199,842.372683813],\"y0\":\" \",\"yaxis\":\"y\"},{\"alignmentgroup\":\"True\",\"boxpoints\":\"all\",\"hovertemplate\":\"<b>%{hovertext}</b><br><br>Continents=%{x}<br>Year=1982<br>Energy use (kg of oil equivalent per capita)=%{y}<extra></extra>\",\"hovertext\":[\"Argentina\",\"Bolivia\",\"Brazil\",\"Canada\",\"Chile\",\"Colombia\",\"Costa Rica\",\"Cuba\",\"Dominican Republic\",\"Ecuador\",\"El Salvador\",\"Guatemala\",\"Haiti\",\"Honduras\",\"Jamaica\",\"Mexico\",\"Nicaragua\",\"Panama\",\"Paraguay\",\"Peru\",\"Puerto Rico\",\"Trinidad and Tobago\",\"United States\",\"Uruguay\"],\"legendgroup\":\"Americas\",\"marker\":{\"color\":\"#ab63fa\"},\"name\":\"Americas\",\"notched\":false,\"offsetgroup\":\"Americas\",\"orientation\":\"v\",\"showlegend\":true,\"type\":\"box\",\"x\":[\"Americas\",\"Americas\",\"Americas\",\"Americas\",\"Americas\",\"Americas\",\"Americas\",\"Americas\",\"Americas\",\"Americas\",\"Americas\",\"Americas\",\"Americas\",\"Americas\",\"Americas\",\"Americas\",\"Americas\",\"Americas\",\"Americas\",\"Americas\",\"Americas\",\"Americas\",\"Americas\",\"Americas\"],\"x0\":\" \",\"xaxis\":\"x\",\"y\":[1416.53992488,462.43170312,867.193602187,7149.344059999999,763.201224638,635.432893568,455.822967416,1536.90510757,596.93367919,666.635807378,595.2355137530001,482.712477796,301.847692756,520.393217065,1040.31180401,1465.05024708,469.268615848,796.469906347,630.648885594,632.7254874390001,null,3648.18714807,7259.07889875,766.1430987780002],\"y0\":\" \",\"yaxis\":\"y\"},{\"alignmentgroup\":\"True\",\"boxpoints\":\"all\",\"hovertemplate\":\"<b>%{hovertext}</b><br><br>Continents=%{x}<br>Year=1982<br>Energy use (kg of oil equivalent per capita)=%{y}<extra></extra>\",\"hovertext\":[\"Australia\",\"New Zealand\"],\"legendgroup\":\"Oceania\",\"marker\":{\"color\":\"#FFA15A\"},\"name\":\"Oceania\",\"notched\":false,\"offsetgroup\":\"Oceania\",\"orientation\":\"v\",\"showlegend\":true,\"type\":\"box\",\"x\":[\"Oceania\",\"Oceania\"],\"x0\":\" \",\"xaxis\":\"x\",\"y\":[4817.48952431,3012.97138874],\"y0\":\" \",\"yaxis\":\"y\"}],\"name\":\"1982\"},{\"data\":[{\"alignmentgroup\":\"True\",\"boxpoints\":\"all\",\"hovertemplate\":\"<b>%{hovertext}</b><br><br>Continents=%{x}<br>Year=1987<br>Energy use (kg of oil equivalent per capita)=%{y}<extra></extra>\",\"hovertext\":[\"Afghanistan\",\"Bahrain\",\"Bangladesh\",\"Cambodia\",\"China\",\"India\",\"Indonesia\",\"Iraq\",\"Israel\",\"Japan\",\"Jordan\",\"Kuwait\",\"Lebanon\",\"Malaysia\",\"Mongolia\",\"Myanmar\",\"Nepal\",\"Oman\",\"Pakistan\",\"Philippines\",\"Saudi Arabia\",\"Singapore\",\"Sri Lanka\",\"Thailand\",\"Vietnam\"],\"legendgroup\":\"Asia\",\"marker\":{\"color\":\"#636efa\"},\"name\":\"Asia\",\"notched\":false,\"offsetgroup\":\"Asia\",\"orientation\":\"v\",\"showlegend\":true,\"type\":\"box\",\"x\":[\"Asia\",\"Asia\",\"Asia\",\"Asia\",\"Asia\",\"Asia\",\"Asia\",\"Asia\",\"Asia\",\"Asia\",\"Asia\",\"Asia\",\"Asia\",\"Asia\",\"Asia\",\"Asia\",\"Asia\",\"Asia\",\"Asia\",\"Asia\",\"Asia\",\"Asia\",\"Asia\",\"Asia\",\"Asia\"],\"x0\":\" \",\"xaxis\":\"x\",\"y\":[null,9523.46356521,106.866835127,null,694.4223599789999,325.73809089400004,436.663234979,958.189471661,2278.47928588,3044.11508629,998.355658577,8616.57655309,996.943321974,1078.98626036,1746.24080026,269.30095308,307.065111322,1412.3831509,376.344243754,433.357672285,3750.91313869,2757.88068931,328.090886835,531.762695185,286.657214575],\"y0\":\" \",\"yaxis\":\"y\"},{\"alignmentgroup\":\"True\",\"boxpoints\":\"all\",\"hovertemplate\":\"<b>%{hovertext}</b><br><br>Continents=%{x}<br>Year=1987<br>Energy use (kg of oil equivalent per capita)=%{y}<extra></extra>\",\"hovertext\":[\"Albania\",\"Austria\",\"Belgium\",\"Bosnia and Herzegovina\",\"Bulgaria\",\"Croatia\",\"Czech Republic\",\"Denmark\",\"Finland\",\"France\",\"Germany\",\"Greece\",\"Hungary\",\"Iceland\",\"Ireland\",\"Italy\",\"Montenegro\",\"Netherlands\",\"Norway\",\"Poland\",\"Portugal\",\"Romania\",\"Serbia\",\"Slovak Republic\",\"Slovenia\",\"Spain\",\"Sweden\",\"Switzerland\",\"Turkey\",\"United Kingdom\"],\"legendgroup\":\"Europe\",\"marker\":{\"color\":\"#EF553B\"},\"name\":\"Europe\",\"notched\":false,\"offsetgroup\":\"Europe\",\"orientation\":\"v\",\"showlegend\":true,\"type\":\"box\",\"x\":[\"Europe\",\"Europe\",\"Europe\",\"Europe\",\"Europe\",\"Europe\",\"Europe\",\"Europe\",\"Europe\",\"Europe\",\"Europe\",\"Europe\",\"Europe\",\"Europe\",\"Europe\",\"Europe\",\"Europe\",\"Europe\",\"Europe\",\"Europe\",\"Europe\",\"Europe\",\"Europe\",\"Europe\",\"Europe\",\"Europe\",\"Europe\",\"Europe\",\"Europe\",\"Europe\"],\"x0\":\" \",\"xaxis\":\"x\",\"y\":[921.893044018,3174.74539203,4727.68639528,null,3411.07339479,null,4978.254944899999,3819.83212874,5960.69258613,3690.65145306,4616.39706207,1791.83338591,2894.82745315,7857.45488268,2608.80658136,2407.25635314,null,4387.67068914,5048.49930916,3535.48197152,1241.1956653,3027.56521622,null,4074.77904741,null,1919.44664907,5763.0704408,3430.8555125,917.976137079,3619.07726922],\"y0\":\" \",\"yaxis\":\"y\"},{\"alignmentgroup\":\"True\",\"boxpoints\":\"all\",\"hovertemplate\":\"<b>%{hovertext}</b><br><br>Continents=%{x}<br>Year=1987<br>Energy use (kg of oil equivalent per capita)=%{y}<extra></extra>\",\"hovertext\":[\"Algeria\",\"Angola\",\"Benin\",\"Botswana\",\"Burkina Faso\",\"Burundi\",\"Cameroon\",\"Central African Republic\",\"Chad\",\"Comoros\",\"Cote d'Ivoire\",\"Djibouti\",\"Equatorial Guinea\",\"Eritrea\",\"Ethiopia\",\"Gabon\",\"Ghana\",\"Guinea\",\"Guinea-Bissau\",\"Kenya\",\"Lesotho\",\"Liberia\",\"Libya\",\"Madagascar\",\"Malawi\",\"Mali\",\"Mauritania\",\"Mauritius\",\"Morocco\",\"Mozambique\",\"Namibia\",\"Niger\",\"Nigeria\",\"Rwanda\",\"Sao Tome and Principe\",\"Senegal\",\"Sierra Leone\",\"Somalia\",\"South Africa\",\"Sudan\",\"Swaziland\",\"Tanzania\",\"Togo\",\"Tunisia\",\"Uganda\",\"Zambia\",\"Zimbabwe\"],\"legendgroup\":\"Africa\",\"marker\":{\"color\":\"#00cc96\"},\"name\":\"Africa\",\"notched\":false,\"offsetgroup\":\"Africa\",\"orientation\":\"v\",\"showlegend\":true,\"type\":\"box\",\"x\":[\"Africa\",\"Africa\",\"Africa\",\"Africa\",\"Africa\",\"Africa\",\"Africa\",\"Africa\",\"Africa\",\"Africa\",\"Africa\",\"Africa\",\"Africa\",\"Africa\",\"Africa\",\"Africa\",\"Africa\",\"Africa\",\"Africa\",\"Africa\",\"Africa\",\"Africa\",\"Africa\",\"Africa\",\"Africa\",\"Africa\",\"Africa\",\"Africa\",\"Africa\",\"Africa\",\"Africa\",\"Africa\",\"Africa\",\"Africa\",\"Africa\",\"Africa\",\"Africa\",\"Africa\",\"Africa\",\"Africa\",\"Africa\",\"Africa\",\"Africa\",\"Africa\",\"Africa\",\"Africa\",\"Africa\"],\"x0\":\" \",\"xaxis\":\"x\",\"y\":[827.552506829,502.598458911,347.306591796,743.685354401,null,null,417.73292245,null,null,null,383.372484812,null,null,null,437.234995296,1470.39664628,363.852104774,null,null,464.00933684,null,null,2700.28315715,null,null,null,null,512.011597538,277.485699249,474.548861116,null,null,674.47298453,null,null,254.211898654,null,null,2831.14750181,397.42097884300006,null,394.145177081,328.062332773,542.645168334,null,700.14084375,896.673611477],\"y0\":\" \",\"yaxis\":\"y\"},{\"alignmentgroup\":\"True\",\"boxpoints\":\"all\",\"hovertemplate\":\"<b>%{hovertext}</b><br><br>Continents=%{x}<br>Year=1987<br>Energy use (kg of oil equivalent per capita)=%{y}<extra></extra>\",\"hovertext\":[\"Argentina\",\"Bolivia\",\"Brazil\",\"Canada\",\"Chile\",\"Colombia\",\"Costa Rica\",\"Cuba\",\"Dominican Republic\",\"Ecuador\",\"El Salvador\",\"Guatemala\",\"Haiti\",\"Honduras\",\"Jamaica\",\"Mexico\",\"Nicaragua\",\"Panama\",\"Paraguay\",\"Peru\",\"Puerto Rico\",\"Trinidad and Tobago\",\"United States\",\"Uruguay\"],\"legendgroup\":\"Americas\",\"marker\":{\"color\":\"#ab63fa\"},\"name\":\"Americas\",\"notched\":false,\"offsetgroup\":\"Americas\",\"orientation\":\"v\",\"showlegend\":true,\"type\":\"box\",\"x\":[\"Americas\",\"Americas\",\"Americas\",\"Americas\",\"Americas\",\"Americas\",\"Americas\",\"Americas\",\"Americas\",\"Americas\",\"Americas\",\"Americas\",\"Americas\",\"Americas\",\"Americas\",\"Americas\",\"Americas\",\"Americas\",\"Americas\",\"Americas\",\"Americas\",\"Americas\",\"Americas\",\"Americas\"],\"x0\":\" \",\"xaxis\":\"x\",\"y\":[1477.07652885,341.493450003,987.562557183,7641.32410546,826.260796732,696.0663928460001,491.495062694,1578.25907104,594.381238984,602.470062495,503.481769676,448.694681999,226.326971354,481.319956646,765.4628605460001,1379.33314201,502.383245685,730.8000538289999,699.102776962,540.974320389,null,4188.6453215,7622.17301652,718.448623294],\"y0\":\" \",\"yaxis\":\"y\"},{\"alignmentgroup\":\"True\",\"boxpoints\":\"all\",\"hovertemplate\":\"<b>%{hovertext}</b><br><br>Continents=%{x}<br>Year=1987<br>Energy use (kg of oil equivalent per capita)=%{y}<extra></extra>\",\"hovertext\":[\"Australia\",\"New Zealand\"],\"legendgroup\":\"Oceania\",\"marker\":{\"color\":\"#FFA15A\"},\"name\":\"Oceania\",\"notched\":false,\"offsetgroup\":\"Oceania\",\"orientation\":\"v\",\"showlegend\":true,\"type\":\"box\",\"x\":[\"Oceania\",\"Oceania\"],\"x0\":\" \",\"xaxis\":\"x\",\"y\":[4772.37046465,3452.96268019],\"y0\":\" \",\"yaxis\":\"y\"}],\"name\":\"1987\"},{\"data\":[{\"alignmentgroup\":\"True\",\"boxpoints\":\"all\",\"hovertemplate\":\"<b>%{hovertext}</b><br><br>Continents=%{x}<br>Year=1992<br>Energy use (kg of oil equivalent per capita)=%{y}<extra></extra>\",\"hovertext\":[\"Afghanistan\",\"Bahrain\",\"Bangladesh\",\"Cambodia\",\"China\",\"India\",\"Indonesia\",\"Iraq\",\"Israel\",\"Japan\",\"Jordan\",\"Kuwait\",\"Lebanon\",\"Malaysia\",\"Mongolia\",\"Myanmar\",\"Nepal\",\"Oman\",\"Pakistan\",\"Philippines\",\"Saudi Arabia\",\"Singapore\",\"Sri Lanka\",\"Thailand\",\"Vietnam\",\"West Bank and Gaza\"],\"legendgroup\":\"Asia\",\"marker\":{\"color\":\"#636efa\"},\"name\":\"Asia\",\"notched\":false,\"offsetgroup\":\"Asia\",\"orientation\":\"v\",\"showlegend\":true,\"type\":\"box\",\"x\":[\"Asia\",\"Asia\",\"Asia\",\"Asia\",\"Asia\",\"Asia\",\"Asia\",\"Asia\",\"Asia\",\"Asia\",\"Asia\",\"Asia\",\"Asia\",\"Asia\",\"Asia\",\"Asia\",\"Asia\",\"Asia\",\"Asia\",\"Asia\",\"Asia\",\"Asia\",\"Asia\",\"Asia\",\"Asia\",\"Asia\"],\"x0\":\" \",\"xaxis\":\"x\",\"y\":[null,10844.7550254,119.405481659,null,752.628662541,365.379491444,574.344890279,1311.18896852,2580.96935389,3652.07124745,1015.41769856,null,868.56933067,1566.72481216,1488.63742731,251.060745819,309.74507691900004,2756.42578415,412.405215402,460.545976337,4421.45445335,4588.43321165,327.882389865,840.141111806,276.1308749,null],\"y0\":\" \",\"yaxis\":\"y\"},{\"alignmentgroup\":\"True\",\"boxpoints\":\"all\",\"hovertemplate\":\"<b>%{hovertext}</b><br><br>Continents=%{x}<br>Year=1992<br>Energy use (kg of oil equivalent per capita)=%{y}<extra></extra>\",\"hovertext\":[\"Albania\",\"Austria\",\"Belgium\",\"Bosnia and Herzegovina\",\"Bulgaria\",\"Croatia\",\"Czech Republic\",\"Denmark\",\"Finland\",\"France\",\"Germany\",\"Greece\",\"Hungary\",\"Iceland\",\"Ireland\",\"Italy\",\"Montenegro\",\"Netherlands\",\"Norway\",\"Poland\",\"Portugal\",\"Romania\",\"Serbia\",\"Slovak Republic\",\"Slovenia\",\"Spain\",\"Sweden\",\"Switzerland\",\"Turkey\",\"United Kingdom\"],\"legendgroup\":\"Europe\",\"marker\":{\"color\":\"#EF553B\"},\"name\":\"Europe\",\"notched\":false,\"offsetgroup\":\"Europe\",\"orientation\":\"v\",\"showlegend\":true,\"type\":\"box\",\"x\":[\"Europe\",\"Europe\",\"Europe\",\"Europe\",\"Europe\",\"Europe\",\"Europe\",\"Europe\",\"Europe\",\"Europe\",\"Europe\",\"Europe\",\"Europe\",\"Europe\",\"Europe\",\"Europe\",\"Europe\",\"Europe\",\"Europe\",\"Europe\",\"Europe\",\"Europe\",\"Europe\",\"Europe\",\"Europe\",\"Europe\",\"Europe\",\"Europe\",\"Europe\",\"Europe\"],\"x0\":\" \",\"xaxis\":\"x\",\"y\":[418.286629757,3239.0639673,5092.96578511,1034.34415156,2396.00726637,1502.13713647,4222.41657552,3561.89036948,5380.99306782,3954.00370317,4190.98422047,2129.89451644,2423.17944795,7755.39441578,2775.21800345,2627.34000777,null,4501.66087489,5159.65421807,2569.17533457,1813.8858461,2052.96292702,2020.15373461,3410.7278847,2584.33517088,2435.96962149,5369.37035674,3613.49260926,960.859171935,3684.72453527],\"y0\":\" \",\"yaxis\":\"y\"},{\"alignmentgroup\":\"True\",\"boxpoints\":\"all\",\"hovertemplate\":\"<b>%{hovertext}</b><br><br>Continents=%{x}<br>Year=1992<br>Energy use (kg of oil equivalent per capita)=%{y}<extra></extra>\",\"hovertext\":[\"Algeria\",\"Angola\",\"Benin\",\"Botswana\",\"Burkina Faso\",\"Burundi\",\"Cameroon\",\"Central African Republic\",\"Chad\",\"Comoros\",\"Cote d'Ivoire\",\"Djibouti\",\"Equatorial Guinea\",\"Eritrea\",\"Ethiopia\",\"Gabon\",\"Ghana\",\"Guinea\",\"Guinea-Bissau\",\"Kenya\",\"Lesotho\",\"Liberia\",\"Libya\",\"Madagascar\",\"Malawi\",\"Mali\",\"Mauritania\",\"Mauritius\",\"Morocco\",\"Mozambique\",\"Namibia\",\"Niger\",\"Nigeria\",\"Rwanda\",\"Sao Tome and Principe\",\"Senegal\",\"Sierra Leone\",\"Somalia\",\"South Africa\",\"Sudan\",\"Swaziland\",\"Tanzania\",\"Togo\",\"Tunisia\",\"Uganda\",\"Zambia\",\"Zimbabwe\"],\"legendgroup\":\"Africa\",\"marker\":{\"color\":\"#00cc96\"},\"name\":\"Africa\",\"notched\":false,\"offsetgroup\":\"Africa\",\"orientation\":\"v\",\"showlegend\":true,\"type\":\"box\",\"x\":[\"Africa\",\"Africa\",\"Africa\",\"Africa\",\"Africa\",\"Africa\",\"Africa\",\"Africa\",\"Africa\",\"Africa\",\"Africa\",\"Africa\",\"Africa\",\"Africa\",\"Africa\",\"Africa\",\"Africa\",\"Africa\",\"Africa\",\"Africa\",\"Africa\",\"Africa\",\"Africa\",\"Africa\",\"Africa\",\"Africa\",\"Africa\",\"Africa\",\"Africa\",\"Africa\",\"Africa\",\"Africa\",\"Africa\",\"Africa\",\"Africa\",\"Africa\",\"Africa\",\"Africa\",\"Africa\",\"Africa\",\"Africa\",\"Africa\",\"Africa\",\"Africa\",\"Africa\",\"Africa\",\"Africa\"],\"x0\":\" \",\"xaxis\":\"x\",\"y\":[883.7458819,511.237051724,321.349456122,979.087310581,null,null,397.277540786,null,null,null,373.659519455,null,null,277.580928028,431.15182408,1298.09635297,366.522645114,null,null,445.111805733,null,null,2452.19740381,null,null,null,null,657.7868228880001,327.952990834,420.272139083,496.518769708,null,719.308370017,null,null,222.634685966,null,null,2414.3981946,386.72897561,null,369.835021604,328.69853999,641.6905970619999,null,662.721536129,923.493407317],\"y0\":\" \",\"yaxis\":\"y\"},{\"alignmentgroup\":\"True\",\"boxpoints\":\"all\",\"hovertemplate\":\"<b>%{hovertext}</b><br><br>Continents=%{x}<br>Year=1992<br>Energy use (kg of oil equivalent per capita)=%{y}<extra></extra>\",\"hovertext\":[\"Argentina\",\"Bolivia\",\"Brazil\",\"Canada\",\"Chile\",\"Colombia\",\"Costa Rica\",\"Cuba\",\"Dominican Republic\",\"Ecuador\",\"El Salvador\",\"Guatemala\",\"Haiti\",\"Honduras\",\"Jamaica\",\"Mexico\",\"Nicaragua\",\"Panama\",\"Paraguay\",\"Peru\",\"Puerto Rico\",\"Trinidad and Tobago\",\"United States\",\"Uruguay\"],\"legendgroup\":\"Americas\",\"marker\":{\"color\":\"#ab63fa\"},\"name\":\"Americas\",\"notched\":false,\"offsetgroup\":\"Americas\",\"orientation\":\"v\",\"showlegend\":true,\"type\":\"box\",\"x\":[\"Americas\",\"Americas\",\"Americas\",\"Americas\",\"Americas\",\"Americas\",\"Americas\",\"Americas\",\"Americas\",\"Americas\",\"Americas\",\"Americas\",\"Americas\",\"Americas\",\"Americas\",\"Americas\",\"Americas\",\"Americas\",\"Americas\",\"Americas\",\"Americas\",\"Americas\",\"Americas\",\"Americas\"],\"x0\":\" \",\"xaxis\":\"x\",\"y\":[1484.0589177000004,399.828007323,929.003678998,7479.477427399999,1141.81007039,704.354798517,705.487675532,1214.11700599,603.781376066,629.220777401,525.453706523,497.344297754,219.075496949,483.335543947,1215.0555252,1452.97190576,509.839947747,715.38365957,712.691343364,408.43313224,null,5286.28687516,7677.40140109,855.1247871139999],\"y0\":\" \",\"yaxis\":\"y\"},{\"alignmentgroup\":\"True\",\"boxpoints\":\"all\",\"hovertemplate\":\"<b>%{hovertext}</b><br><br>Continents=%{x}<br>Year=1992<br>Energy use (kg of oil equivalent per capita)=%{y}<extra></extra>\",\"hovertext\":[\"Australia\",\"New Zealand\"],\"legendgroup\":\"Oceania\",\"marker\":{\"color\":\"#FFA15A\"},\"name\":\"Oceania\",\"notched\":false,\"offsetgroup\":\"Oceania\",\"orientation\":\"v\",\"showlegend\":true,\"type\":\"box\",\"x\":[\"Oceania\",\"Oceania\"],\"x0\":\" \",\"xaxis\":\"x\",\"y\":[4959.21491855,3808.4772206],\"y0\":\" \",\"yaxis\":\"y\"}],\"name\":\"1992\"},{\"data\":[{\"alignmentgroup\":\"True\",\"boxpoints\":\"all\",\"hovertemplate\":\"<b>%{hovertext}</b><br><br>Continents=%{x}<br>Year=1997<br>Energy use (kg of oil equivalent per capita)=%{y}<extra></extra>\",\"hovertext\":[\"Afghanistan\",\"Bahrain\",\"Bangladesh\",\"Cambodia\",\"China\",\"India\",\"Indonesia\",\"Iraq\",\"Israel\",\"Japan\",\"Jordan\",\"Kuwait\",\"Lebanon\",\"Malaysia\",\"Mongolia\",\"Myanmar\",\"Nepal\",\"Oman\",\"Pakistan\",\"Philippines\",\"Saudi Arabia\",\"Singapore\",\"Sri Lanka\",\"Thailand\",\"Vietnam\",\"West Bank and Gaza\"],\"legendgroup\":\"Asia\",\"marker\":{\"color\":\"#636efa\"},\"name\":\"Asia\",\"notched\":false,\"offsetgroup\":\"Asia\",\"orientation\":\"v\",\"showlegend\":true,\"type\":\"box\",\"x\":[\"Asia\",\"Asia\",\"Asia\",\"Asia\",\"Asia\",\"Asia\",\"Asia\",\"Asia\",\"Asia\",\"Asia\",\"Asia\",\"Asia\",\"Asia\",\"Asia\",\"Asia\",\"Asia\",\"Asia\",\"Asia\",\"Asia\",\"Asia\",\"Asia\",\"Asia\",\"Asia\",\"Asia\",\"Asia\",\"Asia\"],\"x0\":\" \",\"xaxis\":\"x\",\"y\":[null,12122.0506027,135.210016124,265.896639422,871.6462695360001,399.052528907,690.7954914339999,1861.7960965,2881.12834133,4048.98200021,991.96787502,8764.51262442,1698.3102702999995,2063.52696529,951.851569598,263.20255292,316.822270368,3027.90856152,448.925191849,500.989771655,4354.65523263,5818.15092473,380.086721607,1164.94784692,335.170556166,null],\"y0\":\" \",\"yaxis\":\"y\"},{\"alignmentgroup\":\"True\",\"boxpoints\":\"all\",\"hovertemplate\":\"<b>%{hovertext}</b><br><br>Continents=%{x}<br>Year=1997<br>Energy use (kg of oil equivalent per capita)=%{y}<extra></extra>\",\"hovertext\":[\"Albania\",\"Austria\",\"Belgium\",\"Bosnia and Herzegovina\",\"Bulgaria\",\"Croatia\",\"Czech Republic\",\"Denmark\",\"Finland\",\"France\",\"Germany\",\"Greece\",\"Hungary\",\"Iceland\",\"Ireland\",\"Italy\",\"Montenegro\",\"Netherlands\",\"Norway\",\"Poland\",\"Portugal\",\"Romania\",\"Serbia\",\"Slovak Republic\",\"Slovenia\",\"Spain\",\"Sweden\",\"Switzerland\",\"Turkey\",\"United Kingdom\"],\"legendgroup\":\"Europe\",\"marker\":{\"color\":\"#EF553B\"},\"name\":\"Europe\",\"notched\":false,\"offsetgroup\":\"Europe\",\"orientation\":\"v\",\"showlegend\":true,\"type\":\"box\",\"x\":[\"Europe\",\"Europe\",\"Europe\",\"Europe\",\"Europe\",\"Europe\",\"Europe\",\"Europe\",\"Europe\",\"Europe\",\"Europe\",\"Europe\",\"Europe\",\"Europe\",\"Europe\",\"Europe\",\"Europe\",\"Europe\",\"Europe\",\"Europe\",\"Europe\",\"Europe\",\"Europe\",\"Europe\",\"Europe\",\"Europe\",\"Europe\",\"Europe\",\"Europe\",\"Europe\"],\"x0\":\" \",\"xaxis\":\"x\",\"y\":[384.594958328,3542.5214303,5579.51075728,712.9252777060001,2504.12268042,1704.81692913,4184.88468363,3848.1558436,6276.95169203,4049.35046526,4203.3573666,2282.13703466,2527.30162599,8584.10049866,3255.49845122,2834.40294607,null,4579.47478164,5477.88285412,2643.12353589,2083.48767635,1989.99418196,2299.90425855,3361.88402225,3310.40063325,2666.2640552,5672.0081772,3526.10543855,1165.81161631,3760.71236505],\"y0\":\" \",\"yaxis\":\"y\"},{\"alignmentgroup\":\"True\",\"boxpoints\":\"all\",\"hovertemplate\":\"<b>%{hovertext}</b><br><br>Continents=%{x}<br>Year=1997<br>Energy use (kg of oil equivalent per capita)=%{y}<extra></extra>\",\"hovertext\":[\"Algeria\",\"Angola\",\"Benin\",\"Botswana\",\"Burkina Faso\",\"Burundi\",\"Cameroon\",\"Central African Republic\",\"Chad\",\"Comoros\",\"Cote d'Ivoire\",\"Djibouti\",\"Equatorial Guinea\",\"Eritrea\",\"Ethiopia\",\"Gabon\",\"Ghana\",\"Guinea\",\"Guinea-Bissau\",\"Kenya\",\"Lesotho\",\"Liberia\",\"Libya\",\"Madagascar\",\"Malawi\",\"Mali\",\"Mauritania\",\"Mauritius\",\"Morocco\",\"Mozambique\",\"Namibia\",\"Niger\",\"Nigeria\",\"Rwanda\",\"Sao Tome and Principe\",\"Senegal\",\"Sierra Leone\",\"Somalia\",\"South Africa\",\"Sudan\",\"Swaziland\",\"Tanzania\",\"Togo\",\"Tunisia\",\"Uganda\",\"Zambia\",\"Zimbabwe\"],\"legendgroup\":\"Africa\",\"marker\":{\"color\":\"#00cc96\"},\"name\":\"Africa\",\"notched\":false,\"offsetgroup\":\"Africa\",\"orientation\":\"v\",\"showlegend\":true,\"type\":\"box\",\"x\":[\"Africa\",\"Africa\",\"Africa\",\"Africa\",\"Africa\",\"Africa\",\"Africa\",\"Africa\",\"Africa\",\"Africa\",\"Africa\",\"Africa\",\"Africa\",\"Africa\",\"Africa\",\"Africa\",\"Africa\",\"Africa\",\"Africa\",\"Africa\",\"Africa\",\"Africa\",\"Africa\",\"Africa\",\"Africa\",\"Africa\",\"Africa\",\"Africa\",\"Africa\",\"Africa\",\"Africa\",\"Africa\",\"Africa\",\"Africa\",\"Africa\",\"Africa\",\"Africa\",\"Africa\",\"Africa\",\"Africa\",\"Africa\",\"Africa\",\"Africa\",\"Africa\",\"Africa\",\"Africa\",\"Africa\"],\"x0\":\" \",\"xaxis\":\"x\",\"y\":[804.842705115,494.174484207,350.78972053,900.173527778,null,null,396.727156517,null,null,null,386.175169435,null,null,319.16492977400003,435.145404589,1236.01768782,398.339353834,null,null,441.007660811,null,null,2991.94395278,null,null,null,null,712.571976967,362.27042057,390.685096382,594.756148267,null,696.8847876410001,null,null,221.005820684,null,null,2655.26925959,392.294923579,null,357.261154316,384.078207642,679.079751272,null,617.209365016,804.5088922269998],\"y0\":\" \",\"yaxis\":\"y\"},{\"alignmentgroup\":\"True\",\"boxpoints\":\"all\",\"hovertemplate\":\"<b>%{hovertext}</b><br><br>Continents=%{x}<br>Year=1997<br>Energy use (kg of oil equivalent per capita)=%{y}<extra></extra>\",\"hovertext\":[\"Argentina\",\"Bolivia\",\"Brazil\",\"Canada\",\"Chile\",\"Colombia\",\"Costa Rica\",\"Cuba\",\"Dominican Republic\",\"Ecuador\",\"El Salvador\",\"Guatemala\",\"Haiti\",\"Honduras\",\"Jamaica\",\"Mexico\",\"Nicaragua\",\"Panama\",\"Paraguay\",\"Peru\",\"Puerto Rico\",\"Trinidad and Tobago\",\"United States\",\"Uruguay\"],\"legendgroup\":\"Americas\",\"marker\":{\"color\":\"#ab63fa\"},\"name\":\"Americas\",\"notched\":false,\"offsetgroup\":\"Americas\",\"orientation\":\"v\",\"showlegend\":true,\"type\":\"box\",\"x\":[\"Americas\",\"Americas\",\"Americas\",\"Americas\",\"Americas\",\"Americas\",\"Americas\",\"Americas\",\"Americas\",\"Americas\",\"Americas\",\"Americas\",\"Americas\",\"Americas\",\"Americas\",\"Americas\",\"Americas\",\"Americas\",\"Americas\",\"Americas\",\"Americas\",\"Americas\",\"Americas\",\"Americas\"],\"x0\":\" \",\"xaxis\":\"x\",\"y\":[1614.33824027,561.077061465,1061.83829204,7965.51932158,1558.78524634,709.8217022360001,647.0037811669999,1125.97333686,749.844735219,721.687588695,624.096762293,526.326033275,252.463093356,528.901564325,1333.59707253,1398.88398183,503.04461939,777.742373207,877.0448880460001,440.557973649,null,5437.91312128,7828.5810964,880.633650605],\"y0\":\" \",\"yaxis\":\"y\"},{\"alignmentgroup\":\"True\",\"boxpoints\":\"all\",\"hovertemplate\":\"<b>%{hovertext}</b><br><br>Continents=%{x}<br>Year=1997<br>Energy use (kg of oil equivalent per capita)=%{y}<extra></extra>\",\"hovertext\":[\"Australia\",\"New Zealand\"],\"legendgroup\":\"Oceania\",\"marker\":{\"color\":\"#FFA15A\"},\"name\":\"Oceania\",\"notched\":false,\"offsetgroup\":\"Oceania\",\"orientation\":\"v\",\"showlegend\":true,\"type\":\"box\",\"x\":[\"Oceania\",\"Oceania\"],\"x0\":\" \",\"xaxis\":\"x\",\"y\":[5469.5999892,4258.75677677],\"y0\":\" \",\"yaxis\":\"y\"}],\"name\":\"1997\"},{\"data\":[{\"alignmentgroup\":\"True\",\"boxpoints\":\"all\",\"hovertemplate\":\"<b>%{hovertext}</b><br><br>Continents=%{x}<br>Year=2002<br>Energy use (kg of oil equivalent per capita)=%{y}<extra></extra>\",\"hovertext\":[\"Afghanistan\",\"Bahrain\",\"Bangladesh\",\"Cambodia\",\"China\",\"India\",\"Indonesia\",\"Iraq\",\"Israel\",\"Japan\",\"Jordan\",\"Kuwait\",\"Lebanon\",\"Malaysia\",\"Mongolia\",\"Myanmar\",\"Nepal\",\"Oman\",\"Pakistan\",\"Philippines\",\"Saudi Arabia\",\"Singapore\",\"Sri Lanka\",\"Thailand\",\"Vietnam\",\"West Bank and Gaza\"],\"legendgroup\":\"Asia\",\"marker\":{\"color\":\"#636efa\"},\"name\":\"Asia\",\"notched\":false,\"offsetgroup\":\"Asia\",\"orientation\":\"v\",\"showlegend\":true,\"type\":\"box\",\"x\":[\"Asia\",\"Asia\",\"Asia\",\"Asia\",\"Asia\",\"Asia\",\"Asia\",\"Asia\",\"Asia\",\"Asia\",\"Asia\",\"Asia\",\"Asia\",\"Asia\",\"Asia\",\"Asia\",\"Asia\",\"Asia\",\"Asia\",\"Asia\",\"Asia\",\"Asia\",\"Asia\",\"Asia\",\"Asia\",\"Asia\"],\"x0\":\" \",\"xaxis\":\"x\",\"y\":[null,11704.3047293,149.933182829,314.97027594400004,978.61898313,423.580114419,760.140852043,1130.94271589,2862.7957382,4005.94409353,1024.4838209,10105.8321479,1484.22892653,2183.8734214,1058.16485595,266.385844866,345.37079196,3890.79215204,455.934635667,477.457211125,4907.82867485,5065.98450652,432.84856645,1282.58023503,420.446832131,null],\"y0\":\" \",\"yaxis\":\"y\"},{\"alignmentgroup\":\"True\",\"boxpoints\":\"all\",\"hovertemplate\":\"<b>%{hovertext}</b><br><br>Continents=%{x}<br>Year=2002<br>Energy use (kg of oil equivalent per capita)=%{y}<extra></extra>\",\"hovertext\":[\"Albania\",\"Austria\",\"Belgium\",\"Bosnia and Herzegovina\",\"Bulgaria\",\"Croatia\",\"Czech Republic\",\"Denmark\",\"Finland\",\"France\",\"Germany\",\"Greece\",\"Hungary\",\"Iceland\",\"Ireland\",\"Italy\",\"Montenegro\",\"Netherlands\",\"Norway\",\"Poland\",\"Portugal\",\"Romania\",\"Serbia\",\"Slovak Republic\",\"Slovenia\",\"Spain\",\"Sweden\",\"Switzerland\",\"Turkey\",\"United Kingdom\"],\"legendgroup\":\"Europe\",\"marker\":{\"color\":\"#EF553B\"},\"name\":\"Europe\",\"notched\":false,\"offsetgroup\":\"Europe\",\"orientation\":\"v\",\"showlegend\":true,\"type\":\"box\",\"x\":[\"Europe\",\"Europe\",\"Europe\",\"Europe\",\"Europe\",\"Europe\",\"Europe\",\"Europe\",\"Europe\",\"Europe\",\"Europe\",\"Europe\",\"Europe\",\"Europe\",\"Europe\",\"Europe\",\"Europe\",\"Europe\",\"Europe\",\"Europe\",\"Europe\",\"Europe\",\"Europe\",\"Europe\",\"Europe\",\"Europe\",\"Europe\",\"Europe\",\"Europe\",\"Europe\"],\"x0\":\" \",\"xaxis\":\"x\",\"y\":[645.080153785,3765.28296302,5461.40290348,1156.99672325,2401.37660851,1856.86891892,4163.45010589,3535.09801372,6705.43983596,4225.60695353,4108.40129887,2597.74828926,2520.15246577,10804.6417156,3661.32224061,3017.97165871,null,4687.98228043,5503.46451061,2314.20257992,2477.48974988,1755.13002556,2119.78208028,3483.86750611,3424.45287862,3107.86734112,5802.11010517,3553.18855698,1139.69490969,3685.8654787],\"y0\":\" \",\"yaxis\":\"y\"},{\"alignmentgroup\":\"True\",\"boxpoints\":\"all\",\"hovertemplate\":\"<b>%{hovertext}</b><br><br>Continents=%{x}<br>Year=2002<br>Energy use (kg of oil equivalent per capita)=%{y}<extra></extra>\",\"hovertext\":[\"Algeria\",\"Angola\",\"Benin\",\"Botswana\",\"Burkina Faso\",\"Burundi\",\"Cameroon\",\"Central African Republic\",\"Chad\",\"Comoros\",\"Cote d'Ivoire\",\"Djibouti\",\"Equatorial Guinea\",\"Eritrea\",\"Ethiopia\",\"Gabon\",\"Ghana\",\"Guinea\",\"Guinea-Bissau\",\"Kenya\",\"Lesotho\",\"Liberia\",\"Libya\",\"Madagascar\",\"Malawi\",\"Mali\",\"Mauritania\",\"Mauritius\",\"Morocco\",\"Mozambique\",\"Namibia\",\"Niger\",\"Nigeria\",\"Rwanda\",\"Sao Tome and Principe\",\"Senegal\",\"Sierra Leone\",\"Somalia\",\"South Africa\",\"Sudan\",\"Swaziland\",\"Tanzania\",\"Togo\",\"Tunisia\",\"Uganda\",\"Zambia\",\"Zimbabwe\"],\"legendgroup\":\"Africa\",\"marker\":{\"color\":\"#00cc96\"},\"name\":\"Africa\",\"notched\":false,\"offsetgroup\":\"Africa\",\"orientation\":\"v\",\"showlegend\":true,\"type\":\"box\",\"x\":[\"Africa\",\"Africa\",\"Africa\",\"Africa\",\"Africa\",\"Africa\",\"Africa\",\"Africa\",\"Africa\",\"Africa\",\"Africa\",\"Africa\",\"Africa\",\"Africa\",\"Africa\",\"Africa\",\"Africa\",\"Africa\",\"Africa\",\"Africa\",\"Africa\",\"Africa\",\"Africa\",\"Africa\",\"Africa\",\"Africa\",\"Africa\",\"Africa\",\"Africa\",\"Africa\",\"Africa\",\"Africa\",\"Africa\",\"Africa\",\"Africa\",\"Africa\",\"Africa\",\"Africa\",\"Africa\",\"Africa\",\"Africa\",\"Africa\",\"Africa\",\"Africa\",\"Africa\",\"Africa\",\"Africa\"],\"x0\":\" \",\"xaxis\":\"x\",\"y\":[904.456391853,515.4034564030001,305.04923703400004,1032.6780741,null,null,389.52261441,null,null,null,406.144021726,null,null,197.54986892,439.254909387,1229.36459426,317.525749335,null,null,440.968733004,null,null,3071.77483233,null,null,null,null,873.195801833,402.312789339,395.127686774,579.8782172790001,130.047629217,721.312209806,null,null,253.315356135,null,null,2421.00577767,411.137505242,null,416.002267994,424.034097572,801.489193653,null,598.548219754,772.6766193660001],\"y0\":\" \",\"yaxis\":\"y\"},{\"alignmentgroup\":\"True\",\"boxpoints\":\"all\",\"hovertemplate\":\"<b>%{hovertext}</b><br><br>Continents=%{x}<br>Year=2002<br>Energy use (kg of oil equivalent per capita)=%{y}<extra></extra>\",\"hovertext\":[\"Argentina\",\"Bolivia\",\"Brazil\",\"Canada\",\"Chile\",\"Colombia\",\"Costa Rica\",\"Cuba\",\"Dominican Republic\",\"Ecuador\",\"El Salvador\",\"Guatemala\",\"Haiti\",\"Honduras\",\"Jamaica\",\"Mexico\",\"Nicaragua\",\"Panama\",\"Paraguay\",\"Peru\",\"Puerto Rico\",\"Trinidad and Tobago\",\"United States\",\"Uruguay\"],\"legendgroup\":\"Americas\",\"marker\":{\"color\":\"#ab63fa\"},\"name\":\"Americas\",\"notched\":false,\"offsetgroup\":\"Americas\",\"orientation\":\"v\",\"showlegend\":true,\"type\":\"box\",\"x\":[\"Americas\",\"Americas\",\"Americas\",\"Americas\",\"Americas\",\"Americas\",\"Americas\",\"Americas\",\"Americas\",\"Americas\",\"Americas\",\"Americas\",\"Americas\",\"Americas\",\"Americas\",\"Americas\",\"Americas\",\"Americas\",\"Americas\",\"Americas\",\"Americas\",\"Americas\",\"Americas\",\"Americas\"],\"x0\":\" \",\"xaxis\":\"x\",\"y\":[1502.22488095,528.760849998,1081.26747985,7920.11022894,1644.79154564,606.266720641,748.21348058,1053.28051042,819.797049144,739.4547575380002,720.3532811819998,590.478746775,261.374331488,516.4041365740001,1371.65658542,1412.86939872,508.740585366,834.670915895,705.433761481,446.340827194,null,9356.78097414,7843.34484914,762.6981432010001],\"y0\":\" \",\"yaxis\":\"y\"},{\"alignmentgroup\":\"True\",\"boxpoints\":\"all\",\"hovertemplate\":\"<b>%{hovertext}</b><br><br>Continents=%{x}<br>Year=2002<br>Energy use (kg of oil equivalent per capita)=%{y}<extra></extra>\",\"hovertext\":[\"Australia\",\"New Zealand\"],\"legendgroup\":\"Oceania\",\"marker\":{\"color\":\"#FFA15A\"},\"name\":\"Oceania\",\"notched\":false,\"offsetgroup\":\"Oceania\",\"orientation\":\"v\",\"showlegend\":true,\"type\":\"box\",\"x\":[\"Oceania\",\"Oceania\"],\"x0\":\" \",\"xaxis\":\"x\",\"y\":[5569.6409925,4337.38052425],\"y0\":\" \",\"yaxis\":\"y\"}],\"name\":\"2002\"},{\"data\":[{\"alignmentgroup\":\"True\",\"boxpoints\":\"all\",\"hovertemplate\":\"<b>%{hovertext}</b><br><br>Continents=%{x}<br>Year=2007<br>Energy use (kg of oil equivalent per capita)=%{y}<extra></extra>\",\"hovertext\":[\"Afghanistan\",\"Bahrain\",\"Bangladesh\",\"Cambodia\",\"China\",\"India\",\"Indonesia\",\"Iraq\",\"Israel\",\"Japan\",\"Jordan\",\"Kuwait\",\"Lebanon\",\"Malaysia\",\"Mongolia\",\"Myanmar\",\"Nepal\",\"Oman\",\"Pakistan\",\"Philippines\",\"Saudi Arabia\",\"Singapore\",\"Sri Lanka\",\"Thailand\",\"Vietnam\",\"West Bank and Gaza\"],\"legendgroup\":\"Asia\",\"marker\":{\"color\":\"#636efa\"},\"name\":\"Asia\",\"notched\":false,\"offsetgroup\":\"Asia\",\"orientation\":\"v\",\"showlegend\":true,\"type\":\"box\",\"x\":[\"Asia\",\"Asia\",\"Asia\",\"Asia\",\"Asia\",\"Asia\",\"Asia\",\"Asia\",\"Asia\",\"Asia\",\"Asia\",\"Asia\",\"Asia\",\"Asia\",\"Asia\",\"Asia\",\"Asia\",\"Asia\",\"Asia\",\"Asia\",\"Asia\",\"Asia\",\"Asia\",\"Asia\",\"Asia\",\"Asia\"],\"x0\":\" \",\"xaxis\":\"x\",\"y\":[null,11291.126355,173.580998621,253.343288148,1550.53027085,486.292374786,788.5836582439999,892.39580238,2898.15336834,4024.99795314,1251.68193903,10395.1176066,1034.92218437,2742.50027319,1376.98860218,307.913041122,357.131793555,6881.62081928,523.2672101530001,434.402352876,5379.69097885,4677.20430572,470.83709579,1585.96595222,540.08195349,null],\"y0\":\" \",\"yaxis\":\"y\"},{\"alignmentgroup\":\"True\",\"boxpoints\":\"all\",\"hovertemplate\":\"<b>%{hovertext}</b><br><br>Continents=%{x}<br>Year=2007<br>Energy use (kg of oil equivalent per capita)=%{y}<extra></extra>\",\"hovertext\":[\"Albania\",\"Austria\",\"Belgium\",\"Bosnia and Herzegovina\",\"Bulgaria\",\"Croatia\",\"Czech Republic\",\"Denmark\",\"Finland\",\"France\",\"Germany\",\"Greece\",\"Hungary\",\"Iceland\",\"Ireland\",\"Italy\",\"Montenegro\",\"Netherlands\",\"Norway\",\"Poland\",\"Portugal\",\"Romania\",\"Serbia\",\"Slovak Republic\",\"Slovenia\",\"Spain\",\"Sweden\",\"Switzerland\",\"Turkey\",\"United Kingdom\"],\"legendgroup\":\"Europe\",\"marker\":{\"color\":\"#EF553B\"},\"name\":\"Europe\",\"notched\":false,\"offsetgroup\":\"Europe\",\"orientation\":\"v\",\"showlegend\":true,\"type\":\"box\",\"x\":[\"Europe\",\"Europe\",\"Europe\",\"Europe\",\"Europe\",\"Europe\",\"Europe\",\"Europe\",\"Europe\",\"Europe\",\"Europe\",\"Europe\",\"Europe\",\"Europe\",\"Europe\",\"Europe\",\"Europe\",\"Europe\",\"Europe\",\"Europe\",\"Europe\",\"Europe\",\"Europe\",\"Europe\",\"Europe\",\"Europe\",\"Europe\",\"Europe\",\"Europe\",\"Europe\"],\"x0\":\" \",\"xaxis\":\"x\",\"y\":[679.861765101,4029.62695258,5389.28164733,1381.12205494,2666.11144524,2102.14585212,4468.96035161,3622.59683256,6967.21323874,4120.3058212,3985.80810152,2734.92011068,2658.03637311,14746.0313385,3416.03094562,3062.36054739,1927.97889182,4843.79608802,5864.97593092,2526.9949602,2402.47799385,1904.09688616,2248.15503566,3320.45472221,3627.52350948,3180.03341956,5472.13539173,3410.15494794,1438.53526923,3441.68876583],\"y0\":\" \",\"yaxis\":\"y\"},{\"alignmentgroup\":\"True\",\"boxpoints\":\"all\",\"hovertemplate\":\"<b>%{hovertext}</b><br><br>Continents=%{x}<br>Year=2007<br>Energy use (kg of oil equivalent per capita)=%{y}<extra></extra>\",\"hovertext\":[\"Algeria\",\"Angola\",\"Benin\",\"Botswana\",\"Burkina Faso\",\"Burundi\",\"Cameroon\",\"Central African Republic\",\"Chad\",\"Comoros\",\"Cote d'Ivoire\",\"Djibouti\",\"Equatorial Guinea\",\"Eritrea\",\"Ethiopia\",\"Gabon\",\"Ghana\",\"Guinea\",\"Guinea-Bissau\",\"Kenya\",\"Lesotho\",\"Liberia\",\"Libya\",\"Madagascar\",\"Malawi\",\"Mali\",\"Mauritania\",\"Mauritius\",\"Morocco\",\"Mozambique\",\"Namibia\",\"Niger\",\"Nigeria\",\"Rwanda\",\"Sao Tome and Principe\",\"Senegal\",\"Sierra Leone\",\"Somalia\",\"South Africa\",\"Sudan\",\"Swaziland\",\"Tanzania\",\"Togo\",\"Tunisia\",\"Uganda\",\"Zambia\",\"Zimbabwe\"],\"legendgroup\":\"Africa\",\"marker\":{\"color\":\"#00cc96\"},\"name\":\"Africa\",\"notched\":false,\"offsetgroup\":\"Africa\",\"orientation\":\"v\",\"showlegend\":true,\"type\":\"box\",\"x\":[\"Africa\",\"Africa\",\"Africa\",\"Africa\",\"Africa\",\"Africa\",\"Africa\",\"Africa\",\"Africa\",\"Africa\",\"Africa\",\"Africa\",\"Africa\",\"Africa\",\"Africa\",\"Africa\",\"Africa\",\"Africa\",\"Africa\",\"Africa\",\"Africa\",\"Africa\",\"Africa\",\"Africa\",\"Africa\",\"Africa\",\"Africa\",\"Africa\",\"Africa\",\"Africa\",\"Africa\",\"Africa\",\"Africa\",\"Africa\",\"Africa\",\"Africa\",\"Africa\",\"Africa\",\"Africa\",\"Africa\",\"Africa\",\"Africa\",\"Africa\",\"Africa\",\"Africa\",\"Africa\",\"Africa\"],\"x0\":\" \",\"xaxis\":\"x\",\"y\":[1075.19412704,561.5501055130001,368.216084341,1028.07041536,null,null,332.30332161,null,null,63.1348128438,539.7271851830001,178.904528787,2641.94245101,162.700034655,442.86665148300006,1281.68189093,278.760989471,null,62.1995597581,462.22025237800005,9.71541007212,null,2725.88792504,null,null,null,null,1007.57484088,487.448713086,407.278749651,659.366428344,128.026173022,747.1012487439999,null,274.890043982,252.409846662,null,null,2805.48565552,366.495542,372.735499664,442.62215764,417.118049767,883.981281357,null,588.018958956,725.6810488469998],\"y0\":\" \",\"yaxis\":\"y\"},{\"alignmentgroup\":\"True\",\"boxpoints\":\"all\",\"hovertemplate\":\"<b>%{hovertext}</b><br><br>Continents=%{x}<br>Year=2007<br>Energy use (kg of oil equivalent per capita)=%{y}<extra></extra>\",\"hovertext\":[\"Argentina\",\"Bolivia\",\"Brazil\",\"Canada\",\"Chile\",\"Colombia\",\"Costa Rica\",\"Cuba\",\"Dominican Republic\",\"Ecuador\",\"El Salvador\",\"Guatemala\",\"Haiti\",\"Honduras\",\"Jamaica\",\"Mexico\",\"Nicaragua\",\"Panama\",\"Paraguay\",\"Peru\",\"Puerto Rico\",\"Trinidad and Tobago\",\"United States\",\"Uruguay\"],\"legendgroup\":\"Americas\",\"marker\":{\"color\":\"#ab63fa\"},\"name\":\"Americas\",\"notched\":false,\"offsetgroup\":\"Americas\",\"orientation\":\"v\",\"showlegend\":true,\"type\":\"box\",\"x\":[\"Americas\",\"Americas\",\"Americas\",\"Americas\",\"Americas\",\"Americas\",\"Americas\",\"Americas\",\"Americas\",\"Americas\",\"Americas\",\"Americas\",\"Americas\",\"Americas\",\"Americas\",\"Americas\",\"Americas\",\"Americas\",\"Americas\",\"Americas\",\"Americas\",\"Americas\",\"Americas\",\"Americas\"],\"x0\":\" \",\"xaxis\":\"x\",\"y\":[1846.93675639,561.052703379,1221.36231051,8130.58019344,1860.10017433,637.510761494,1031.80869969,904.662628457,763.408932512,833.203582927,748.1199930380002,616.892076168,384.513775199,657.398639731,1578.42891649,1551.28978352,521.961949752,879.523836391,708.7828687130002,506.633143848,null,14608.0098682,7758.16570028,947.838610674],\"y0\":\" \",\"yaxis\":\"y\"},{\"alignmentgroup\":\"True\",\"boxpoints\":\"all\",\"hovertemplate\":\"<b>%{hovertext}</b><br><br>Continents=%{x}<br>Year=2007<br>Energy use (kg of oil equivalent per capita)=%{y}<extra></extra>\",\"hovertext\":[\"Australia\",\"New Zealand\"],\"legendgroup\":\"Oceania\",\"marker\":{\"color\":\"#FFA15A\"},\"name\":\"Oceania\",\"notched\":false,\"offsetgroup\":\"Oceania\",\"orientation\":\"v\",\"showlegend\":true,\"type\":\"box\",\"x\":[\"Oceania\",\"Oceania\"],\"x0\":\" \",\"xaxis\":\"x\",\"y\":[5868.34709712,4054.4950045],\"y0\":\" \",\"yaxis\":\"y\"}],\"name\":\"2007\"}]);\n",
       "                        }).then(function(){\n",
       "                            \n",
       "var gd = document.getElementById('75aca3cc-d871-4620-ac3a-cec87ea3b27a');\n",
       "var x = new MutationObserver(function (mutations, observer) {{\n",
       "        var display = window.getComputedStyle(gd).display;\n",
       "        if (!display || display === 'none') {{\n",
       "            console.log([gd, 'removed!']);\n",
       "            Plotly.purge(gd);\n",
       "            observer.disconnect();\n",
       "        }}\n",
       "}});\n",
       "\n",
       "// Listen for the removal of the full notebook cells\n",
       "var notebookContainer = gd.closest('#notebook-container');\n",
       "if (notebookContainer) {{\n",
       "    x.observe(notebookContainer, {childList: true});\n",
       "}}\n",
       "\n",
       "// Listen for the clearing of the current output cell\n",
       "var outputEl = gd.closest('.output');\n",
       "if (outputEl) {{\n",
       "    x.observe(outputEl, {childList: true});\n",
       "}}\n",
       "\n",
       "                        })                };                });            </script>        </div>"
      ]
     },
     "metadata": {},
     "output_type": "display_data"
    }
   ],
   "source": [
    "clean_continent_energy = gapminder_df.loc[:,['Energy use (kg of oil equivalent per capita)',\n",
    "                                       'continent','Year','Country Name']]\n",
    "clean_continent_energy = clean_continent_energy.dropna(how='all', \n",
    "                                 subset=(['Energy use (kg of oil equivalent per capita)',\n",
    "                                        'continent', 'Year', 'Country Name']))\n",
    "clean_continent_energy.dropna(subset=(['continent']), inplace=True)\n",
    "\n",
    "fig = px.box(data_frame=clean_continent_energy, \n",
    "           x='continent',\n",
    "           y='Energy use (kg of oil equivalent per capita)',\n",
    "           color='continent',\n",
    "           title=\"Energy use (kg of oil equivalent per capita) vs Continents\",\n",
    "           labels={'continent':'Continents'},\n",
    "           animation_frame='Year', hover_name='Country Name', \n",
    "           points=\"all\", log_y=True)\n",
    "fig.update_yaxes(range=[0.9,4.5])\n",
    "fig.show()"
   ]
  },
  {
   "cell_type": "markdown",
   "id": "bd58a015",
   "metadata": {},
   "source": [
    "To show the statistical relation between continent and Energy use we will use [One-Way ANOVA](https://libguides.library.kent.edu/SPSS/OneWayANOVA) for each year. "
   ]
  },
  {
   "cell_type": "code",
   "execution_count": 21,
   "id": "0790fd7a",
   "metadata": {},
   "outputs": [
    {
     "name": "stdout",
     "output_type": "stream",
     "text": [
      "One-way ANOVA statistics: \n",
      "Year\t:\tF value \t:\tp-value\n",
      "1962            91.355                3.589e-26\n",
      "1967             103.7                5.917e-28\n",
      "1972            15.173                5.654e-10\n",
      "1977            17.066                5.407e-11\n",
      "1982             15.45                3.985e-10\n",
      "1987            16.772                7.409e-11\n",
      "1992            15.344                3.937e-10\n",
      "1997            14.004                2.093e-09\n",
      "2002            12.757                1.105e-08\n",
      "2007            9.7116                7.594e-07\n"
     ]
    }
   ],
   "source": [
    "# As Africa has NaN values for year 1962 and 1967.\n",
    "# I have used .fillna(0) for Africa instead of .dropna()\n",
    "\n",
    "print(f'One-way ANOVA statistics: \\nYear\\t:\\tF value \\t:\\tp-value')\n",
    "\n",
    "def one_way_anova(year):\n",
    "    Asia = gapminder_df.loc[(gapminder_df['continent']==\"Asia\" ) \n",
    "                            & (gapminder_df['Year']==year),\n",
    "                           ['Energy use (kg of oil equivalent per capita)']].dropna()\n",
    "    Europe = gapminder_df.loc[(gapminder_df['continent']==\"Europe\" ) \n",
    "                              & (gapminder_df['Year']==year),\n",
    "                             ['Energy use (kg of oil equivalent per capita)']].dropna()\n",
    "    Africa = gapminder_df.loc[(gapminder_df['continent']==\"Africa\" ) \n",
    "                              & (gapminder_df['Year']==year),\n",
    "                             ['Energy use (kg of oil equivalent per capita)']].fillna(0)\n",
    "    Americas = gapminder_df.loc[(gapminder_df['continent']==\"Americas\" ) \n",
    "                                & (gapminder_df['Year']==year),\n",
    "                               ['Energy use (kg of oil equivalent per capita)']].dropna()\n",
    "    Oceania = gapminder_df.loc[(gapminder_df['continent']==\"Oceania\" ) \n",
    "                               & (gapminder_df['Year']==year),\n",
    "                              ['Energy use (kg of oil equivalent per capita)']].dropna()\n",
    "    f_value, p_value = stats.f_oneway(Asia, Europe, Africa, Americas, Oceania)\n",
    "    return (f'{year}{float(f_value):18.5g}{float(p_value):25.4g}')\n",
    "\n",
    "print(*list(map(one_way_anova, years)), sep='\\n')\n"
   ]
  },
  {
   "cell_type": "markdown",
   "id": "5de05f04",
   "metadata": {},
   "source": [
    "As p-value<0.05 for all the years after doing one-way ANOVA it is suggested to do Tukey's or Bonferroni's test. We will conduct Tukey's test."
   ]
  },
  {
   "cell_type": "code",
   "execution_count": 22,
   "id": "2be834b3",
   "metadata": {},
   "outputs": [
    {
     "name": "stdout",
     "output_type": "stream",
     "text": [
      "\n",
      " Stats of Tukey's test 1962 : \n",
      "\n",
      "      Multiple Comparison of Means - Tukey HSD, FWER=0.05      \n",
      "===============================================================\n",
      " group1   group2  meandiff  p-adj    lower      upper    reject\n",
      "---------------------------------------------------------------\n",
      "Americas    Asia  -4109.321 0.0071 -7214.7883 -1003.8536   True\n",
      "Americas  Europe -3326.1493  0.001 -5211.0965 -1441.2021   True\n",
      "Americas Oceania -2630.8551 0.0403 -5166.4586   -95.2516   True\n",
      "    Asia  Europe   783.1717 0.8169 -1818.3026   3384.646  False\n",
      "    Asia Oceania  1478.4658 0.5496 -1627.0015  4583.9332  False\n",
      "  Europe Oceania   695.2942 0.7133  -1189.653  2580.2414  False\n",
      "---------------------------------------------------------------\n",
      "\n",
      " Stats of Tukey's test 1967 : \n",
      "\n",
      "      Multiple Comparison of Means - Tukey HSD, FWER=0.05      \n",
      "===============================================================\n",
      " group1   group2  meandiff  p-adj    lower      upper    reject\n",
      "---------------------------------------------------------------\n",
      "Americas    Asia -4463.0064 0.0091 -7948.9079  -977.1049   True\n",
      "Americas  Europe -4005.3293  0.001 -6116.1475 -1894.5111   True\n",
      "Americas Oceania -3242.8054 0.0218  -6089.032  -396.5787   True\n",
      "    Asia  Europe    457.677    0.9 -2458.8374  3374.1915  False\n",
      "    Asia Oceania   1220.201  0.744 -2265.7005  4706.1025  False\n",
      "  Europe Oceania   762.5239  0.727 -1348.2942  2873.3421  False\n",
      "---------------------------------------------------------------\n",
      "\n",
      " Stats of Tukey's test 1972 : \n",
      "\n",
      "     Multiple Comparison of Means - Tukey HSD, FWER=0.05      \n",
      "==============================================================\n",
      " group1   group2   meandiff p-adj    lower      upper   reject\n",
      "--------------------------------------------------------------\n",
      "  Africa Americas  754.9778 0.4816  -532.9432 2042.8988  False\n",
      "  Africa     Asia  569.5915  0.715  -732.5611 1871.7441  False\n",
      "  Africa   Europe 2228.5272  0.001   966.0435  3491.011   True\n",
      "  Africa  Oceania 2701.9119 0.1363  -487.6975 5891.5214  False\n",
      "Americas     Asia -185.3863    0.9 -1473.3073 1102.5347  False\n",
      "Americas   Europe 1473.5494 0.0123   225.7496 2721.3493   True\n",
      "Americas  Oceania 1946.9341 0.4392 -1236.8918   5130.76  False\n",
      "    Asia   Europe 1658.9357 0.0038   396.4519 2921.4195   True\n",
      "    Asia  Oceania 2132.3204 0.3459  -1057.289 5321.9298  False\n",
      "  Europe  Oceania  473.3847    0.9 -2700.2366  3647.006  False\n",
      "--------------------------------------------------------------\n",
      "\n",
      " Stats of Tukey's test 1977 : \n",
      "\n",
      "     Multiple Comparison of Means - Tukey HSD, FWER=0.05      \n",
      "==============================================================\n",
      " group1   group2   meandiff p-adj    lower      upper   reject\n",
      "--------------------------------------------------------------\n",
      "  Africa Americas  789.2095 0.4888  -567.1592 2145.5781  False\n",
      "  Africa     Asia  660.4463  0.646  -710.9103 2031.8028  False\n",
      "  Africa   Europe 2491.8003  0.001  1162.2208 3821.3799   True\n",
      "  Africa  Oceania 3193.4833 0.0706  -165.6405 6552.6072  False\n",
      "Americas     Asia -128.7632    0.9 -1485.1318 1227.6054  False\n",
      "Americas   Europe 1702.5909 0.0045   388.4757 3016.7061   True\n",
      "Americas  Oceania 2404.2739 0.2762  -948.7591 5757.3068  False\n",
      "    Asia   Europe 1831.3541 0.0021   501.7746 3160.9336   True\n",
      "    Asia  Oceania 2533.0371 0.2294  -826.0868 5892.1609  False\n",
      "  Europe  Oceania   701.683    0.9  -2640.603  4043.969  False\n",
      "--------------------------------------------------------------\n",
      "\n",
      " Stats of Tukey's test 1982 : \n",
      "\n",
      "     Multiple Comparison of Means - Tukey HSD, FWER=0.05      \n",
      "==============================================================\n",
      " group1   group2   meandiff p-adj    lower      upper   reject\n",
      "--------------------------------------------------------------\n",
      "  Africa Americas  701.0251 0.6197  -705.1121 2107.1623  False\n",
      "  Africa     Asia  884.0262 0.4223     -538.0 2306.0525  False\n",
      "  Africa   Europe 2478.4819  0.001  1100.7545 3856.2093   True\n",
      "  Africa  Oceania  3174.581 0.0965  -340.7619  6689.924  False\n",
      "Americas     Asia  183.0012    0.9 -1239.0251 1605.0274  False\n",
      "Americas   Europe 1777.4568 0.0048   399.7294 3155.1843   True\n",
      "Americas  Oceania 2473.5559 0.2947  -1041.787 5988.8989  False\n",
      "    Asia   Europe 1594.4557 0.0166   200.5153  2988.396   True\n",
      "    Asia  Oceania 2290.5548 0.3749 -1231.1739 5812.2834  False\n",
      "  Europe  Oceania  696.0991    0.9 -2807.9767 4200.1749  False\n",
      "--------------------------------------------------------------\n",
      "\n",
      " Stats of Tukey's test 1987 : \n",
      "\n",
      "     Multiple Comparison of Means - Tukey HSD, FWER=0.05      \n",
      "==============================================================\n",
      " group1   group2   meandiff p-adj    lower      upper   reject\n",
      "--------------------------------------------------------------\n",
      "  Africa Americas  743.5889 0.6334  -774.3929 2261.5707  False\n",
      "  Africa     Asia 1057.2959 0.3048  -460.6859 2575.2776  False\n",
      "  Africa   Europe 2856.5161  0.001  1369.2038 4343.8284   True\n",
      "  Africa  Oceania 3376.1017 0.1053  -418.8527 7171.0561  False\n",
      "Americas     Asia   313.707    0.9 -1204.2748 1831.6887  False\n",
      "Americas   Europe 2112.9272 0.0014   625.6149 3600.2395   True\n",
      "Americas  Oceania 2632.5128 0.3088 -1162.4416 6427.4672  False\n",
      "    Asia   Europe 1799.2202 0.0096   311.9079 3286.5325   True\n",
      "    Asia  Oceania 2318.8059 0.4403 -1476.1485 6113.7603  False\n",
      "  Europe  Oceania  519.5857    0.9 -3263.2054 4302.3767  False\n",
      "--------------------------------------------------------------\n",
      "\n",
      " Stats of Tukey's test 1992 : \n",
      "\n",
      "     Multiple Comparison of Means - Tukey HSD, FWER=0.05      \n",
      "==============================================================\n",
      " group1   group2   meandiff p-adj    lower      upper   reject\n",
      "--------------------------------------------------------------\n",
      "  Africa Americas  866.3132 0.4535  -568.7126 2301.3391  False\n",
      "  Africa     Asia 1116.0157 0.2131  -335.8973 2567.9288  False\n",
      "  Africa   Europe 2510.4339  0.001  1154.9296 3865.9383   True\n",
      "  Africa  Oceania 3691.4838 0.0461    41.6767 7341.2908   True\n",
      "Americas     Asia  249.7025    0.9 -1231.4645 1730.8695  False\n",
      "Americas   Europe 1644.1207 0.0117   257.3273 3030.9142   True\n",
      "Americas  Oceania 2825.1705 0.2098  -836.3723 6486.7133  False\n",
      "    Asia   Europe 1394.4182 0.0526    -9.8426  2798.679  False\n",
      "    Asia  Oceania  2575.468 0.2976 -1092.7261 6243.6621  False\n",
      "  Europe  Oceania 1181.0498  0.891 -2450.0641 4812.1637  False\n",
      "--------------------------------------------------------------\n",
      "\n",
      " Stats of Tukey's test 1997 : \n",
      "\n",
      "     Multiple Comparison of Means - Tukey HSD, FWER=0.05      \n",
      "==============================================================\n",
      " group1   group2   meandiff p-adj    lower      upper   reject\n",
      "--------------------------------------------------------------\n",
      "  Africa Americas   936.743 0.5084  -704.8994 2578.3853  False\n",
      "  Africa     Asia 1544.0044 0.0706   -79.7273  3167.736  False\n",
      "  Africa   Europe  2693.301  0.001  1142.6298 4243.9722   True\n",
      "  Africa  Oceania 4143.2833 0.0528   -32.0267 8318.5933  False\n",
      "Americas     Asia  607.2614 0.8272 -1050.6879 2265.2107  False\n",
      "Americas   Europe  1756.558 0.0222   170.0926 3343.0234   True\n",
      "Americas  Oceania 3206.5403 0.2169  -982.1952 7395.2758  False\n",
      "    Asia   Europe 1149.2966 0.2562  -418.6279 2717.2212  False\n",
      "    Asia  Oceania 2599.2789 0.4237 -1582.4695 6781.0274  False\n",
      "  Europe  Oceania 1449.9823 0.8541 -2703.9431 5603.9077  False\n",
      "--------------------------------------------------------------\n",
      "\n",
      " Stats of Tukey's test 2002 : \n",
      "\n",
      "     Multiple Comparison of Means - Tukey HSD, FWER=0.05      \n",
      "==============================================================\n",
      " group1   group2   meandiff p-adj    lower      upper   reject\n",
      "--------------------------------------------------------------\n",
      "  Africa Americas 1115.4069  0.409   -653.805 2884.6187  False\n",
      "  Africa     Asia   1612.62 0.0859  -136.9249  3362.165  False\n",
      "  Africa   Europe 2865.6325  0.001  1196.3568 4534.9082   True\n",
      "  Africa  Oceania  4243.904 0.0783  -291.4348 8779.2428  False\n",
      "Americas     Asia  497.2132    0.9 -1306.2687  2300.695  False\n",
      "Americas   Europe 1750.2256 0.0451    24.5024 3475.9488   True\n",
      "Americas  Oceania 3128.4971   0.32   -1427.92 7684.9143  False\n",
      "    Asia   Europe 1253.0125 0.2542  -452.5424 2958.5674  False\n",
      "    Asia  Oceania  2631.284 0.4961 -1917.5328 7180.1007  False\n",
      "  Europe  Oceania 1378.2715    0.9   -3140.28  5896.823  False\n",
      "--------------------------------------------------------------\n",
      "\n",
      " Stats of Tukey's test 2007 : \n",
      "\n",
      "     Multiple Comparison of Means - Tukey HSD, FWER=0.05      \n",
      "==============================================================\n",
      " group1   group2   meandiff p-adj    lower      upper   reject\n",
      "--------------------------------------------------------------\n",
      "  Africa Americas 1451.3175 0.2222  -454.3984 3357.0335  False\n",
      "  Africa     Asia  1822.921 0.0626   -59.2535 3705.0955  False\n",
      "  Africa   Europe 3030.9711  0.001   1261.116 4800.8263   True\n",
      "  Africa  Oceania 4271.0783 0.1466  -838.0534 9380.2101  False\n",
      "Americas     Asia  371.6035    0.9 -1675.6161 2418.8231  False\n",
      "Americas   Europe 1579.6536 0.1683  -364.8038  3524.111  False\n",
      "Americas  Oceania 2819.7608 0.5492  -2352.449 7991.9706  False\n",
      "    Asia   Europe 1208.0501 0.4129  -713.3406 3129.4408  False\n",
      "    Asia  Oceania 2448.1573   0.66  -2715.425 7611.7396  False\n",
      "  Europe  Oceania 1240.1072    0.9 -3883.6013 6363.8157  False\n",
      "--------------------------------------------------------------\n"
     ]
    },
    {
     "data": {
      "text/plain": [
       "[]"
      ]
     },
     "execution_count": 22,
     "metadata": {},
     "output_type": "execute_result"
    }
   ],
   "source": [
    "def tukey_test(year):\n",
    "    gapmind_tukey = gapminder_df.loc[gapminder_df['Year']==year,\n",
    "                                  ['Energy use (kg of oil equivalent per capita)', \n",
    "                                   'continent']].dropna()\n",
    "    tukey = pairwise_tukeyhsd(endog=gapmind_tukey['Energy use (kg of oil equivalent per capita)'],\n",
    "                              groups=gapmind_tukey['continent'],\n",
    "                              alpha=0.05)\n",
    "    print(f\"\\n Stats of Tukey's test {year} : \\n\")\n",
    "    print(tukey)\n",
    "list(filter(tukey_test, years))"
   ]
  },
  {
   "cell_type": "markdown",
   "id": "55d0b85b",
   "metadata": {},
   "source": [
    "We can see that there are many cases where there is no statistically significant relationship between countries each year.   \n",
    "To help read the data, if the `p-adj` is less than 0.05 we reject the null hypothesis that there is no statistically relationship, meaning that relationship between those countries is significant and if `p-adj`>0.05, it shows that the relationship between those countries is not significant.   \n",
    "If the `reject` is `True`, it means that relationship is statistically significant.  \n",
    "We can note that `Africa` is not there in `1962` and `1967` as there is no data for `Africa` in those years. This is also visible in the plots above."
   ]
  },
  {
   "cell_type": "markdown",
   "id": "67301990",
   "metadata": {},
   "source": [
    "**Q7: Is there a significant difference between `Europe` and `Asia` with respect to `'Imports of goods and services (% of GDP)'` in the years after `1990`? (Stats test needed)**   \n",
    "For this we will use [Independent Samples t-Test ](https://libguides.library.kent.edu/SPSS/IndependentTTest)"
   ]
  },
  {
   "cell_type": "code",
   "execution_count": 23,
   "id": "bbc17538",
   "metadata": {},
   "outputs": [
    {
     "name": "stdout",
     "output_type": "stream",
     "text": [
      "Independent samples t-test statistics: \n",
      "Year\t:\tt value \t:\tp-value\n",
      "1992            1.071                   0.2899\n",
      "1997            1.279                   0.2066\n",
      "2002           0.5734                   0.5687\n",
      "2007           0.0562                   0.9554\n"
     ]
    }
   ],
   "source": [
    "print(f'Independent samples t-test statistics: \\nYear\\t:\\tt value \\t:\\tp-value')\n",
    "\n",
    "def t_test(y):\n",
    "    Asia = gapminder_df.loc[(gapminder_df['continent']==\"Asia\" ) \n",
    "                            & (gapminder_df['Year']==y),\n",
    "                           ['Imports of goods and services (% of GDP)']].dropna()\n",
    "    Europe = gapminder_df.loc[(gapminder_df['continent']==\"Europe\" ) \n",
    "                              & (gapminder_df['Year']==y),\n",
    "                             ['Imports of goods and services (% of GDP)']].dropna()\n",
    "    t_value, p_value = stats.ttest_ind(Asia, Europe)\n",
    "    return (f'{y}{float(t_value):17.4g}{float(p_value) :25.4g}')\n",
    "\n",
    "print(*list(map(t_test,years[6:])), sep='\\n')"
   ]
  },
  {
   "cell_type": "markdown",
   "id": "0dc13b13",
   "metadata": {},
   "source": [
    "As we can see in all the years `p_value`> 0.05, this means that there is no significant difference between `Europe` and `Asia` with respect to `'Imports of goods and services (% of GDP)'` in the years after `1990`."
   ]
  },
  {
   "cell_type": "markdown",
   "id": "495671be",
   "metadata": {},
   "source": [
    "**Q8: What is the country (or countries) that has the highest `'Population density (people per sq. km of land area)'` across all years? (i.e., which country has the highest average ranking in this category across each time point in the dataset?)**"
   ]
  },
  {
   "cell_type": "code",
   "execution_count": 24,
   "id": "5cb9580e",
   "metadata": {},
   "outputs": [
    {
     "data": {
      "text/html": [
       "<div>\n",
       "<style scoped>\n",
       "    .dataframe tbody tr th:only-of-type {\n",
       "        vertical-align: middle;\n",
       "    }\n",
       "\n",
       "    .dataframe tbody tr th {\n",
       "        vertical-align: top;\n",
       "    }\n",
       "\n",
       "    .dataframe thead th {\n",
       "        text-align: right;\n",
       "    }\n",
       "</style>\n",
       "<table border=\"1\" class=\"dataframe\">\n",
       "  <thead>\n",
       "    <tr style=\"text-align: right;\">\n",
       "      <th></th>\n",
       "      <th>average population density ranking</th>\n",
       "    </tr>\n",
       "    <tr>\n",
       "      <th>Country Name</th>\n",
       "      <th></th>\n",
       "    </tr>\n",
       "  </thead>\n",
       "  <tbody>\n",
       "    <tr>\n",
       "      <th>Macao SAR, China</th>\n",
       "      <td>1.5</td>\n",
       "    </tr>\n",
       "    <tr>\n",
       "      <th>Monaco</th>\n",
       "      <td>1.5</td>\n",
       "    </tr>\n",
       "    <tr>\n",
       "      <th>Hong Kong SAR, China</th>\n",
       "      <td>3.1</td>\n",
       "    </tr>\n",
       "    <tr>\n",
       "      <th>Singapore</th>\n",
       "      <td>3.9</td>\n",
       "    </tr>\n",
       "    <tr>\n",
       "      <th>Gibraltar</th>\n",
       "      <td>5.0</td>\n",
       "    </tr>\n",
       "  </tbody>\n",
       "</table>\n",
       "</div>"
      ],
      "text/plain": [
       "                      average population density ranking\n",
       "Country Name                                            \n",
       "Macao SAR, China                                     1.5\n",
       "Monaco                                               1.5\n",
       "Hong Kong SAR, China                                 3.1\n",
       "Singapore                                            3.9\n",
       "Gibraltar                                            5.0"
      ]
     },
     "execution_count": 24,
     "metadata": {},
     "output_type": "execute_result"
    }
   ],
   "source": [
    "population_rank = gapminder_df.loc[:, ['Population density (people per sq. km of land area)', \n",
    "                                            'Country Name', 'Year']]\n",
    "population_rank['Population density (people per sq. km of land area)'].dropna(inplace=True)\n",
    "population_rank['average population density ranking'] = population_rank.groupby('Year')\\\n",
    "                                               ['Population density (people per sq. km of land area)']\\\n",
    "                                                .rank(ascending=False)\n",
    "population_rank = pd.DataFrame(population_rank.groupby(\"Country Name\")\n",
    "                             ['average population density ranking'].mean().sort_values())\n",
    "population_rank.head()"
   ]
  },
  {
   "cell_type": "markdown",
   "id": "ee84922c",
   "metadata": {},
   "source": [
    "As we can see `Macao SAR, China` and `Monaco` both with avg. `population_density_ranking` of `1.5` have the highest average ranking for `'Population density (people per sq. km of land area)'` across all years."
   ]
  },
  {
   "cell_type": "markdown",
   "id": "3037dd6c",
   "metadata": {},
   "source": [
    "**Q9: What country (or countries) has shown the greatest increase in `'Life expectancy at birth, total (years)'` since `1962`?**"
   ]
  },
  {
   "cell_type": "code",
   "execution_count": 25,
   "id": "1ee4d229",
   "metadata": {},
   "outputs": [
    {
     "data": {
      "text/html": [
       "<div>\n",
       "<style scoped>\n",
       "    .dataframe tbody tr th:only-of-type {\n",
       "        vertical-align: middle;\n",
       "    }\n",
       "\n",
       "    .dataframe tbody tr th {\n",
       "        vertical-align: top;\n",
       "    }\n",
       "\n",
       "    .dataframe thead th {\n",
       "        text-align: right;\n",
       "    }\n",
       "</style>\n",
       "<table border=\"1\" class=\"dataframe\">\n",
       "  <thead>\n",
       "    <tr style=\"text-align: right;\">\n",
       "      <th></th>\n",
       "      <th>Increase in life expectancy in years</th>\n",
       "    </tr>\n",
       "    <tr>\n",
       "      <th>Country Name</th>\n",
       "      <th></th>\n",
       "    </tr>\n",
       "  </thead>\n",
       "  <tbody>\n",
       "    <tr>\n",
       "      <th>Maldives</th>\n",
       "      <td>36.916146</td>\n",
       "    </tr>\n",
       "    <tr>\n",
       "      <th>Bhutan</th>\n",
       "      <td>33.198951</td>\n",
       "    </tr>\n",
       "    <tr>\n",
       "      <th>Timor-Leste</th>\n",
       "      <td>31.085146</td>\n",
       "    </tr>\n",
       "    <tr>\n",
       "      <th>Tunisia</th>\n",
       "      <td>30.860756</td>\n",
       "    </tr>\n",
       "    <tr>\n",
       "      <th>Oman</th>\n",
       "      <td>30.823098</td>\n",
       "    </tr>\n",
       "  </tbody>\n",
       "</table>\n",
       "</div>"
      ],
      "text/plain": [
       "              Increase in life expectancy in years\n",
       "Country Name                                      \n",
       "Maldives                                 36.916146\n",
       "Bhutan                                   33.198951\n",
       "Timor-Leste                              31.085146\n",
       "Tunisia                                  30.860756\n",
       "Oman                                     30.823098"
      ]
     },
     "execution_count": 25,
     "metadata": {},
     "output_type": "execute_result"
    }
   ],
   "source": [
    "life_expectancy = gapminder_df.copy().pivot(index='Country Name', \n",
    "                                          columns='Year', \n",
    "                                          values='Life expectancy at birth, total (years)').dropna()\n",
    "life_expectancy[\"Increase in life expectancy in years\"] = life_expectancy[2007] - life_expectancy[1962]\n",
    "life_expectancy = pd.DataFrame(life_expectancy[\"Increase in life expectancy in years\"]\n",
    "                             .sort_values(ascending=False))\n",
    "life_expectancy.head()"
   ]
  },
  {
   "cell_type": "markdown",
   "id": "87ce06af",
   "metadata": {},
   "source": [
    "We can see that `Maldives` had the greatest increase in `'Life expectancy at birth, total (years)'` since `1962` with increase of `36.916` from `1962` to `2007`."
   ]
  }
 ],
 "metadata": {
  "kernelspec": {
   "display_name": "Python 3 (ipykernel)",
   "language": "python",
   "name": "python3"
  },
  "language_info": {
   "codemirror_mode": {
    "name": "ipython",
    "version": 3
   },
   "file_extension": ".py",
   "mimetype": "text/x-python",
   "name": "python",
   "nbconvert_exporter": "python",
   "pygments_lexer": "ipython3",
   "version": "3.8.8"
  }
 },
 "nbformat": 4,
 "nbformat_minor": 5
}
